{
  "nbformat": 4,
  "nbformat_minor": 0,
  "metadata": {
    "colab": {
      "name": "AAMLP - Cross-validation.ipynb",
      "provenance": [],
      "collapsed_sections": [],
      "authorship_tag": "ABX9TyOQHuAqeRfimgHUVTJQNV0g",
      "include_colab_link": true
    },
    "kernelspec": {
      "name": "python3",
      "display_name": "Python 3"
    }
  },
  "cells": [
    {
      "cell_type": "markdown",
      "metadata": {
        "id": "view-in-github",
        "colab_type": "text"
      },
      "source": [
        "<a href=\"https://colab.research.google.com/github/miguelsmachado/Aproching_any_ML_probloem/blob/main/AAMLP_Cross_validation.ipynb\" target=\"_parent\"><img src=\"https://colab.research.google.com/assets/colab-badge.svg\" alt=\"Open In Colab\"/></a>"
      ]
    },
    {
      "cell_type": "markdown",
      "metadata": {
        "id": "FBOvAp60ETH7"
      },
      "source": [
        "# Introdução"
      ]
    },
    {
      "cell_type": "markdown",
      "metadata": {
        "id": "i7Qw7OYKEXYj"
      },
      "source": [
        "Antes de falarmos sobre Cross-validation, é muito importante entendermos o significado de `overfitting`.\n",
        "\n",
        "Overfitting é quando um modelo se adequa perfeitamente nos dados de treino e muito mal nos dados de teste.\n",
        "\n",
        "Para entendermos melhor o que está ocorrendo, vamos usar um data set que trata sobre a nota dos vinhos baseado em sua características."
      ]
    },
    {
      "cell_type": "code",
      "metadata": {
        "id": "2Zy06gmYD928"
      },
      "source": [
        "import pandas as pd"
      ],
      "execution_count": 60,
      "outputs": []
    },
    {
      "cell_type": "code",
      "metadata": {
        "id": "RffpT1MfJCWC"
      },
      "source": [
        "import warnings\n",
        "warnings.filterwarnings(\"ignore\")"
      ],
      "execution_count": 61,
      "outputs": []
    },
    {
      "cell_type": "code",
      "metadata": {
        "id": "bXHdTinyFL6b"
      },
      "source": [
        "df = pd.read_csv(\"https://raw.githubusercontent.com/miguelsmachado/Aproching_any_ML_probloem/main/datasets/winequality-red.csv\", sep=';')"
      ],
      "execution_count": 62,
      "outputs": []
    },
    {
      "cell_type": "code",
      "metadata": {
        "colab": {
          "base_uri": "https://localhost:8080/",
          "height": 221
        },
        "id": "V_CJpPAeGnxF",
        "outputId": "d1f7c871-522d-4f36-e72f-79f9c479fc51"
      },
      "source": [
        "df.head()"
      ],
      "execution_count": 63,
      "outputs": [
        {
          "output_type": "execute_result",
          "data": {
            "text/html": [
              "<div>\n",
              "<style scoped>\n",
              "    .dataframe tbody tr th:only-of-type {\n",
              "        vertical-align: middle;\n",
              "    }\n",
              "\n",
              "    .dataframe tbody tr th {\n",
              "        vertical-align: top;\n",
              "    }\n",
              "\n",
              "    .dataframe thead th {\n",
              "        text-align: right;\n",
              "    }\n",
              "</style>\n",
              "<table border=\"1\" class=\"dataframe\">\n",
              "  <thead>\n",
              "    <tr style=\"text-align: right;\">\n",
              "      <th></th>\n",
              "      <th>fixed acidity</th>\n",
              "      <th>volatile acidity</th>\n",
              "      <th>citric acid</th>\n",
              "      <th>residual sugar</th>\n",
              "      <th>chlorides</th>\n",
              "      <th>free sulfur dioxide</th>\n",
              "      <th>total sulfur dioxide</th>\n",
              "      <th>density</th>\n",
              "      <th>pH</th>\n",
              "      <th>sulphates</th>\n",
              "      <th>alcohol</th>\n",
              "      <th>quality</th>\n",
              "    </tr>\n",
              "  </thead>\n",
              "  <tbody>\n",
              "    <tr>\n",
              "      <th>0</th>\n",
              "      <td>7.4</td>\n",
              "      <td>0.70</td>\n",
              "      <td>0.00</td>\n",
              "      <td>1.9</td>\n",
              "      <td>0.076</td>\n",
              "      <td>11.0</td>\n",
              "      <td>34.0</td>\n",
              "      <td>0.9978</td>\n",
              "      <td>3.51</td>\n",
              "      <td>0.56</td>\n",
              "      <td>9.4</td>\n",
              "      <td>5</td>\n",
              "    </tr>\n",
              "    <tr>\n",
              "      <th>1</th>\n",
              "      <td>7.8</td>\n",
              "      <td>0.88</td>\n",
              "      <td>0.00</td>\n",
              "      <td>2.6</td>\n",
              "      <td>0.098</td>\n",
              "      <td>25.0</td>\n",
              "      <td>67.0</td>\n",
              "      <td>0.9968</td>\n",
              "      <td>3.20</td>\n",
              "      <td>0.68</td>\n",
              "      <td>9.8</td>\n",
              "      <td>5</td>\n",
              "    </tr>\n",
              "    <tr>\n",
              "      <th>2</th>\n",
              "      <td>7.8</td>\n",
              "      <td>0.76</td>\n",
              "      <td>0.04</td>\n",
              "      <td>2.3</td>\n",
              "      <td>0.092</td>\n",
              "      <td>15.0</td>\n",
              "      <td>54.0</td>\n",
              "      <td>0.9970</td>\n",
              "      <td>3.26</td>\n",
              "      <td>0.65</td>\n",
              "      <td>9.8</td>\n",
              "      <td>5</td>\n",
              "    </tr>\n",
              "    <tr>\n",
              "      <th>3</th>\n",
              "      <td>11.2</td>\n",
              "      <td>0.28</td>\n",
              "      <td>0.56</td>\n",
              "      <td>1.9</td>\n",
              "      <td>0.075</td>\n",
              "      <td>17.0</td>\n",
              "      <td>60.0</td>\n",
              "      <td>0.9980</td>\n",
              "      <td>3.16</td>\n",
              "      <td>0.58</td>\n",
              "      <td>9.8</td>\n",
              "      <td>6</td>\n",
              "    </tr>\n",
              "    <tr>\n",
              "      <th>4</th>\n",
              "      <td>7.4</td>\n",
              "      <td>0.70</td>\n",
              "      <td>0.00</td>\n",
              "      <td>1.9</td>\n",
              "      <td>0.076</td>\n",
              "      <td>11.0</td>\n",
              "      <td>34.0</td>\n",
              "      <td>0.9978</td>\n",
              "      <td>3.51</td>\n",
              "      <td>0.56</td>\n",
              "      <td>9.4</td>\n",
              "      <td>5</td>\n",
              "    </tr>\n",
              "  </tbody>\n",
              "</table>\n",
              "</div>"
            ],
            "text/plain": [
              "   fixed acidity  volatile acidity  citric acid  ...  sulphates  alcohol  quality\n",
              "0            7.4              0.70         0.00  ...       0.56      9.4        5\n",
              "1            7.8              0.88         0.00  ...       0.68      9.8        5\n",
              "2            7.8              0.76         0.04  ...       0.65      9.8        5\n",
              "3           11.2              0.28         0.56  ...       0.58      9.8        6\n",
              "4            7.4              0.70         0.00  ...       0.56      9.4        5\n",
              "\n",
              "[5 rows x 12 columns]"
            ]
          },
          "metadata": {
            "tags": []
          },
          "execution_count": 63
        }
      ]
    },
    {
      "cell_type": "markdown",
      "metadata": {
        "id": "uFffeyyMIr42"
      },
      "source": [
        "Vamos dar uma olhada nos valores da coluna quality:"
      ]
    },
    {
      "cell_type": "code",
      "metadata": {
        "colab": {
          "base_uri": "https://localhost:8080/"
        },
        "id": "mhz1HmsEIjuw",
        "outputId": "b1731252-e914-4bb2-9f3e-a3141a0a7793"
      },
      "source": [
        "df.quality.unique()"
      ],
      "execution_count": 64,
      "outputs": [
        {
          "output_type": "execute_result",
          "data": {
            "text/plain": [
              "array([5, 6, 7, 4, 8, 3])"
            ]
          },
          "metadata": {
            "tags": []
          },
          "execution_count": 64
        }
      ]
    },
    {
      "cell_type": "markdown",
      "metadata": {
        "id": "bX_9CahaI4hT"
      },
      "source": [
        "Para facilitar o entendimento, vamos trocar esses 6 valores por valores de 0 a 5"
      ]
    },
    {
      "cell_type": "code",
      "metadata": {
        "colab": {
          "base_uri": "https://localhost:8080/"
        },
        "id": "n9ImE04OI0RL",
        "outputId": "a1971c34-f996-43ea-8bbe-d331143daa4b"
      },
      "source": [
        "quality_map = {\n",
        "    3: 0,\n",
        "    4: 1,\n",
        "    5: 2,\n",
        "    6: 3,\n",
        "    7: 4,\n",
        "    8: 5\n",
        "}\n",
        "\n",
        "df.quality = df.quality.map(quality_map)\n",
        "\n",
        "df.quality.unique()"
      ],
      "execution_count": 65,
      "outputs": [
        {
          "output_type": "execute_result",
          "data": {
            "text/plain": [
              "array([2, 3, 4, 1, 5, 0])"
            ]
          },
          "metadata": {
            "tags": []
          },
          "execution_count": 65
        }
      ]
    },
    {
      "cell_type": "markdown",
      "metadata": {
        "id": "mBB91wjsLvgI"
      },
      "source": [
        "### Separando em dados de treino e teste\n",
        "\n",
        "1º Vamos embaralhar o dataFrame;\n",
        "\n",
        "2º Já vamos reindexar o DataFrame:"
      ]
    },
    {
      "cell_type": "code",
      "metadata": {
        "colab": {
          "base_uri": "https://localhost:8080/",
          "height": 221
        },
        "id": "I7mwhsfAJm2N",
        "outputId": "ae7ba5c5-3431-400c-9789-fa6b98489717"
      },
      "source": [
        "# Ao usarmos o comando sample, temos que escolher quantos dados serão retornados na amostra.\n",
        "# Podemos fazer isso com n= e passarmos o valor exato ou usamos o parâmetro\n",
        "# frac= e passamos a fração que queremos. Como queremos o DataSet todo, vamos usar\n",
        "# frac = 1\n",
        "\n",
        "# O parâmetro drop= recebe um bool e retorna ou não o antigo índice dentro do dataframe\n",
        "\n",
        "df = df.sample(frac=1).reset_index(drop = True)\n",
        "\n",
        "df.head()"
      ],
      "execution_count": 66,
      "outputs": [
        {
          "output_type": "execute_result",
          "data": {
            "text/html": [
              "<div>\n",
              "<style scoped>\n",
              "    .dataframe tbody tr th:only-of-type {\n",
              "        vertical-align: middle;\n",
              "    }\n",
              "\n",
              "    .dataframe tbody tr th {\n",
              "        vertical-align: top;\n",
              "    }\n",
              "\n",
              "    .dataframe thead th {\n",
              "        text-align: right;\n",
              "    }\n",
              "</style>\n",
              "<table border=\"1\" class=\"dataframe\">\n",
              "  <thead>\n",
              "    <tr style=\"text-align: right;\">\n",
              "      <th></th>\n",
              "      <th>fixed acidity</th>\n",
              "      <th>volatile acidity</th>\n",
              "      <th>citric acid</th>\n",
              "      <th>residual sugar</th>\n",
              "      <th>chlorides</th>\n",
              "      <th>free sulfur dioxide</th>\n",
              "      <th>total sulfur dioxide</th>\n",
              "      <th>density</th>\n",
              "      <th>pH</th>\n",
              "      <th>sulphates</th>\n",
              "      <th>alcohol</th>\n",
              "      <th>quality</th>\n",
              "    </tr>\n",
              "  </thead>\n",
              "  <tbody>\n",
              "    <tr>\n",
              "      <th>0</th>\n",
              "      <td>7.5</td>\n",
              "      <td>0.510</td>\n",
              "      <td>0.02</td>\n",
              "      <td>1.7</td>\n",
              "      <td>0.084</td>\n",
              "      <td>13.0</td>\n",
              "      <td>31.0</td>\n",
              "      <td>0.99538</td>\n",
              "      <td>3.36</td>\n",
              "      <td>0.54</td>\n",
              "      <td>10.5</td>\n",
              "      <td>3</td>\n",
              "    </tr>\n",
              "    <tr>\n",
              "      <th>1</th>\n",
              "      <td>7.3</td>\n",
              "      <td>0.650</td>\n",
              "      <td>0.00</td>\n",
              "      <td>1.2</td>\n",
              "      <td>0.065</td>\n",
              "      <td>15.0</td>\n",
              "      <td>21.0</td>\n",
              "      <td>0.99460</td>\n",
              "      <td>3.39</td>\n",
              "      <td>0.47</td>\n",
              "      <td>10.0</td>\n",
              "      <td>4</td>\n",
              "    </tr>\n",
              "    <tr>\n",
              "      <th>2</th>\n",
              "      <td>7.9</td>\n",
              "      <td>0.885</td>\n",
              "      <td>0.03</td>\n",
              "      <td>1.8</td>\n",
              "      <td>0.058</td>\n",
              "      <td>4.0</td>\n",
              "      <td>8.0</td>\n",
              "      <td>0.99720</td>\n",
              "      <td>3.36</td>\n",
              "      <td>0.33</td>\n",
              "      <td>9.1</td>\n",
              "      <td>1</td>\n",
              "    </tr>\n",
              "    <tr>\n",
              "      <th>3</th>\n",
              "      <td>7.5</td>\n",
              "      <td>0.380</td>\n",
              "      <td>0.57</td>\n",
              "      <td>2.3</td>\n",
              "      <td>0.106</td>\n",
              "      <td>5.0</td>\n",
              "      <td>12.0</td>\n",
              "      <td>0.99605</td>\n",
              "      <td>3.36</td>\n",
              "      <td>0.55</td>\n",
              "      <td>11.4</td>\n",
              "      <td>3</td>\n",
              "    </tr>\n",
              "    <tr>\n",
              "      <th>4</th>\n",
              "      <td>8.8</td>\n",
              "      <td>0.610</td>\n",
              "      <td>0.14</td>\n",
              "      <td>2.4</td>\n",
              "      <td>0.067</td>\n",
              "      <td>10.0</td>\n",
              "      <td>42.0</td>\n",
              "      <td>0.99690</td>\n",
              "      <td>3.19</td>\n",
              "      <td>0.59</td>\n",
              "      <td>9.5</td>\n",
              "      <td>2</td>\n",
              "    </tr>\n",
              "  </tbody>\n",
              "</table>\n",
              "</div>"
            ],
            "text/plain": [
              "   fixed acidity  volatile acidity  citric acid  ...  sulphates  alcohol  quality\n",
              "0            7.5             0.510         0.02  ...       0.54     10.5        3\n",
              "1            7.3             0.650         0.00  ...       0.47     10.0        4\n",
              "2            7.9             0.885         0.03  ...       0.33      9.1        1\n",
              "3            7.5             0.380         0.57  ...       0.55     11.4        3\n",
              "4            8.8             0.610         0.14  ...       0.59      9.5        2\n",
              "\n",
              "[5 rows x 12 columns]"
            ]
          },
          "metadata": {
            "tags": []
          },
          "execution_count": 66
        }
      ]
    },
    {
      "cell_type": "markdown",
      "metadata": {
        "id": "DORYvVAbN7YQ"
      },
      "source": [
        "3º Separando em X e y"
      ]
    },
    {
      "cell_type": "code",
      "metadata": {
        "colab": {
          "base_uri": "https://localhost:8080/",
          "height": 204
        },
        "id": "zgeHF2D5J9g4",
        "outputId": "13c30a07-a4a9-4766-d343-2938069eee60"
      },
      "source": [
        "X = df.drop('quality', axis=1)\n",
        "X.head()"
      ],
      "execution_count": 67,
      "outputs": [
        {
          "output_type": "execute_result",
          "data": {
            "text/html": [
              "<div>\n",
              "<style scoped>\n",
              "    .dataframe tbody tr th:only-of-type {\n",
              "        vertical-align: middle;\n",
              "    }\n",
              "\n",
              "    .dataframe tbody tr th {\n",
              "        vertical-align: top;\n",
              "    }\n",
              "\n",
              "    .dataframe thead th {\n",
              "        text-align: right;\n",
              "    }\n",
              "</style>\n",
              "<table border=\"1\" class=\"dataframe\">\n",
              "  <thead>\n",
              "    <tr style=\"text-align: right;\">\n",
              "      <th></th>\n",
              "      <th>fixed acidity</th>\n",
              "      <th>volatile acidity</th>\n",
              "      <th>citric acid</th>\n",
              "      <th>residual sugar</th>\n",
              "      <th>chlorides</th>\n",
              "      <th>free sulfur dioxide</th>\n",
              "      <th>total sulfur dioxide</th>\n",
              "      <th>density</th>\n",
              "      <th>pH</th>\n",
              "      <th>sulphates</th>\n",
              "      <th>alcohol</th>\n",
              "    </tr>\n",
              "  </thead>\n",
              "  <tbody>\n",
              "    <tr>\n",
              "      <th>0</th>\n",
              "      <td>7.5</td>\n",
              "      <td>0.510</td>\n",
              "      <td>0.02</td>\n",
              "      <td>1.7</td>\n",
              "      <td>0.084</td>\n",
              "      <td>13.0</td>\n",
              "      <td>31.0</td>\n",
              "      <td>0.99538</td>\n",
              "      <td>3.36</td>\n",
              "      <td>0.54</td>\n",
              "      <td>10.5</td>\n",
              "    </tr>\n",
              "    <tr>\n",
              "      <th>1</th>\n",
              "      <td>7.3</td>\n",
              "      <td>0.650</td>\n",
              "      <td>0.00</td>\n",
              "      <td>1.2</td>\n",
              "      <td>0.065</td>\n",
              "      <td>15.0</td>\n",
              "      <td>21.0</td>\n",
              "      <td>0.99460</td>\n",
              "      <td>3.39</td>\n",
              "      <td>0.47</td>\n",
              "      <td>10.0</td>\n",
              "    </tr>\n",
              "    <tr>\n",
              "      <th>2</th>\n",
              "      <td>7.9</td>\n",
              "      <td>0.885</td>\n",
              "      <td>0.03</td>\n",
              "      <td>1.8</td>\n",
              "      <td>0.058</td>\n",
              "      <td>4.0</td>\n",
              "      <td>8.0</td>\n",
              "      <td>0.99720</td>\n",
              "      <td>3.36</td>\n",
              "      <td>0.33</td>\n",
              "      <td>9.1</td>\n",
              "    </tr>\n",
              "    <tr>\n",
              "      <th>3</th>\n",
              "      <td>7.5</td>\n",
              "      <td>0.380</td>\n",
              "      <td>0.57</td>\n",
              "      <td>2.3</td>\n",
              "      <td>0.106</td>\n",
              "      <td>5.0</td>\n",
              "      <td>12.0</td>\n",
              "      <td>0.99605</td>\n",
              "      <td>3.36</td>\n",
              "      <td>0.55</td>\n",
              "      <td>11.4</td>\n",
              "    </tr>\n",
              "    <tr>\n",
              "      <th>4</th>\n",
              "      <td>8.8</td>\n",
              "      <td>0.610</td>\n",
              "      <td>0.14</td>\n",
              "      <td>2.4</td>\n",
              "      <td>0.067</td>\n",
              "      <td>10.0</td>\n",
              "      <td>42.0</td>\n",
              "      <td>0.99690</td>\n",
              "      <td>3.19</td>\n",
              "      <td>0.59</td>\n",
              "      <td>9.5</td>\n",
              "    </tr>\n",
              "  </tbody>\n",
              "</table>\n",
              "</div>"
            ],
            "text/plain": [
              "   fixed acidity  volatile acidity  citric acid  ...    pH  sulphates  alcohol\n",
              "0            7.5             0.510         0.02  ...  3.36       0.54     10.5\n",
              "1            7.3             0.650         0.00  ...  3.39       0.47     10.0\n",
              "2            7.9             0.885         0.03  ...  3.36       0.33      9.1\n",
              "3            7.5             0.380         0.57  ...  3.36       0.55     11.4\n",
              "4            8.8             0.610         0.14  ...  3.19       0.59      9.5\n",
              "\n",
              "[5 rows x 11 columns]"
            ]
          },
          "metadata": {
            "tags": []
          },
          "execution_count": 67
        }
      ]
    },
    {
      "cell_type": "code",
      "metadata": {
        "colab": {
          "base_uri": "https://localhost:8080/"
        },
        "id": "kGJwzAIrOIvj",
        "outputId": "83eb57b4-5df7-497a-92ce-84604131bcb5"
      },
      "source": [
        "y = df.quality\n",
        "y.head()"
      ],
      "execution_count": 68,
      "outputs": [
        {
          "output_type": "execute_result",
          "data": {
            "text/plain": [
              "0    3\n",
              "1    4\n",
              "2    1\n",
              "3    3\n",
              "4    2\n",
              "Name: quality, dtype: int64"
            ]
          },
          "metadata": {
            "tags": []
          },
          "execution_count": 68
        }
      ]
    },
    {
      "cell_type": "markdown",
      "metadata": {
        "id": "fB3Hg89DRcHT"
      },
      "source": [
        "4º Separando em treino e teste:"
      ]
    },
    {
      "cell_type": "code",
      "metadata": {
        "id": "zn932QM3Rg_v"
      },
      "source": [
        "X_train = X.iloc[:1000]\n",
        "X_test = X.iloc[1000:]\n",
        "\n",
        "y_train = y.iloc[:1000]\n",
        "y_test = y.iloc[1000:]"
      ],
      "execution_count": 69,
      "outputs": []
    },
    {
      "cell_type": "markdown",
      "metadata": {
        "id": "GkCwBTuuOsc-"
      },
      "source": [
        "(2ª forma de fazer)\n",
        "\n",
        "4º Separando em treino e teste:\n"
      ]
    },
    {
      "cell_type": "code",
      "metadata": {
        "id": "1boeIqyVOZTx"
      },
      "source": [
        "from sklearn.model_selection import train_test_split"
      ],
      "execution_count": 70,
      "outputs": []
    },
    {
      "cell_type": "code",
      "metadata": {
        "id": "7TRG7ryLQx0x"
      },
      "source": [
        "X_train_, X_test_, y_train_, y_test_ = train_test_split(X, y, test_size=0.33, random_state=42)"
      ],
      "execution_count": 71,
      "outputs": []
    },
    {
      "cell_type": "markdown",
      "metadata": {
        "id": "ftMHB8meTX1-"
      },
      "source": [
        "## Criando o classificador"
      ]
    },
    {
      "cell_type": "code",
      "metadata": {
        "id": "ML97mVTARFVl"
      },
      "source": [
        "from sklearn import tree"
      ],
      "execution_count": 72,
      "outputs": []
    },
    {
      "cell_type": "markdown",
      "metadata": {
        "id": "DgYKsIH5TqB5"
      },
      "source": [
        "Inicialmente, iremos usar um Decision Tree Classifier com profundidade de 3"
      ]
    },
    {
      "cell_type": "code",
      "metadata": {
        "id": "WqM6-MR9TfSF"
      },
      "source": [
        "clf = tree.DecisionTreeClassifier(max_depth=3)"
      ],
      "execution_count": 73,
      "outputs": []
    },
    {
      "cell_type": "code",
      "metadata": {
        "colab": {
          "base_uri": "https://localhost:8080/"
        },
        "id": "qCsUAz8zTk4P",
        "outputId": "41ec827e-fd85-44c5-9055-7bbf702ba805"
      },
      "source": [
        "clf.fit(X_train, y_train)"
      ],
      "execution_count": 74,
      "outputs": [
        {
          "output_type": "execute_result",
          "data": {
            "text/plain": [
              "DecisionTreeClassifier(ccp_alpha=0.0, class_weight=None, criterion='gini',\n",
              "                       max_depth=3, max_features=None, max_leaf_nodes=None,\n",
              "                       min_impurity_decrease=0.0, min_impurity_split=None,\n",
              "                       min_samples_leaf=1, min_samples_split=2,\n",
              "                       min_weight_fraction_leaf=0.0, presort='deprecated',\n",
              "                       random_state=None, splitter='best')"
            ]
          },
          "metadata": {
            "tags": []
          },
          "execution_count": 74
        }
      ]
    },
    {
      "cell_type": "markdown",
      "metadata": {
        "id": "AwGRyLYqXXR_"
      },
      "source": [
        "### Verificando as Predições"
      ]
    },
    {
      "cell_type": "code",
      "metadata": {
        "id": "PZQRzotwT96f"
      },
      "source": [
        "train_predictions = clf.predict(X_train)\n",
        "\n",
        "test_predictions = clf.predict(X_test)"
      ],
      "execution_count": 75,
      "outputs": []
    },
    {
      "cell_type": "markdown",
      "metadata": {
        "id": "iC5pjhwwYE-C"
      },
      "source": [
        "### Verificando a acurácia"
      ]
    },
    {
      "cell_type": "code",
      "metadata": {
        "id": "T41Y9Qm8Ya3P"
      },
      "source": [
        "from sklearn import metrics"
      ],
      "execution_count": 76,
      "outputs": []
    },
    {
      "cell_type": "markdown",
      "metadata": {
        "id": "2KOkmR91Y7Cm"
      },
      "source": [
        "Acurácia de treino"
      ]
    },
    {
      "cell_type": "code",
      "metadata": {
        "colab": {
          "base_uri": "https://localhost:8080/"
        },
        "id": "h82Oiqj9XsBQ",
        "outputId": "1015916e-98aa-4856-b6d4-44acb874217a"
      },
      "source": [
        "train_accuracy = metrics.accuracy_score(y_train, train_predictions)\n",
        "train_accuracy"
      ],
      "execution_count": 77,
      "outputs": [
        {
          "output_type": "execute_result",
          "data": {
            "text/plain": [
              "0.605"
            ]
          },
          "metadata": {
            "tags": []
          },
          "execution_count": 77
        }
      ]
    },
    {
      "cell_type": "markdown",
      "metadata": {
        "id": "dmiCniqOY9pA"
      },
      "source": [
        "Acurácia de teste"
      ]
    },
    {
      "cell_type": "code",
      "metadata": {
        "colab": {
          "base_uri": "https://localhost:8080/"
        },
        "id": "xwhEI3JUYthi",
        "outputId": "90ab9f62-c617-41a9-8503-8848af9e2fed"
      },
      "source": [
        "test_accuracy = metrics.accuracy_score(y_test, test_predictions)\n",
        "test_accuracy"
      ],
      "execution_count": 78,
      "outputs": [
        {
          "output_type": "execute_result",
          "data": {
            "text/plain": [
              "0.5659432387312187"
            ]
          },
          "metadata": {
            "tags": []
          },
          "execution_count": 78
        }
      ]
    },
    {
      "cell_type": "markdown",
      "metadata": {
        "id": "sCAm_ZfltiQM"
      },
      "source": [
        "### Teste variados com diferentes valores para o `maxdepth`"
      ]
    },
    {
      "cell_type": "code",
      "metadata": {
        "id": "-BsuXaE7Y2rj"
      },
      "source": [
        "train_accuracies = [0.5]\n",
        "test_accuracies = [0.5]\n",
        "index_accuracies = [0]"
      ],
      "execution_count": 79,
      "outputs": []
    },
    {
      "cell_type": "code",
      "metadata": {
        "id": "KidUopyct-iG"
      },
      "source": [
        "for depth in range(1, 30):\n",
        "  #criando o classificador\n",
        "  clf = tree.DecisionTreeClassifier(max_depth=depth)\n",
        "  \n",
        "  #treinando o classificador\n",
        "  clf.fit(X_train, y_train)\n",
        "\n",
        "  # realizando as predições de treino e teste\n",
        "  train_predictions = clf.predict(X_train)\n",
        "  test_predictions = clf.predict(X_test)\n",
        "\n",
        "  # calculando as acurácias\n",
        "  train_accuracy = metrics.accuracy_score(y_train, train_predictions)\n",
        "  test_accuracy = metrics.accuracy_score(y_test, test_predictions)\n",
        "\n",
        "  # adicionando os valores nas listas\n",
        "  train_accuracies.append(train_accuracy)\n",
        "  test_accuracies.append(test_accuracy)\n",
        "  index_accuracies.append(depth)\n"
      ],
      "execution_count": 80,
      "outputs": []
    },
    {
      "cell_type": "markdown",
      "metadata": {
        "id": "2mZahFqMgwRu"
      },
      "source": [
        "Realizando o plot:"
      ]
    },
    {
      "cell_type": "code",
      "metadata": {
        "id": "byB_-QxjvGLz"
      },
      "source": [
        "import seaborn as sns\n",
        "import matplotlib.pyplot as plt\n",
        "\n",
        "sns.set()\n",
        "sns.set_palette(\"Dark2\")\n",
        "sns.set_style(\"darkgrid\")"
      ],
      "execution_count": 81,
      "outputs": []
    },
    {
      "cell_type": "code",
      "metadata": {
        "colab": {
          "base_uri": "https://localhost:8080/",
          "height": 437
        },
        "id": "tr9EA7rUvcbF",
        "outputId": "45b7982b-95ef-498c-ff0f-c2f64a29eefd"
      },
      "source": [
        "ax = sns.lineplot(x=index_accuracies, y=train_accuracies, label='Train')\n",
        "ax = sns.lineplot(x=index_accuracies, y=test_accuracies, label='Test')\n",
        "\n",
        "ax.figure.set_size_inches(12,6)\n",
        "ax.set_title(\"Acurácia de treino x Acurácia de teste\")\n",
        "ax.set_xlabel(\"Depth of tree classifier\")\n",
        "ax.set_ylabel(\"Accuracy\")\n",
        "ax.legend()\n",
        "\n",
        "plt.tight_layout()"
      ],
      "execution_count": 82,
      "outputs": [
        {
          "output_type": "display_data",
          "data": {
            "image/png": "[encoded data removed]",
            "text/plain": [
              "<Figure size 864x432 with 1 Axes>"
            ]
          },
          "metadata": {
            "tags": []
          }
        }
      ]
    },
    {
      "cell_type": "markdown",
      "metadata": {
        "id": "Dsv8O_1pVZzC"
      },
      "source": [
        "Aqui podemos ver perfeitamente como a acurrácia de treino vai melhorando cada vez mais quando aumentamos a profundidade da árvore. Mas em contrapartida, a mesma otimização não ocorre nos dados de teste.\n",
        "\n",
        "Isso é o **overfitting**"
      ]
    },
    {
      "cell_type": "markdown",
      "metadata": {
        "id": "v16-S9lnXO0G"
      },
      "source": [
        "# Cross-validation"
      ]
    },
    {
      "cell_type": "markdown",
      "metadata": {
        "id": "qOBF9n7iXRTT"
      },
      "source": [
        "Para solucionarmos esse problema, vamos usar o cross-validation. Essa técnica divide os dados em vários grupo e aplica os treinos em testes nesses grupos.\n",
        "\n",
        "Dessa forma, todos os dados são utilizados tanto para treino como para teste.\n",
        "\n",
        "<center><img src=\"https://scikit-learn.org/stable/_images/grid_search_cross_validation.png\" height=\"300px\"></center>"
      ]
    },
    {
      "cell_type": "markdown",
      "metadata": {
        "id": "0tjEKneFpslc"
      },
      "source": [
        "## **Kfold** \"normal\""
      ]
    },
    {
      "cell_type": "markdown",
      "metadata": {
        "id": "Uo7Ram3EPlOS"
      },
      "source": [
        "### Criando os *folds*"
      ]
    },
    {
      "cell_type": "markdown",
      "metadata": {
        "id": "VJ5WLuvcn-wM"
      },
      "source": [
        "Importando a biblioteca model selection"
      ]
    },
    {
      "cell_type": "code",
      "metadata": {
        "id": "nKqDK1N5QFRC"
      },
      "source": [
        "from sklearn import model_selection"
      ],
      "execution_count": 83,
      "outputs": []
    },
    {
      "cell_type": "markdown",
      "metadata": {
        "id": "pXbrdiTUqsqL"
      },
      "source": [
        "Resetando os valores para X e y:"
      ]
    },
    {
      "cell_type": "code",
      "metadata": {
        "id": "BZ3M3HHdt5KY"
      },
      "source": [
        "X = df.drop('quality', axis=1)\n",
        "y = df.quality"
      ],
      "execution_count": 84,
      "outputs": []
    },
    {
      "cell_type": "code",
      "metadata": {
        "id": "kANuECYcXOFp",
        "colab": {
          "base_uri": "https://localhost:8080/",
          "height": 204
        },
        "outputId": "bad16960-d5b6-4ca3-a9e8-8c08a6c55f2b"
      },
      "source": [
        "X['kfold'] = -1\n",
        "X.head()"
      ],
      "execution_count": 85,
      "outputs": [
        {
          "output_type": "execute_result",
          "data": {
            "text/html": [
              "<div>\n",
              "<style scoped>\n",
              "    .dataframe tbody tr th:only-of-type {\n",
              "        vertical-align: middle;\n",
              "    }\n",
              "\n",
              "    .dataframe tbody tr th {\n",
              "        vertical-align: top;\n",
              "    }\n",
              "\n",
              "    .dataframe thead th {\n",
              "        text-align: right;\n",
              "    }\n",
              "</style>\n",
              "<table border=\"1\" class=\"dataframe\">\n",
              "  <thead>\n",
              "    <tr style=\"text-align: right;\">\n",
              "      <th></th>\n",
              "      <th>fixed acidity</th>\n",
              "      <th>volatile acidity</th>\n",
              "      <th>citric acid</th>\n",
              "      <th>residual sugar</th>\n",
              "      <th>chlorides</th>\n",
              "      <th>free sulfur dioxide</th>\n",
              "      <th>total sulfur dioxide</th>\n",
              "      <th>density</th>\n",
              "      <th>pH</th>\n",
              "      <th>sulphates</th>\n",
              "      <th>alcohol</th>\n",
              "      <th>kfold</th>\n",
              "    </tr>\n",
              "  </thead>\n",
              "  <tbody>\n",
              "    <tr>\n",
              "      <th>0</th>\n",
              "      <td>7.5</td>\n",
              "      <td>0.510</td>\n",
              "      <td>0.02</td>\n",
              "      <td>1.7</td>\n",
              "      <td>0.084</td>\n",
              "      <td>13.0</td>\n",
              "      <td>31.0</td>\n",
              "      <td>0.99538</td>\n",
              "      <td>3.36</td>\n",
              "      <td>0.54</td>\n",
              "      <td>10.5</td>\n",
              "      <td>-1</td>\n",
              "    </tr>\n",
              "    <tr>\n",
              "      <th>1</th>\n",
              "      <td>7.3</td>\n",
              "      <td>0.650</td>\n",
              "      <td>0.00</td>\n",
              "      <td>1.2</td>\n",
              "      <td>0.065</td>\n",
              "      <td>15.0</td>\n",
              "      <td>21.0</td>\n",
              "      <td>0.99460</td>\n",
              "      <td>3.39</td>\n",
              "      <td>0.47</td>\n",
              "      <td>10.0</td>\n",
              "      <td>-1</td>\n",
              "    </tr>\n",
              "    <tr>\n",
              "      <th>2</th>\n",
              "      <td>7.9</td>\n",
              "      <td>0.885</td>\n",
              "      <td>0.03</td>\n",
              "      <td>1.8</td>\n",
              "      <td>0.058</td>\n",
              "      <td>4.0</td>\n",
              "      <td>8.0</td>\n",
              "      <td>0.99720</td>\n",
              "      <td>3.36</td>\n",
              "      <td>0.33</td>\n",
              "      <td>9.1</td>\n",
              "      <td>-1</td>\n",
              "    </tr>\n",
              "    <tr>\n",
              "      <th>3</th>\n",
              "      <td>7.5</td>\n",
              "      <td>0.380</td>\n",
              "      <td>0.57</td>\n",
              "      <td>2.3</td>\n",
              "      <td>0.106</td>\n",
              "      <td>5.0</td>\n",
              "      <td>12.0</td>\n",
              "      <td>0.99605</td>\n",
              "      <td>3.36</td>\n",
              "      <td>0.55</td>\n",
              "      <td>11.4</td>\n",
              "      <td>-1</td>\n",
              "    </tr>\n",
              "    <tr>\n",
              "      <th>4</th>\n",
              "      <td>8.8</td>\n",
              "      <td>0.610</td>\n",
              "      <td>0.14</td>\n",
              "      <td>2.4</td>\n",
              "      <td>0.067</td>\n",
              "      <td>10.0</td>\n",
              "      <td>42.0</td>\n",
              "      <td>0.99690</td>\n",
              "      <td>3.19</td>\n",
              "      <td>0.59</td>\n",
              "      <td>9.5</td>\n",
              "      <td>-1</td>\n",
              "    </tr>\n",
              "  </tbody>\n",
              "</table>\n",
              "</div>"
            ],
            "text/plain": [
              "   fixed acidity  volatile acidity  citric acid  ...  sulphates  alcohol  kfold\n",
              "0            7.5             0.510         0.02  ...       0.54     10.5     -1\n",
              "1            7.3             0.650         0.00  ...       0.47     10.0     -1\n",
              "2            7.9             0.885         0.03  ...       0.33      9.1     -1\n",
              "3            7.5             0.380         0.57  ...       0.55     11.4     -1\n",
              "4            8.8             0.610         0.14  ...       0.59      9.5     -1\n",
              "\n",
              "[5 rows x 12 columns]"
            ]
          },
          "metadata": {
            "tags": []
          },
          "execution_count": 85
        }
      ]
    },
    {
      "cell_type": "markdown",
      "metadata": {
        "id": "p0pBc1rVol2C"
      },
      "source": [
        "Fazendo a separação na proporção que queremos que o Kfold divida os dados.\n",
        "\n",
        "Nesse caso, queremos que divida em 5 partes, sendo 4 para treino e 1 para validação"
      ]
    },
    {
      "cell_type": "code",
      "metadata": {
        "id": "m6LPzlAEvhpO"
      },
      "source": [
        "kf = model_selection.KFold(n_splits=5)"
      ],
      "execution_count": 86,
      "outputs": []
    },
    {
      "cell_type": "markdown",
      "metadata": {
        "id": "DvIN1qN2o6fQ"
      },
      "source": [
        "Atribuindo o \"número do fold\" que o modelo criou para entrada na coluna `kfold`"
      ]
    },
    {
      "cell_type": "code",
      "metadata": {
        "id": "M6zb059vP-Pw"
      },
      "source": [
        "# a função split() irá retornar um objeto que pode ser listado (list(kf.split()))\n",
        "# o kf.split() retorna os splits gerados pelo kfold, nesse caso, 5\n",
        "# cada um deles terá, na primeira posicão quais entradas são de treino\n",
        "# e na segunda posição quais são de teste\n",
        "\n",
        "for fold, (trn_, val_) in enumerate(kf.split(X)):\n",
        "  X.loc[val_, 'kfold'] = fold"
      ],
      "execution_count": 87,
      "outputs": []
    },
    {
      "cell_type": "markdown",
      "metadata": {
        "id": "RCIUYGlcpZSt"
      },
      "source": [
        "Vamos embaralhar o dataFrame para podermos ver que os valores de 0 a 4 (os 5 splits) foram distribuídos na coluna `kfold`"
      ]
    },
    {
      "cell_type": "code",
      "metadata": {
        "colab": {
          "base_uri": "https://localhost:8080/",
          "height": 376
        },
        "id": "Td71mzssQiwg",
        "outputId": "e64d926d-2f9b-4086-e8f5-2904fdf1dfe7"
      },
      "source": [
        "X.sample(frac=1).head(10)"
      ],
      "execution_count": 88,
      "outputs": [
        {
          "output_type": "execute_result",
          "data": {
            "text/html": [
              "<div>\n",
              "<style scoped>\n",
              "    .dataframe tbody tr th:only-of-type {\n",
              "        vertical-align: middle;\n",
              "    }\n",
              "\n",
              "    .dataframe tbody tr th {\n",
              "        vertical-align: top;\n",
              "    }\n",
              "\n",
              "    .dataframe thead th {\n",
              "        text-align: right;\n",
              "    }\n",
              "</style>\n",
              "<table border=\"1\" class=\"dataframe\">\n",
              "  <thead>\n",
              "    <tr style=\"text-align: right;\">\n",
              "      <th></th>\n",
              "      <th>fixed acidity</th>\n",
              "      <th>volatile acidity</th>\n",
              "      <th>citric acid</th>\n",
              "      <th>residual sugar</th>\n",
              "      <th>chlorides</th>\n",
              "      <th>free sulfur dioxide</th>\n",
              "      <th>total sulfur dioxide</th>\n",
              "      <th>density</th>\n",
              "      <th>pH</th>\n",
              "      <th>sulphates</th>\n",
              "      <th>alcohol</th>\n",
              "      <th>kfold</th>\n",
              "    </tr>\n",
              "  </thead>\n",
              "  <tbody>\n",
              "    <tr>\n",
              "      <th>1412</th>\n",
              "      <td>6.1</td>\n",
              "      <td>0.210</td>\n",
              "      <td>0.40</td>\n",
              "      <td>1.4</td>\n",
              "      <td>0.066</td>\n",
              "      <td>40.5</td>\n",
              "      <td>165.0</td>\n",
              "      <td>0.99120</td>\n",
              "      <td>3.25</td>\n",
              "      <td>0.59</td>\n",
              "      <td>11.9</td>\n",
              "      <td>4</td>\n",
              "    </tr>\n",
              "    <tr>\n",
              "      <th>1123</th>\n",
              "      <td>11.1</td>\n",
              "      <td>0.440</td>\n",
              "      <td>0.42</td>\n",
              "      <td>2.2</td>\n",
              "      <td>0.064</td>\n",
              "      <td>14.0</td>\n",
              "      <td>19.0</td>\n",
              "      <td>0.99758</td>\n",
              "      <td>3.25</td>\n",
              "      <td>0.57</td>\n",
              "      <td>10.4</td>\n",
              "      <td>3</td>\n",
              "    </tr>\n",
              "    <tr>\n",
              "      <th>99</th>\n",
              "      <td>10.5</td>\n",
              "      <td>0.430</td>\n",
              "      <td>0.35</td>\n",
              "      <td>3.3</td>\n",
              "      <td>0.092</td>\n",
              "      <td>24.0</td>\n",
              "      <td>70.0</td>\n",
              "      <td>0.99798</td>\n",
              "      <td>3.21</td>\n",
              "      <td>0.69</td>\n",
              "      <td>10.5</td>\n",
              "      <td>0</td>\n",
              "    </tr>\n",
              "    <tr>\n",
              "      <th>1558</th>\n",
              "      <td>10.8</td>\n",
              "      <td>0.890</td>\n",
              "      <td>0.30</td>\n",
              "      <td>2.6</td>\n",
              "      <td>0.132</td>\n",
              "      <td>7.0</td>\n",
              "      <td>60.0</td>\n",
              "      <td>0.99786</td>\n",
              "      <td>2.99</td>\n",
              "      <td>1.18</td>\n",
              "      <td>10.2</td>\n",
              "      <td>4</td>\n",
              "    </tr>\n",
              "    <tr>\n",
              "      <th>1394</th>\n",
              "      <td>9.0</td>\n",
              "      <td>0.820</td>\n",
              "      <td>0.14</td>\n",
              "      <td>2.6</td>\n",
              "      <td>0.089</td>\n",
              "      <td>9.0</td>\n",
              "      <td>23.0</td>\n",
              "      <td>0.99840</td>\n",
              "      <td>3.39</td>\n",
              "      <td>0.63</td>\n",
              "      <td>9.8</td>\n",
              "      <td>4</td>\n",
              "    </tr>\n",
              "    <tr>\n",
              "      <th>814</th>\n",
              "      <td>7.1</td>\n",
              "      <td>0.460</td>\n",
              "      <td>0.14</td>\n",
              "      <td>2.8</td>\n",
              "      <td>0.076</td>\n",
              "      <td>15.0</td>\n",
              "      <td>37.0</td>\n",
              "      <td>0.99624</td>\n",
              "      <td>3.36</td>\n",
              "      <td>0.49</td>\n",
              "      <td>10.7</td>\n",
              "      <td>2</td>\n",
              "    </tr>\n",
              "    <tr>\n",
              "      <th>1266</th>\n",
              "      <td>7.8</td>\n",
              "      <td>0.520</td>\n",
              "      <td>0.25</td>\n",
              "      <td>1.9</td>\n",
              "      <td>0.081</td>\n",
              "      <td>14.0</td>\n",
              "      <td>38.0</td>\n",
              "      <td>0.99840</td>\n",
              "      <td>3.43</td>\n",
              "      <td>0.65</td>\n",
              "      <td>9.0</td>\n",
              "      <td>3</td>\n",
              "    </tr>\n",
              "    <tr>\n",
              "      <th>1426</th>\n",
              "      <td>7.8</td>\n",
              "      <td>0.560</td>\n",
              "      <td>0.19</td>\n",
              "      <td>2.1</td>\n",
              "      <td>0.081</td>\n",
              "      <td>15.0</td>\n",
              "      <td>105.0</td>\n",
              "      <td>0.99620</td>\n",
              "      <td>3.33</td>\n",
              "      <td>0.54</td>\n",
              "      <td>9.5</td>\n",
              "      <td>4</td>\n",
              "    </tr>\n",
              "    <tr>\n",
              "      <th>1467</th>\n",
              "      <td>8.4</td>\n",
              "      <td>0.560</td>\n",
              "      <td>0.04</td>\n",
              "      <td>2.0</td>\n",
              "      <td>0.082</td>\n",
              "      <td>10.0</td>\n",
              "      <td>22.0</td>\n",
              "      <td>0.99760</td>\n",
              "      <td>3.22</td>\n",
              "      <td>0.44</td>\n",
              "      <td>9.6</td>\n",
              "      <td>4</td>\n",
              "    </tr>\n",
              "    <tr>\n",
              "      <th>910</th>\n",
              "      <td>9.4</td>\n",
              "      <td>0.685</td>\n",
              "      <td>0.11</td>\n",
              "      <td>2.7</td>\n",
              "      <td>0.077</td>\n",
              "      <td>6.0</td>\n",
              "      <td>31.0</td>\n",
              "      <td>0.99840</td>\n",
              "      <td>3.19</td>\n",
              "      <td>0.70</td>\n",
              "      <td>10.1</td>\n",
              "      <td>2</td>\n",
              "    </tr>\n",
              "  </tbody>\n",
              "</table>\n",
              "</div>"
            ],
            "text/plain": [
              "      fixed acidity  volatile acidity  citric acid  ...  sulphates  alcohol  kfold\n",
              "1412            6.1             0.210         0.40  ...       0.59     11.9      4\n",
              "1123           11.1             0.440         0.42  ...       0.57     10.4      3\n",
              "99             10.5             0.430         0.35  ...       0.69     10.5      0\n",
              "1558           10.8             0.890         0.30  ...       1.18     10.2      4\n",
              "1394            9.0             0.820         0.14  ...       0.63      9.8      4\n",
              "814             7.1             0.460         0.14  ...       0.49     10.7      2\n",
              "1266            7.8             0.520         0.25  ...       0.65      9.0      3\n",
              "1426            7.8             0.560         0.19  ...       0.54      9.5      4\n",
              "1467            8.4             0.560         0.04  ...       0.44      9.6      4\n",
              "910             9.4             0.685         0.11  ...       0.70     10.1      2\n",
              "\n",
              "[10 rows x 12 columns]"
            ]
          },
          "metadata": {
            "tags": []
          },
          "execution_count": 88
        }
      ]
    },
    {
      "cell_type": "markdown",
      "metadata": {
        "id": "7_4y9HqfqNqQ"
      },
      "source": [
        "## **Stratified Kfold**"
      ]
    },
    {
      "cell_type": "code",
      "metadata": {
        "id": "1ZtJ-WKjQrNm"
      },
      "source": [
        "from sklearn import model_selection"
      ],
      "execution_count": 89,
      "outputs": []
    },
    {
      "cell_type": "markdown",
      "metadata": {
        "id": "66xuej0rsgbn"
      },
      "source": [
        "Resetando os valores de X e Y"
      ]
    },
    {
      "cell_type": "code",
      "metadata": {
        "id": "SK0YC8m5qeBB"
      },
      "source": [
        "X = df.drop('quality', axis=1)\n",
        "y = df.quality"
      ],
      "execution_count": 90,
      "outputs": []
    },
    {
      "cell_type": "code",
      "metadata": {
        "colab": {
          "base_uri": "https://localhost:8080/",
          "height": 221
        },
        "id": "NBV2zU1ttfKE",
        "outputId": "d5cc0b94-2b31-4451-c6af-f9960f8662d3"
      },
      "source": [
        "X['s_kfold'] = -1\n",
        "X.head()"
      ],
      "execution_count": 91,
      "outputs": [
        {
          "output_type": "execute_result",
          "data": {
            "text/html": [
              "<div>\n",
              "<style scoped>\n",
              "    .dataframe tbody tr th:only-of-type {\n",
              "        vertical-align: middle;\n",
              "    }\n",
              "\n",
              "    .dataframe tbody tr th {\n",
              "        vertical-align: top;\n",
              "    }\n",
              "\n",
              "    .dataframe thead th {\n",
              "        text-align: right;\n",
              "    }\n",
              "</style>\n",
              "<table border=\"1\" class=\"dataframe\">\n",
              "  <thead>\n",
              "    <tr style=\"text-align: right;\">\n",
              "      <th></th>\n",
              "      <th>fixed acidity</th>\n",
              "      <th>volatile acidity</th>\n",
              "      <th>citric acid</th>\n",
              "      <th>residual sugar</th>\n",
              "      <th>chlorides</th>\n",
              "      <th>free sulfur dioxide</th>\n",
              "      <th>total sulfur dioxide</th>\n",
              "      <th>density</th>\n",
              "      <th>pH</th>\n",
              "      <th>sulphates</th>\n",
              "      <th>alcohol</th>\n",
              "      <th>s_kfold</th>\n",
              "    </tr>\n",
              "  </thead>\n",
              "  <tbody>\n",
              "    <tr>\n",
              "      <th>0</th>\n",
              "      <td>7.5</td>\n",
              "      <td>0.510</td>\n",
              "      <td>0.02</td>\n",
              "      <td>1.7</td>\n",
              "      <td>0.084</td>\n",
              "      <td>13.0</td>\n",
              "      <td>31.0</td>\n",
              "      <td>0.99538</td>\n",
              "      <td>3.36</td>\n",
              "      <td>0.54</td>\n",
              "      <td>10.5</td>\n",
              "      <td>-1</td>\n",
              "    </tr>\n",
              "    <tr>\n",
              "      <th>1</th>\n",
              "      <td>7.3</td>\n",
              "      <td>0.650</td>\n",
              "      <td>0.00</td>\n",
              "      <td>1.2</td>\n",
              "      <td>0.065</td>\n",
              "      <td>15.0</td>\n",
              "      <td>21.0</td>\n",
              "      <td>0.99460</td>\n",
              "      <td>3.39</td>\n",
              "      <td>0.47</td>\n",
              "      <td>10.0</td>\n",
              "      <td>-1</td>\n",
              "    </tr>\n",
              "    <tr>\n",
              "      <th>2</th>\n",
              "      <td>7.9</td>\n",
              "      <td>0.885</td>\n",
              "      <td>0.03</td>\n",
              "      <td>1.8</td>\n",
              "      <td>0.058</td>\n",
              "      <td>4.0</td>\n",
              "      <td>8.0</td>\n",
              "      <td>0.99720</td>\n",
              "      <td>3.36</td>\n",
              "      <td>0.33</td>\n",
              "      <td>9.1</td>\n",
              "      <td>-1</td>\n",
              "    </tr>\n",
              "    <tr>\n",
              "      <th>3</th>\n",
              "      <td>7.5</td>\n",
              "      <td>0.380</td>\n",
              "      <td>0.57</td>\n",
              "      <td>2.3</td>\n",
              "      <td>0.106</td>\n",
              "      <td>5.0</td>\n",
              "      <td>12.0</td>\n",
              "      <td>0.99605</td>\n",
              "      <td>3.36</td>\n",
              "      <td>0.55</td>\n",
              "      <td>11.4</td>\n",
              "      <td>-1</td>\n",
              "    </tr>\n",
              "    <tr>\n",
              "      <th>4</th>\n",
              "      <td>8.8</td>\n",
              "      <td>0.610</td>\n",
              "      <td>0.14</td>\n",
              "      <td>2.4</td>\n",
              "      <td>0.067</td>\n",
              "      <td>10.0</td>\n",
              "      <td>42.0</td>\n",
              "      <td>0.99690</td>\n",
              "      <td>3.19</td>\n",
              "      <td>0.59</td>\n",
              "      <td>9.5</td>\n",
              "      <td>-1</td>\n",
              "    </tr>\n",
              "  </tbody>\n",
              "</table>\n",
              "</div>"
            ],
            "text/plain": [
              "   fixed acidity  volatile acidity  citric acid  ...  sulphates  alcohol  s_kfold\n",
              "0            7.5             0.510         0.02  ...       0.54     10.5       -1\n",
              "1            7.3             0.650         0.00  ...       0.47     10.0       -1\n",
              "2            7.9             0.885         0.03  ...       0.33      9.1       -1\n",
              "3            7.5             0.380         0.57  ...       0.55     11.4       -1\n",
              "4            8.8             0.610         0.14  ...       0.59      9.5       -1\n",
              "\n",
              "[5 rows x 12 columns]"
            ]
          },
          "metadata": {
            "tags": []
          },
          "execution_count": 91
        }
      ]
    },
    {
      "cell_type": "code",
      "metadata": {
        "id": "EAJLha8isAWo"
      },
      "source": [
        "s_kf = model_selection.StratifiedKFold(n_splits=5)"
      ],
      "execution_count": 92,
      "outputs": []
    },
    {
      "cell_type": "code",
      "metadata": {
        "id": "aR6RDxC-sMoO"
      },
      "source": [
        "for fold, (trn_, val_) in enumerate(s_kf.split(X, y)):\n",
        "  X.loc[val_, 's_kfold'] = fold"
      ],
      "execution_count": 93,
      "outputs": []
    },
    {
      "cell_type": "markdown",
      "metadata": {
        "id": "3hzsRu6SL7Gd"
      },
      "source": [
        "Vamos embaralhar o dataFrame para podermos ver que os valores de 0 a 4 (os 5 splits) foram distribuídos na coluna `s_kfold`"
      ]
    },
    {
      "cell_type": "code",
      "metadata": {
        "colab": {
          "base_uri": "https://localhost:8080/",
          "height": 376
        },
        "id": "BIPYX_AQL0Ax",
        "outputId": "e605da09-292f-43b9-9e55-18ff595e20a9"
      },
      "source": [
        "X.sample(frac=1).head(10)"
      ],
      "execution_count": 94,
      "outputs": [
        {
          "output_type": "execute_result",
          "data": {
            "text/html": [
              "<div>\n",
              "<style scoped>\n",
              "    .dataframe tbody tr th:only-of-type {\n",
              "        vertical-align: middle;\n",
              "    }\n",
              "\n",
              "    .dataframe tbody tr th {\n",
              "        vertical-align: top;\n",
              "    }\n",
              "\n",
              "    .dataframe thead th {\n",
              "        text-align: right;\n",
              "    }\n",
              "</style>\n",
              "<table border=\"1\" class=\"dataframe\">\n",
              "  <thead>\n",
              "    <tr style=\"text-align: right;\">\n",
              "      <th></th>\n",
              "      <th>fixed acidity</th>\n",
              "      <th>volatile acidity</th>\n",
              "      <th>citric acid</th>\n",
              "      <th>residual sugar</th>\n",
              "      <th>chlorides</th>\n",
              "      <th>free sulfur dioxide</th>\n",
              "      <th>total sulfur dioxide</th>\n",
              "      <th>density</th>\n",
              "      <th>pH</th>\n",
              "      <th>sulphates</th>\n",
              "      <th>alcohol</th>\n",
              "      <th>s_kfold</th>\n",
              "    </tr>\n",
              "  </thead>\n",
              "  <tbody>\n",
              "    <tr>\n",
              "      <th>536</th>\n",
              "      <td>6.2</td>\n",
              "      <td>0.70</td>\n",
              "      <td>0.15</td>\n",
              "      <td>5.1</td>\n",
              "      <td>0.076</td>\n",
              "      <td>13.0</td>\n",
              "      <td>27.0</td>\n",
              "      <td>0.99622</td>\n",
              "      <td>3.54</td>\n",
              "      <td>0.60</td>\n",
              "      <td>11.90</td>\n",
              "      <td>1</td>\n",
              "    </tr>\n",
              "    <tr>\n",
              "      <th>298</th>\n",
              "      <td>8.0</td>\n",
              "      <td>0.58</td>\n",
              "      <td>0.16</td>\n",
              "      <td>2.0</td>\n",
              "      <td>0.120</td>\n",
              "      <td>3.0</td>\n",
              "      <td>7.0</td>\n",
              "      <td>0.99454</td>\n",
              "      <td>3.22</td>\n",
              "      <td>0.58</td>\n",
              "      <td>11.20</td>\n",
              "      <td>0</td>\n",
              "    </tr>\n",
              "    <tr>\n",
              "      <th>433</th>\n",
              "      <td>10.6</td>\n",
              "      <td>0.34</td>\n",
              "      <td>0.49</td>\n",
              "      <td>3.2</td>\n",
              "      <td>0.078</td>\n",
              "      <td>20.0</td>\n",
              "      <td>78.0</td>\n",
              "      <td>0.99920</td>\n",
              "      <td>3.19</td>\n",
              "      <td>0.70</td>\n",
              "      <td>10.00</td>\n",
              "      <td>1</td>\n",
              "    </tr>\n",
              "    <tr>\n",
              "      <th>1006</th>\n",
              "      <td>9.1</td>\n",
              "      <td>0.22</td>\n",
              "      <td>0.24</td>\n",
              "      <td>2.1</td>\n",
              "      <td>0.078</td>\n",
              "      <td>1.0</td>\n",
              "      <td>28.0</td>\n",
              "      <td>0.99900</td>\n",
              "      <td>3.41</td>\n",
              "      <td>0.87</td>\n",
              "      <td>10.30</td>\n",
              "      <td>3</td>\n",
              "    </tr>\n",
              "    <tr>\n",
              "      <th>1080</th>\n",
              "      <td>11.1</td>\n",
              "      <td>0.18</td>\n",
              "      <td>0.48</td>\n",
              "      <td>1.5</td>\n",
              "      <td>0.068</td>\n",
              "      <td>7.0</td>\n",
              "      <td>15.0</td>\n",
              "      <td>0.99730</td>\n",
              "      <td>3.22</td>\n",
              "      <td>0.64</td>\n",
              "      <td>10.10</td>\n",
              "      <td>3</td>\n",
              "    </tr>\n",
              "    <tr>\n",
              "      <th>48</th>\n",
              "      <td>6.0</td>\n",
              "      <td>0.54</td>\n",
              "      <td>0.06</td>\n",
              "      <td>1.8</td>\n",
              "      <td>0.050</td>\n",
              "      <td>38.0</td>\n",
              "      <td>89.0</td>\n",
              "      <td>0.99236</td>\n",
              "      <td>3.30</td>\n",
              "      <td>0.50</td>\n",
              "      <td>10.55</td>\n",
              "      <td>0</td>\n",
              "    </tr>\n",
              "    <tr>\n",
              "      <th>887</th>\n",
              "      <td>7.3</td>\n",
              "      <td>0.45</td>\n",
              "      <td>0.36</td>\n",
              "      <td>5.9</td>\n",
              "      <td>0.074</td>\n",
              "      <td>12.0</td>\n",
              "      <td>87.0</td>\n",
              "      <td>0.99780</td>\n",
              "      <td>3.33</td>\n",
              "      <td>0.83</td>\n",
              "      <td>10.50</td>\n",
              "      <td>2</td>\n",
              "    </tr>\n",
              "    <tr>\n",
              "      <th>513</th>\n",
              "      <td>7.4</td>\n",
              "      <td>0.67</td>\n",
              "      <td>0.12</td>\n",
              "      <td>1.6</td>\n",
              "      <td>0.186</td>\n",
              "      <td>5.0</td>\n",
              "      <td>21.0</td>\n",
              "      <td>0.99600</td>\n",
              "      <td>3.39</td>\n",
              "      <td>0.54</td>\n",
              "      <td>9.50</td>\n",
              "      <td>1</td>\n",
              "    </tr>\n",
              "    <tr>\n",
              "      <th>90</th>\n",
              "      <td>7.2</td>\n",
              "      <td>0.41</td>\n",
              "      <td>0.30</td>\n",
              "      <td>2.1</td>\n",
              "      <td>0.083</td>\n",
              "      <td>35.0</td>\n",
              "      <td>72.0</td>\n",
              "      <td>0.99700</td>\n",
              "      <td>3.44</td>\n",
              "      <td>0.52</td>\n",
              "      <td>9.40</td>\n",
              "      <td>0</td>\n",
              "    </tr>\n",
              "    <tr>\n",
              "      <th>1134</th>\n",
              "      <td>10.7</td>\n",
              "      <td>0.40</td>\n",
              "      <td>0.48</td>\n",
              "      <td>2.1</td>\n",
              "      <td>0.125</td>\n",
              "      <td>15.0</td>\n",
              "      <td>49.0</td>\n",
              "      <td>0.99800</td>\n",
              "      <td>3.03</td>\n",
              "      <td>0.81</td>\n",
              "      <td>9.70</td>\n",
              "      <td>3</td>\n",
              "    </tr>\n",
              "  </tbody>\n",
              "</table>\n",
              "</div>"
            ],
            "text/plain": [
              "      fixed acidity  volatile acidity  citric acid  ...  sulphates  alcohol  s_kfold\n",
              "536             6.2              0.70         0.15  ...       0.60    11.90        1\n",
              "298             8.0              0.58         0.16  ...       0.58    11.20        0\n",
              "433            10.6              0.34         0.49  ...       0.70    10.00        1\n",
              "1006            9.1              0.22         0.24  ...       0.87    10.30        3\n",
              "1080           11.1              0.18         0.48  ...       0.64    10.10        3\n",
              "48              6.0              0.54         0.06  ...       0.50    10.55        0\n",
              "887             7.3              0.45         0.36  ...       0.83    10.50        2\n",
              "513             7.4              0.67         0.12  ...       0.54     9.50        1\n",
              "90              7.2              0.41         0.30  ...       0.52     9.40        0\n",
              "1134           10.7              0.40         0.48  ...       0.81     9.70        3\n",
              "\n",
              "[10 rows x 12 columns]"
            ]
          },
          "metadata": {
            "tags": []
          },
          "execution_count": 94
        }
      ]
    },
    {
      "cell_type": "markdown",
      "metadata": {
        "id": "sbePZzLj2Y4c"
      },
      "source": [
        "### Comparando os dados de y com as divisões do `Statified_kfold()`"
      ]
    },
    {
      "cell_type": "markdown",
      "metadata": {
        "id": "1LYqIHBC2vx3"
      },
      "source": [
        "Valores de y em cada fold"
      ]
    },
    {
      "cell_type": "code",
      "metadata": {
        "colab": {
          "base_uri": "https://localhost:8080/"
        },
        "id": "fR-IrCBiyHkT",
        "outputId": "435f9084-704b-40be-9ac3-eee367c0ac81"
      },
      "source": [
        "for i in range(5):\n",
        "  dtrn_s_kfold = list(s_kf.split(X, y))[i][0]\n",
        "  print(y.loc[dtrn_s_kfold].value_counts().sort_index().to_list())"
      ],
      "execution_count": 95,
      "outputs": [
        {
          "output_type": "stream",
          "text": [
            "[8, 43, 544, 510, 159, 15]\n",
            "[8, 43, 545, 510, 159, 14]\n",
            "[8, 42, 545, 510, 160, 14]\n",
            "[8, 42, 545, 511, 159, 14]\n",
            "[8, 42, 545, 511, 159, 15]\n"
          ],
          "name": "stdout"
        }
      ]
    },
    {
      "cell_type": "markdown",
      "metadata": {
        "id": "87JR8S172zn2"
      },
      "source": [
        "Valores em y"
      ]
    },
    {
      "cell_type": "code",
      "metadata": {
        "colab": {
          "base_uri": "https://localhost:8080/"
        },
        "id": "8o7iVnE_y2in",
        "outputId": "f89a0061-b549-4d6d-f992-f81d729fca0a"
      },
      "source": [
        "y.value_counts().sort_index().to_list()"
      ],
      "execution_count": 96,
      "outputs": [
        {
          "output_type": "execute_result",
          "data": {
            "text/plain": [
              "[10, 53, 681, 638, 199, 18]"
            ]
          },
          "metadata": {
            "tags": []
          },
          "execution_count": 96
        }
      ]
    },
    {
      "cell_type": "markdown",
      "metadata": {
        "id": "aXNhHWNB3GPr"
      },
      "source": [
        "#### Plotando:"
      ]
    },
    {
      "cell_type": "markdown",
      "metadata": {
        "id": "zz8IZhFh5JHy"
      },
      "source": [
        "Os valores do dataFrame (y):"
      ]
    },
    {
      "cell_type": "code",
      "metadata": {
        "colab": {
          "base_uri": "https://localhost:8080/",
          "height": 416
        },
        "id": "-76sqC7w3IR2",
        "outputId": "abca38a6-ada7-461b-cc64-5f4cc5047b15"
      },
      "source": [
        "ax = sns.countplot(y)\n",
        "\n",
        "ax.figure.set_size_inches(8,6)\n",
        "ax.set_title('Quantide de vinhos por Nota')\n",
        "ax.set_xlabel('Quality of Wine', fontsize=20)\n",
        "ax.set_ylabel('Quantidade', fontsize=20);"
      ],
      "execution_count": 97,
      "outputs": [
        {
          "output_type": "display_data",
          "data": {
            "image/png": "[encoded data removed]",
            "text/plain": [
              "<Figure size 576x432 with 1 Axes>"
            ]
          },
          "metadata": {
            "tags": []
          }
        }
      ]
    },
    {
      "cell_type": "code",
      "metadata": {
        "colab": {
          "base_uri": "https://localhost:8080/",
          "height": 417
        },
        "id": "FGuVhIwt3LVh",
        "outputId": "0feb6b25-c70f-4482-cca9-df710eaf70ee"
      },
      "source": [
        "ax = sns.countplot(y.loc[list(s_kf.split(X, y))[0][0]])\n",
        "\n",
        "ax.figure.set_size_inches(8,6)\n",
        "ax.set_title('Quantidade vinhos por nota no Stratified Kfold', fontsize=20)\n",
        "ax.set_xlabel('Quality of Wine', fontsize=16)\n",
        "ax.set_ylabel('Qunatidades', fontsize=16);"
      ],
      "execution_count": 98,
      "outputs": [
        {
          "output_type": "display_data",
          "data": {
            "image/png": "[encoded data removed]",
            "text/plain": [
              "<Figure size 576x432 with 1 Axes>"
            ]
          },
          "metadata": {
            "tags": []
          }
        }
      ]
    },
    {
      "cell_type": "markdown",
      "metadata": {
        "id": "Wrbu2M6c9-GV"
      },
      "source": [
        "Como podemos ver, o `Stratified_kfold()` separa os dados na mesma proporção que o dataframe original, o que é muito bom pois permite que sejam alcançados resultados melhores e evita que, em data set que tenham dados 90%/10% sejam pegos somente o grupo de 90% para treino"
      ]
    },
    {
      "cell_type": "markdown",
      "metadata": {
        "id": "SQE7ABdSDxiI"
      },
      "source": [
        "## Hold out"
      ]
    },
    {
      "cell_type": "markdown",
      "metadata": {
        "id": "GEhXEHufD1M7"
      },
      "source": [
        "Esse método é muito utilizado quando temos um grande números de dados, pois ai podemos guardar (hold-out) uma parte do dados para teste"
      ]
    },
    {
      "cell_type": "markdown",
      "metadata": {
        "id": "uZLev_w-EErh"
      },
      "source": [
        "## Séries Temporais"
      ]
    },
    {
      "cell_type": "markdown",
      "metadata": {
        "id": "PNNhzApGERDk"
      },
      "source": [
        "Quando trabalhamos com séries temporais, podemos usat qualquer tipo de Crossvalidation que quiser normalmente, exceto o `Stratified_kfold()`.\n",
        "\n",
        "Se quiser usar o `Stratified_kfold()` temos que fazer um processo diferente, que  consiste em dividir o dataset em Bins.\n",
        "\n",
        "Para isso, podemos fazer de uma forma aletatória ou usarmos a fórmula geral para saber a quantidade de bins para cada dataset\n"
      ]
    },
    {
      "cell_type": "markdown",
      "metadata": {
        "id": "fOzKL-l0E3Ij"
      },
      "source": [
        "### Exemplo"
      ]
    },
    {
      "cell_type": "markdown",
      "metadata": {
        "id": "S3Fo5-PiE7v2"
      },
      "source": [
        "#### Criando uma série temporal"
      ]
    },
    {
      "cell_type": "code",
      "metadata": {
        "id": "2-AuYxQME5r9"
      },
      "source": [
        "from sklearn import datasets"
      ],
      "execution_count": 99,
      "outputs": []
    },
    {
      "cell_type": "code",
      "metadata": {
        "id": "8ezmRZbJFEUh"
      },
      "source": [
        "X, y = datasets.make_regression(n_samples=15000, n_features=100, n_targets=1)"
      ],
      "execution_count": 100,
      "outputs": []
    },
    {
      "cell_type": "code",
      "metadata": {
        "colab": {
          "base_uri": "https://localhost:8080/",
          "height": 253
        },
        "id": "HKpHza4tFeQu",
        "outputId": "52922658-3dc2-4797-f64f-5d193685d374"
      },
      "source": [
        "df = pd.DataFrame(X, columns=[f'f_{i}' for i in range(X.shape[1])])\n",
        "\n",
        "df['target'] = y\n",
        "\n",
        "df.head()"
      ],
      "execution_count": 101,
      "outputs": [
        {
          "output_type": "execute_result",
          "data": {
            "text/html": [
              "<div>\n",
              "<style scoped>\n",
              "    .dataframe tbody tr th:only-of-type {\n",
              "        vertical-align: middle;\n",
              "    }\n",
              "\n",
              "    .dataframe tbody tr th {\n",
              "        vertical-align: top;\n",
              "    }\n",
              "\n",
              "    .dataframe thead th {\n",
              "        text-align: right;\n",
              "    }\n",
              "</style>\n",
              "<table border=\"1\" class=\"dataframe\">\n",
              "  <thead>\n",
              "    <tr style=\"text-align: right;\">\n",
              "      <th></th>\n",
              "      <th>f_0</th>\n",
              "      <th>f_1</th>\n",
              "      <th>f_2</th>\n",
              "      <th>f_3</th>\n",
              "      <th>f_4</th>\n",
              "      <th>f_5</th>\n",
              "      <th>f_6</th>\n",
              "      <th>f_7</th>\n",
              "      <th>f_8</th>\n",
              "      <th>f_9</th>\n",
              "      <th>f_10</th>\n",
              "      <th>f_11</th>\n",
              "      <th>f_12</th>\n",
              "      <th>f_13</th>\n",
              "      <th>f_14</th>\n",
              "      <th>f_15</th>\n",
              "      <th>f_16</th>\n",
              "      <th>f_17</th>\n",
              "      <th>f_18</th>\n",
              "      <th>f_19</th>\n",
              "      <th>f_20</th>\n",
              "      <th>f_21</th>\n",
              "      <th>f_22</th>\n",
              "      <th>f_23</th>\n",
              "      <th>f_24</th>\n",
              "      <th>f_25</th>\n",
              "      <th>f_26</th>\n",
              "      <th>f_27</th>\n",
              "      <th>f_28</th>\n",
              "      <th>f_29</th>\n",
              "      <th>f_30</th>\n",
              "      <th>f_31</th>\n",
              "      <th>f_32</th>\n",
              "      <th>f_33</th>\n",
              "      <th>f_34</th>\n",
              "      <th>f_35</th>\n",
              "      <th>f_36</th>\n",
              "      <th>f_37</th>\n",
              "      <th>f_38</th>\n",
              "      <th>f_39</th>\n",
              "      <th>...</th>\n",
              "      <th>f_61</th>\n",
              "      <th>f_62</th>\n",
              "      <th>f_63</th>\n",
              "      <th>f_64</th>\n",
              "      <th>f_65</th>\n",
              "      <th>f_66</th>\n",
              "      <th>f_67</th>\n",
              "      <th>f_68</th>\n",
              "      <th>f_69</th>\n",
              "      <th>f_70</th>\n",
              "      <th>f_71</th>\n",
              "      <th>f_72</th>\n",
              "      <th>f_73</th>\n",
              "      <th>f_74</th>\n",
              "      <th>f_75</th>\n",
              "      <th>f_76</th>\n",
              "      <th>f_77</th>\n",
              "      <th>f_78</th>\n",
              "      <th>f_79</th>\n",
              "      <th>f_80</th>\n",
              "      <th>f_81</th>\n",
              "      <th>f_82</th>\n",
              "      <th>f_83</th>\n",
              "      <th>f_84</th>\n",
              "      <th>f_85</th>\n",
              "      <th>f_86</th>\n",
              "      <th>f_87</th>\n",
              "      <th>f_88</th>\n",
              "      <th>f_89</th>\n",
              "      <th>f_90</th>\n",
              "      <th>f_91</th>\n",
              "      <th>f_92</th>\n",
              "      <th>f_93</th>\n",
              "      <th>f_94</th>\n",
              "      <th>f_95</th>\n",
              "      <th>f_96</th>\n",
              "      <th>f_97</th>\n",
              "      <th>f_98</th>\n",
              "      <th>f_99</th>\n",
              "      <th>target</th>\n",
              "    </tr>\n",
              "  </thead>\n",
              "  <tbody>\n",
              "    <tr>\n",
              "      <th>0</th>\n",
              "      <td>1.008858</td>\n",
              "      <td>2.284810</td>\n",
              "      <td>0.817840</td>\n",
              "      <td>-1.165121</td>\n",
              "      <td>0.797652</td>\n",
              "      <td>0.238728</td>\n",
              "      <td>0.116529</td>\n",
              "      <td>1.192037</td>\n",
              "      <td>0.309803</td>\n",
              "      <td>0.342872</td>\n",
              "      <td>-0.385810</td>\n",
              "      <td>0.018683</td>\n",
              "      <td>0.285109</td>\n",
              "      <td>0.074341</td>\n",
              "      <td>0.169465</td>\n",
              "      <td>-1.869398</td>\n",
              "      <td>0.630036</td>\n",
              "      <td>0.269496</td>\n",
              "      <td>-0.928607</td>\n",
              "      <td>-0.457776</td>\n",
              "      <td>-0.733857</td>\n",
              "      <td>0.464741</td>\n",
              "      <td>-0.507720</td>\n",
              "      <td>-0.824561</td>\n",
              "      <td>-0.529614</td>\n",
              "      <td>-0.681307</td>\n",
              "      <td>-0.723927</td>\n",
              "      <td>-1.569802</td>\n",
              "      <td>-0.205045</td>\n",
              "      <td>0.572418</td>\n",
              "      <td>1.537875</td>\n",
              "      <td>1.060685</td>\n",
              "      <td>0.028801</td>\n",
              "      <td>-1.719051</td>\n",
              "      <td>-0.043473</td>\n",
              "      <td>0.657884</td>\n",
              "      <td>-0.315808</td>\n",
              "      <td>0.686687</td>\n",
              "      <td>2.424121</td>\n",
              "      <td>0.978476</td>\n",
              "      <td>...</td>\n",
              "      <td>-1.480874</td>\n",
              "      <td>1.697713</td>\n",
              "      <td>0.141858</td>\n",
              "      <td>-3.047870</td>\n",
              "      <td>-0.739223</td>\n",
              "      <td>1.107809</td>\n",
              "      <td>-0.558307</td>\n",
              "      <td>-0.765934</td>\n",
              "      <td>-1.427559</td>\n",
              "      <td>0.641801</td>\n",
              "      <td>-0.533696</td>\n",
              "      <td>0.580426</td>\n",
              "      <td>0.231759</td>\n",
              "      <td>-1.429090</td>\n",
              "      <td>-0.872654</td>\n",
              "      <td>-0.589654</td>\n",
              "      <td>-0.632985</td>\n",
              "      <td>-0.080138</td>\n",
              "      <td>-0.870840</td>\n",
              "      <td>-0.225724</td>\n",
              "      <td>-0.691976</td>\n",
              "      <td>0.066254</td>\n",
              "      <td>-1.640243</td>\n",
              "      <td>-0.073005</td>\n",
              "      <td>0.093514</td>\n",
              "      <td>-1.024896</td>\n",
              "      <td>0.528372</td>\n",
              "      <td>-0.595213</td>\n",
              "      <td>-0.854530</td>\n",
              "      <td>0.526494</td>\n",
              "      <td>0.039229</td>\n",
              "      <td>0.356891</td>\n",
              "      <td>0.312084</td>\n",
              "      <td>0.830106</td>\n",
              "      <td>0.516636</td>\n",
              "      <td>0.029569</td>\n",
              "      <td>0.218131</td>\n",
              "      <td>-0.613858</td>\n",
              "      <td>1.059819</td>\n",
              "      <td>-153.844394</td>\n",
              "    </tr>\n",
              "    <tr>\n",
              "      <th>1</th>\n",
              "      <td>-0.424836</td>\n",
              "      <td>-1.204355</td>\n",
              "      <td>0.990726</td>\n",
              "      <td>-1.691361</td>\n",
              "      <td>-0.470760</td>\n",
              "      <td>-0.425230</td>\n",
              "      <td>-0.722171</td>\n",
              "      <td>0.605408</td>\n",
              "      <td>-2.700422</td>\n",
              "      <td>2.032132</td>\n",
              "      <td>-0.222166</td>\n",
              "      <td>2.768601</td>\n",
              "      <td>-2.059036</td>\n",
              "      <td>0.063176</td>\n",
              "      <td>-0.594411</td>\n",
              "      <td>0.025728</td>\n",
              "      <td>0.266105</td>\n",
              "      <td>0.737032</td>\n",
              "      <td>-1.813823</td>\n",
              "      <td>-0.548713</td>\n",
              "      <td>-0.321928</td>\n",
              "      <td>1.202412</td>\n",
              "      <td>-2.423574</td>\n",
              "      <td>0.719409</td>\n",
              "      <td>-0.228544</td>\n",
              "      <td>1.157950</td>\n",
              "      <td>1.009423</td>\n",
              "      <td>-0.649892</td>\n",
              "      <td>-0.425900</td>\n",
              "      <td>0.399014</td>\n",
              "      <td>2.552479</td>\n",
              "      <td>-0.862790</td>\n",
              "      <td>-0.399365</td>\n",
              "      <td>-0.446981</td>\n",
              "      <td>2.101953</td>\n",
              "      <td>0.261636</td>\n",
              "      <td>-1.382652</td>\n",
              "      <td>-1.183960</td>\n",
              "      <td>0.965530</td>\n",
              "      <td>-0.977431</td>\n",
              "      <td>...</td>\n",
              "      <td>-1.156539</td>\n",
              "      <td>-2.273278</td>\n",
              "      <td>0.838778</td>\n",
              "      <td>1.210318</td>\n",
              "      <td>0.408962</td>\n",
              "      <td>0.531239</td>\n",
              "      <td>1.635291</td>\n",
              "      <td>-0.070851</td>\n",
              "      <td>-0.732569</td>\n",
              "      <td>-1.014164</td>\n",
              "      <td>-0.719296</td>\n",
              "      <td>0.627374</td>\n",
              "      <td>0.618823</td>\n",
              "      <td>0.841599</td>\n",
              "      <td>-0.200816</td>\n",
              "      <td>0.259595</td>\n",
              "      <td>0.543711</td>\n",
              "      <td>0.398868</td>\n",
              "      <td>-1.881387</td>\n",
              "      <td>0.159840</td>\n",
              "      <td>-0.218661</td>\n",
              "      <td>-1.922924</td>\n",
              "      <td>1.443872</td>\n",
              "      <td>-0.444387</td>\n",
              "      <td>0.042015</td>\n",
              "      <td>-1.038133</td>\n",
              "      <td>-0.382581</td>\n",
              "      <td>0.689422</td>\n",
              "      <td>1.102253</td>\n",
              "      <td>-0.456063</td>\n",
              "      <td>-0.470606</td>\n",
              "      <td>-0.446154</td>\n",
              "      <td>-0.687477</td>\n",
              "      <td>0.355566</td>\n",
              "      <td>1.474005</td>\n",
              "      <td>0.231861</td>\n",
              "      <td>0.657900</td>\n",
              "      <td>0.063595</td>\n",
              "      <td>0.394417</td>\n",
              "      <td>-138.607729</td>\n",
              "    </tr>\n",
              "    <tr>\n",
              "      <th>2</th>\n",
              "      <td>0.682903</td>\n",
              "      <td>1.862604</td>\n",
              "      <td>-0.529048</td>\n",
              "      <td>0.081843</td>\n",
              "      <td>-0.991939</td>\n",
              "      <td>1.619431</td>\n",
              "      <td>-0.263431</td>\n",
              "      <td>-0.030493</td>\n",
              "      <td>0.267007</td>\n",
              "      <td>-0.265248</td>\n",
              "      <td>-0.102520</td>\n",
              "      <td>-0.556463</td>\n",
              "      <td>0.343162</td>\n",
              "      <td>-0.557935</td>\n",
              "      <td>0.970376</td>\n",
              "      <td>-0.791325</td>\n",
              "      <td>-1.450562</td>\n",
              "      <td>0.177263</td>\n",
              "      <td>0.084366</td>\n",
              "      <td>0.915431</td>\n",
              "      <td>-1.198478</td>\n",
              "      <td>-0.091856</td>\n",
              "      <td>0.781257</td>\n",
              "      <td>0.197358</td>\n",
              "      <td>0.042887</td>\n",
              "      <td>1.093087</td>\n",
              "      <td>-1.303684</td>\n",
              "      <td>0.816539</td>\n",
              "      <td>-0.577282</td>\n",
              "      <td>-2.452862</td>\n",
              "      <td>-0.485766</td>\n",
              "      <td>0.739368</td>\n",
              "      <td>1.626127</td>\n",
              "      <td>-1.492544</td>\n",
              "      <td>0.636118</td>\n",
              "      <td>-0.389314</td>\n",
              "      <td>-0.672853</td>\n",
              "      <td>0.570146</td>\n",
              "      <td>0.857533</td>\n",
              "      <td>0.349283</td>\n",
              "      <td>...</td>\n",
              "      <td>1.504061</td>\n",
              "      <td>-0.855387</td>\n",
              "      <td>-1.108353</td>\n",
              "      <td>-1.256346</td>\n",
              "      <td>-0.156912</td>\n",
              "      <td>0.348855</td>\n",
              "      <td>0.431260</td>\n",
              "      <td>2.855606</td>\n",
              "      <td>-0.870414</td>\n",
              "      <td>0.279880</td>\n",
              "      <td>0.599055</td>\n",
              "      <td>0.778658</td>\n",
              "      <td>-1.220131</td>\n",
              "      <td>0.814576</td>\n",
              "      <td>1.273288</td>\n",
              "      <td>1.500666</td>\n",
              "      <td>-0.286381</td>\n",
              "      <td>-0.353544</td>\n",
              "      <td>-0.627171</td>\n",
              "      <td>-0.186709</td>\n",
              "      <td>0.965286</td>\n",
              "      <td>-0.984076</td>\n",
              "      <td>-0.668008</td>\n",
              "      <td>-0.483776</td>\n",
              "      <td>0.555024</td>\n",
              "      <td>-0.073135</td>\n",
              "      <td>0.109293</td>\n",
              "      <td>0.041288</td>\n",
              "      <td>0.896392</td>\n",
              "      <td>0.863692</td>\n",
              "      <td>-1.507522</td>\n",
              "      <td>0.136533</td>\n",
              "      <td>0.757733</td>\n",
              "      <td>1.088945</td>\n",
              "      <td>0.406436</td>\n",
              "      <td>0.309261</td>\n",
              "      <td>-1.460208</td>\n",
              "      <td>-1.033369</td>\n",
              "      <td>-0.780333</td>\n",
              "      <td>381.253012</td>\n",
              "    </tr>\n",
              "    <tr>\n",
              "      <th>3</th>\n",
              "      <td>-0.633509</td>\n",
              "      <td>0.491690</td>\n",
              "      <td>0.830308</td>\n",
              "      <td>-0.227263</td>\n",
              "      <td>-1.480178</td>\n",
              "      <td>-0.132106</td>\n",
              "      <td>-2.311250</td>\n",
              "      <td>-0.182068</td>\n",
              "      <td>1.031627</td>\n",
              "      <td>-0.516814</td>\n",
              "      <td>0.384579</td>\n",
              "      <td>0.777809</td>\n",
              "      <td>-0.336775</td>\n",
              "      <td>0.388959</td>\n",
              "      <td>-0.481916</td>\n",
              "      <td>-0.244291</td>\n",
              "      <td>-0.030779</td>\n",
              "      <td>-1.616129</td>\n",
              "      <td>-0.920296</td>\n",
              "      <td>-1.784803</td>\n",
              "      <td>-0.175111</td>\n",
              "      <td>0.387448</td>\n",
              "      <td>-1.001607</td>\n",
              "      <td>1.532969</td>\n",
              "      <td>0.486208</td>\n",
              "      <td>-0.757650</td>\n",
              "      <td>1.136110</td>\n",
              "      <td>0.569011</td>\n",
              "      <td>-0.991577</td>\n",
              "      <td>-1.709308</td>\n",
              "      <td>1.344883</td>\n",
              "      <td>1.845385</td>\n",
              "      <td>0.373258</td>\n",
              "      <td>-2.855987</td>\n",
              "      <td>0.897436</td>\n",
              "      <td>-0.652043</td>\n",
              "      <td>0.452555</td>\n",
              "      <td>-0.694508</td>\n",
              "      <td>-0.885058</td>\n",
              "      <td>-0.145723</td>\n",
              "      <td>...</td>\n",
              "      <td>0.210591</td>\n",
              "      <td>0.924053</td>\n",
              "      <td>0.926209</td>\n",
              "      <td>0.371759</td>\n",
              "      <td>0.836966</td>\n",
              "      <td>0.656125</td>\n",
              "      <td>-0.894514</td>\n",
              "      <td>1.704168</td>\n",
              "      <td>0.377818</td>\n",
              "      <td>-1.131469</td>\n",
              "      <td>0.576183</td>\n",
              "      <td>0.330731</td>\n",
              "      <td>0.894315</td>\n",
              "      <td>1.049757</td>\n",
              "      <td>0.955032</td>\n",
              "      <td>-1.234649</td>\n",
              "      <td>0.875601</td>\n",
              "      <td>-1.723067</td>\n",
              "      <td>0.100871</td>\n",
              "      <td>-1.161299</td>\n",
              "      <td>-0.297936</td>\n",
              "      <td>-0.061590</td>\n",
              "      <td>0.202171</td>\n",
              "      <td>0.034844</td>\n",
              "      <td>-0.051593</td>\n",
              "      <td>1.022784</td>\n",
              "      <td>-1.619743</td>\n",
              "      <td>1.358908</td>\n",
              "      <td>-0.261398</td>\n",
              "      <td>-0.736771</td>\n",
              "      <td>-1.692450</td>\n",
              "      <td>1.053211</td>\n",
              "      <td>0.266579</td>\n",
              "      <td>1.913594</td>\n",
              "      <td>-0.814718</td>\n",
              "      <td>1.166581</td>\n",
              "      <td>0.199323</td>\n",
              "      <td>0.112564</td>\n",
              "      <td>-0.176341</td>\n",
              "      <td>171.779468</td>\n",
              "    </tr>\n",
              "    <tr>\n",
              "      <th>4</th>\n",
              "      <td>-1.599006</td>\n",
              "      <td>1.417965</td>\n",
              "      <td>1.528813</td>\n",
              "      <td>0.392245</td>\n",
              "      <td>0.461270</td>\n",
              "      <td>-0.429333</td>\n",
              "      <td>1.166085</td>\n",
              "      <td>-0.577387</td>\n",
              "      <td>-0.507151</td>\n",
              "      <td>2.402715</td>\n",
              "      <td>-1.172462</td>\n",
              "      <td>-0.107426</td>\n",
              "      <td>0.615708</td>\n",
              "      <td>-1.044278</td>\n",
              "      <td>1.221689</td>\n",
              "      <td>-0.479070</td>\n",
              "      <td>0.877959</td>\n",
              "      <td>0.105612</td>\n",
              "      <td>-0.115208</td>\n",
              "      <td>-1.018208</td>\n",
              "      <td>-0.271581</td>\n",
              "      <td>-1.288642</td>\n",
              "      <td>0.958785</td>\n",
              "      <td>-0.871096</td>\n",
              "      <td>-0.418749</td>\n",
              "      <td>-0.490081</td>\n",
              "      <td>0.626407</td>\n",
              "      <td>-0.198943</td>\n",
              "      <td>-0.347152</td>\n",
              "      <td>-0.435184</td>\n",
              "      <td>-1.151975</td>\n",
              "      <td>0.578313</td>\n",
              "      <td>-0.886329</td>\n",
              "      <td>-0.822982</td>\n",
              "      <td>-0.226634</td>\n",
              "      <td>-0.283929</td>\n",
              "      <td>1.981604</td>\n",
              "      <td>-1.215469</td>\n",
              "      <td>-1.393400</td>\n",
              "      <td>-1.363174</td>\n",
              "      <td>...</td>\n",
              "      <td>-0.507074</td>\n",
              "      <td>0.219439</td>\n",
              "      <td>0.757542</td>\n",
              "      <td>-0.403923</td>\n",
              "      <td>1.555664</td>\n",
              "      <td>-0.238299</td>\n",
              "      <td>-0.465715</td>\n",
              "      <td>0.048703</td>\n",
              "      <td>-1.476787</td>\n",
              "      <td>0.231510</td>\n",
              "      <td>-1.585887</td>\n",
              "      <td>-0.217748</td>\n",
              "      <td>-0.814278</td>\n",
              "      <td>1.380526</td>\n",
              "      <td>-1.528244</td>\n",
              "      <td>-0.317623</td>\n",
              "      <td>1.142735</td>\n",
              "      <td>-0.717257</td>\n",
              "      <td>-0.832067</td>\n",
              "      <td>-0.021751</td>\n",
              "      <td>1.325193</td>\n",
              "      <td>1.025059</td>\n",
              "      <td>1.611192</td>\n",
              "      <td>-0.750520</td>\n",
              "      <td>0.455178</td>\n",
              "      <td>1.563039</td>\n",
              "      <td>-0.605778</td>\n",
              "      <td>0.284124</td>\n",
              "      <td>0.829499</td>\n",
              "      <td>1.301307</td>\n",
              "      <td>0.512866</td>\n",
              "      <td>-0.407748</td>\n",
              "      <td>-0.484905</td>\n",
              "      <td>-0.785844</td>\n",
              "      <td>0.075456</td>\n",
              "      <td>-0.897514</td>\n",
              "      <td>0.608384</td>\n",
              "      <td>-0.636571</td>\n",
              "      <td>0.644593</td>\n",
              "      <td>111.180601</td>\n",
              "    </tr>\n",
              "  </tbody>\n",
              "</table>\n",
              "<p>5 rows × 101 columns</p>\n",
              "</div>"
            ],
            "text/plain": [
              "        f_0       f_1       f_2  ...      f_98      f_99      target\n",
              "0  1.008858  2.284810  0.817840  ... -0.613858  1.059819 -153.844394\n",
              "1 -0.424836 -1.204355  0.990726  ...  0.063595  0.394417 -138.607729\n",
              "2  0.682903  1.862604 -0.529048  ... -1.033369 -0.780333  381.253012\n",
              "3 -0.633509  0.491690  0.830308  ...  0.112564 -0.176341  171.779468\n",
              "4 -1.599006  1.417965  1.528813  ... -0.636571  0.644593  111.180601\n",
              "\n",
              "[5 rows x 101 columns]"
            ]
          },
          "metadata": {
            "tags": []
          },
          "execution_count": 101
        }
      ]
    },
    {
      "cell_type": "markdown",
      "metadata": {
        "id": "WDmN5ukBIEs3"
      },
      "source": [
        "#### Criando os folds"
      ]
    },
    {
      "cell_type": "code",
      "metadata": {
        "id": "pFy6yMIGFfGv"
      },
      "source": [
        "import pandas as pd\n",
        "import numpy as np\n",
        "from sklearn import model_selection"
      ],
      "execution_count": 102,
      "outputs": []
    },
    {
      "cell_type": "markdown",
      "metadata": {
        "id": "k-Q6PLkwJ7Kh"
      },
      "source": [
        "Da mesma forma que nos exemplos anteriores, vamos criar uma coluna `s_kfold` e inicia-la com o valor -1"
      ]
    },
    {
      "cell_type": "code",
      "metadata": {
        "id": "b1dVQvZ1IVy_"
      },
      "source": [
        "df['s_kfold'] = -1"
      ],
      "execution_count": 103,
      "outputs": []
    },
    {
      "cell_type": "markdown",
      "metadata": {
        "id": "635zjTKALuKF"
      },
      "source": [
        "##### Calculando e separando os bins"
      ]
    },
    {
      "cell_type": "markdown",
      "metadata": {
        "id": "fhhEFImQKEKl"
      },
      "source": [
        "Usando a fórmula geral para calcular o número apropriado de bins"
      ]
    },
    {
      "cell_type": "code",
      "metadata": {
        "colab": {
          "base_uri": "https://localhost:8080/"
        },
        "id": "NAldb5QFIfaq",
        "outputId": "a89d241f-2352-47d4-c16b-1c36a047ba79"
      },
      "source": [
        "num_bins = np.floor(1 + np.log2(len(df)))\n",
        "\n",
        "num_bins"
      ],
      "execution_count": 104,
      "outputs": [
        {
          "output_type": "execute_result",
          "data": {
            "text/plain": [
              "14.0"
            ]
          },
          "metadata": {
            "tags": []
          },
          "execution_count": 104
        }
      ]
    },
    {
      "cell_type": "markdown",
      "metadata": {
        "id": "Vp1v97EeKLiT"
      },
      "source": [
        "Redefinindo o DataFrame com a separação por bins usando o método `cut()`"
      ]
    },
    {
      "cell_type": "code",
      "metadata": {
        "colab": {
          "base_uri": "https://localhost:8080/",
          "height": 253
        },
        "id": "qNVFPnpzI4wn",
        "outputId": "c5157495-4a6d-4751-8f11-91064eee3439"
      },
      "source": [
        "# Ao usar labels=False o metodo cut devolve um inteiro que representa cada classe\n",
        "# Caso não fosse passado nada, os valores seriam os intervalos que se encontram aquela entrada\n",
        "df['classe'] = pd.cut(df.target, bins=int(num_bins), labels=False)\n",
        "\n",
        "df.head()"
      ],
      "execution_count": 105,
      "outputs": [
        {
          "output_type": "execute_result",
          "data": {
            "text/html": [
              "<div>\n",
              "<style scoped>\n",
              "    .dataframe tbody tr th:only-of-type {\n",
              "        vertical-align: middle;\n",
              "    }\n",
              "\n",
              "    .dataframe tbody tr th {\n",
              "        vertical-align: top;\n",
              "    }\n",
              "\n",
              "    .dataframe thead th {\n",
              "        text-align: right;\n",
              "    }\n",
              "</style>\n",
              "<table border=\"1\" class=\"dataframe\">\n",
              "  <thead>\n",
              "    <tr style=\"text-align: right;\">\n",
              "      <th></th>\n",
              "      <th>f_0</th>\n",
              "      <th>f_1</th>\n",
              "      <th>f_2</th>\n",
              "      <th>f_3</th>\n",
              "      <th>f_4</th>\n",
              "      <th>f_5</th>\n",
              "      <th>f_6</th>\n",
              "      <th>f_7</th>\n",
              "      <th>f_8</th>\n",
              "      <th>f_9</th>\n",
              "      <th>f_10</th>\n",
              "      <th>f_11</th>\n",
              "      <th>f_12</th>\n",
              "      <th>f_13</th>\n",
              "      <th>f_14</th>\n",
              "      <th>f_15</th>\n",
              "      <th>f_16</th>\n",
              "      <th>f_17</th>\n",
              "      <th>f_18</th>\n",
              "      <th>f_19</th>\n",
              "      <th>f_20</th>\n",
              "      <th>f_21</th>\n",
              "      <th>f_22</th>\n",
              "      <th>f_23</th>\n",
              "      <th>f_24</th>\n",
              "      <th>f_25</th>\n",
              "      <th>f_26</th>\n",
              "      <th>f_27</th>\n",
              "      <th>f_28</th>\n",
              "      <th>f_29</th>\n",
              "      <th>f_30</th>\n",
              "      <th>f_31</th>\n",
              "      <th>f_32</th>\n",
              "      <th>f_33</th>\n",
              "      <th>f_34</th>\n",
              "      <th>f_35</th>\n",
              "      <th>f_36</th>\n",
              "      <th>f_37</th>\n",
              "      <th>f_38</th>\n",
              "      <th>f_39</th>\n",
              "      <th>...</th>\n",
              "      <th>f_63</th>\n",
              "      <th>f_64</th>\n",
              "      <th>f_65</th>\n",
              "      <th>f_66</th>\n",
              "      <th>f_67</th>\n",
              "      <th>f_68</th>\n",
              "      <th>f_69</th>\n",
              "      <th>f_70</th>\n",
              "      <th>f_71</th>\n",
              "      <th>f_72</th>\n",
              "      <th>f_73</th>\n",
              "      <th>f_74</th>\n",
              "      <th>f_75</th>\n",
              "      <th>f_76</th>\n",
              "      <th>f_77</th>\n",
              "      <th>f_78</th>\n",
              "      <th>f_79</th>\n",
              "      <th>f_80</th>\n",
              "      <th>f_81</th>\n",
              "      <th>f_82</th>\n",
              "      <th>f_83</th>\n",
              "      <th>f_84</th>\n",
              "      <th>f_85</th>\n",
              "      <th>f_86</th>\n",
              "      <th>f_87</th>\n",
              "      <th>f_88</th>\n",
              "      <th>f_89</th>\n",
              "      <th>f_90</th>\n",
              "      <th>f_91</th>\n",
              "      <th>f_92</th>\n",
              "      <th>f_93</th>\n",
              "      <th>f_94</th>\n",
              "      <th>f_95</th>\n",
              "      <th>f_96</th>\n",
              "      <th>f_97</th>\n",
              "      <th>f_98</th>\n",
              "      <th>f_99</th>\n",
              "      <th>target</th>\n",
              "      <th>s_kfold</th>\n",
              "      <th>classe</th>\n",
              "    </tr>\n",
              "  </thead>\n",
              "  <tbody>\n",
              "    <tr>\n",
              "      <th>0</th>\n",
              "      <td>1.008858</td>\n",
              "      <td>2.284810</td>\n",
              "      <td>0.817840</td>\n",
              "      <td>-1.165121</td>\n",
              "      <td>0.797652</td>\n",
              "      <td>0.238728</td>\n",
              "      <td>0.116529</td>\n",
              "      <td>1.192037</td>\n",
              "      <td>0.309803</td>\n",
              "      <td>0.342872</td>\n",
              "      <td>-0.385810</td>\n",
              "      <td>0.018683</td>\n",
              "      <td>0.285109</td>\n",
              "      <td>0.074341</td>\n",
              "      <td>0.169465</td>\n",
              "      <td>-1.869398</td>\n",
              "      <td>0.630036</td>\n",
              "      <td>0.269496</td>\n",
              "      <td>-0.928607</td>\n",
              "      <td>-0.457776</td>\n",
              "      <td>-0.733857</td>\n",
              "      <td>0.464741</td>\n",
              "      <td>-0.507720</td>\n",
              "      <td>-0.824561</td>\n",
              "      <td>-0.529614</td>\n",
              "      <td>-0.681307</td>\n",
              "      <td>-0.723927</td>\n",
              "      <td>-1.569802</td>\n",
              "      <td>-0.205045</td>\n",
              "      <td>0.572418</td>\n",
              "      <td>1.537875</td>\n",
              "      <td>1.060685</td>\n",
              "      <td>0.028801</td>\n",
              "      <td>-1.719051</td>\n",
              "      <td>-0.043473</td>\n",
              "      <td>0.657884</td>\n",
              "      <td>-0.315808</td>\n",
              "      <td>0.686687</td>\n",
              "      <td>2.424121</td>\n",
              "      <td>0.978476</td>\n",
              "      <td>...</td>\n",
              "      <td>0.141858</td>\n",
              "      <td>-3.047870</td>\n",
              "      <td>-0.739223</td>\n",
              "      <td>1.107809</td>\n",
              "      <td>-0.558307</td>\n",
              "      <td>-0.765934</td>\n",
              "      <td>-1.427559</td>\n",
              "      <td>0.641801</td>\n",
              "      <td>-0.533696</td>\n",
              "      <td>0.580426</td>\n",
              "      <td>0.231759</td>\n",
              "      <td>-1.429090</td>\n",
              "      <td>-0.872654</td>\n",
              "      <td>-0.589654</td>\n",
              "      <td>-0.632985</td>\n",
              "      <td>-0.080138</td>\n",
              "      <td>-0.870840</td>\n",
              "      <td>-0.225724</td>\n",
              "      <td>-0.691976</td>\n",
              "      <td>0.066254</td>\n",
              "      <td>-1.640243</td>\n",
              "      <td>-0.073005</td>\n",
              "      <td>0.093514</td>\n",
              "      <td>-1.024896</td>\n",
              "      <td>0.528372</td>\n",
              "      <td>-0.595213</td>\n",
              "      <td>-0.854530</td>\n",
              "      <td>0.526494</td>\n",
              "      <td>0.039229</td>\n",
              "      <td>0.356891</td>\n",
              "      <td>0.312084</td>\n",
              "      <td>0.830106</td>\n",
              "      <td>0.516636</td>\n",
              "      <td>0.029569</td>\n",
              "      <td>0.218131</td>\n",
              "      <td>-0.613858</td>\n",
              "      <td>1.059819</td>\n",
              "      <td>-153.844394</td>\n",
              "      <td>-1</td>\n",
              "      <td>5</td>\n",
              "    </tr>\n",
              "    <tr>\n",
              "      <th>1</th>\n",
              "      <td>-0.424836</td>\n",
              "      <td>-1.204355</td>\n",
              "      <td>0.990726</td>\n",
              "      <td>-1.691361</td>\n",
              "      <td>-0.470760</td>\n",
              "      <td>-0.425230</td>\n",
              "      <td>-0.722171</td>\n",
              "      <td>0.605408</td>\n",
              "      <td>-2.700422</td>\n",
              "      <td>2.032132</td>\n",
              "      <td>-0.222166</td>\n",
              "      <td>2.768601</td>\n",
              "      <td>-2.059036</td>\n",
              "      <td>0.063176</td>\n",
              "      <td>-0.594411</td>\n",
              "      <td>0.025728</td>\n",
              "      <td>0.266105</td>\n",
              "      <td>0.737032</td>\n",
              "      <td>-1.813823</td>\n",
              "      <td>-0.548713</td>\n",
              "      <td>-0.321928</td>\n",
              "      <td>1.202412</td>\n",
              "      <td>-2.423574</td>\n",
              "      <td>0.719409</td>\n",
              "      <td>-0.228544</td>\n",
              "      <td>1.157950</td>\n",
              "      <td>1.009423</td>\n",
              "      <td>-0.649892</td>\n",
              "      <td>-0.425900</td>\n",
              "      <td>0.399014</td>\n",
              "      <td>2.552479</td>\n",
              "      <td>-0.862790</td>\n",
              "      <td>-0.399365</td>\n",
              "      <td>-0.446981</td>\n",
              "      <td>2.101953</td>\n",
              "      <td>0.261636</td>\n",
              "      <td>-1.382652</td>\n",
              "      <td>-1.183960</td>\n",
              "      <td>0.965530</td>\n",
              "      <td>-0.977431</td>\n",
              "      <td>...</td>\n",
              "      <td>0.838778</td>\n",
              "      <td>1.210318</td>\n",
              "      <td>0.408962</td>\n",
              "      <td>0.531239</td>\n",
              "      <td>1.635291</td>\n",
              "      <td>-0.070851</td>\n",
              "      <td>-0.732569</td>\n",
              "      <td>-1.014164</td>\n",
              "      <td>-0.719296</td>\n",
              "      <td>0.627374</td>\n",
              "      <td>0.618823</td>\n",
              "      <td>0.841599</td>\n",
              "      <td>-0.200816</td>\n",
              "      <td>0.259595</td>\n",
              "      <td>0.543711</td>\n",
              "      <td>0.398868</td>\n",
              "      <td>-1.881387</td>\n",
              "      <td>0.159840</td>\n",
              "      <td>-0.218661</td>\n",
              "      <td>-1.922924</td>\n",
              "      <td>1.443872</td>\n",
              "      <td>-0.444387</td>\n",
              "      <td>0.042015</td>\n",
              "      <td>-1.038133</td>\n",
              "      <td>-0.382581</td>\n",
              "      <td>0.689422</td>\n",
              "      <td>1.102253</td>\n",
              "      <td>-0.456063</td>\n",
              "      <td>-0.470606</td>\n",
              "      <td>-0.446154</td>\n",
              "      <td>-0.687477</td>\n",
              "      <td>0.355566</td>\n",
              "      <td>1.474005</td>\n",
              "      <td>0.231861</td>\n",
              "      <td>0.657900</td>\n",
              "      <td>0.063595</td>\n",
              "      <td>0.394417</td>\n",
              "      <td>-138.607729</td>\n",
              "      <td>-1</td>\n",
              "      <td>6</td>\n",
              "    </tr>\n",
              "    <tr>\n",
              "      <th>2</th>\n",
              "      <td>0.682903</td>\n",
              "      <td>1.862604</td>\n",
              "      <td>-0.529048</td>\n",
              "      <td>0.081843</td>\n",
              "      <td>-0.991939</td>\n",
              "      <td>1.619431</td>\n",
              "      <td>-0.263431</td>\n",
              "      <td>-0.030493</td>\n",
              "      <td>0.267007</td>\n",
              "      <td>-0.265248</td>\n",
              "      <td>-0.102520</td>\n",
              "      <td>-0.556463</td>\n",
              "      <td>0.343162</td>\n",
              "      <td>-0.557935</td>\n",
              "      <td>0.970376</td>\n",
              "      <td>-0.791325</td>\n",
              "      <td>-1.450562</td>\n",
              "      <td>0.177263</td>\n",
              "      <td>0.084366</td>\n",
              "      <td>0.915431</td>\n",
              "      <td>-1.198478</td>\n",
              "      <td>-0.091856</td>\n",
              "      <td>0.781257</td>\n",
              "      <td>0.197358</td>\n",
              "      <td>0.042887</td>\n",
              "      <td>1.093087</td>\n",
              "      <td>-1.303684</td>\n",
              "      <td>0.816539</td>\n",
              "      <td>-0.577282</td>\n",
              "      <td>-2.452862</td>\n",
              "      <td>-0.485766</td>\n",
              "      <td>0.739368</td>\n",
              "      <td>1.626127</td>\n",
              "      <td>-1.492544</td>\n",
              "      <td>0.636118</td>\n",
              "      <td>-0.389314</td>\n",
              "      <td>-0.672853</td>\n",
              "      <td>0.570146</td>\n",
              "      <td>0.857533</td>\n",
              "      <td>0.349283</td>\n",
              "      <td>...</td>\n",
              "      <td>-1.108353</td>\n",
              "      <td>-1.256346</td>\n",
              "      <td>-0.156912</td>\n",
              "      <td>0.348855</td>\n",
              "      <td>0.431260</td>\n",
              "      <td>2.855606</td>\n",
              "      <td>-0.870414</td>\n",
              "      <td>0.279880</td>\n",
              "      <td>0.599055</td>\n",
              "      <td>0.778658</td>\n",
              "      <td>-1.220131</td>\n",
              "      <td>0.814576</td>\n",
              "      <td>1.273288</td>\n",
              "      <td>1.500666</td>\n",
              "      <td>-0.286381</td>\n",
              "      <td>-0.353544</td>\n",
              "      <td>-0.627171</td>\n",
              "      <td>-0.186709</td>\n",
              "      <td>0.965286</td>\n",
              "      <td>-0.984076</td>\n",
              "      <td>-0.668008</td>\n",
              "      <td>-0.483776</td>\n",
              "      <td>0.555024</td>\n",
              "      <td>-0.073135</td>\n",
              "      <td>0.109293</td>\n",
              "      <td>0.041288</td>\n",
              "      <td>0.896392</td>\n",
              "      <td>0.863692</td>\n",
              "      <td>-1.507522</td>\n",
              "      <td>0.136533</td>\n",
              "      <td>0.757733</td>\n",
              "      <td>1.088945</td>\n",
              "      <td>0.406436</td>\n",
              "      <td>0.309261</td>\n",
              "      <td>-1.460208</td>\n",
              "      <td>-1.033369</td>\n",
              "      <td>-0.780333</td>\n",
              "      <td>381.253012</td>\n",
              "      <td>-1</td>\n",
              "      <td>9</td>\n",
              "    </tr>\n",
              "    <tr>\n",
              "      <th>3</th>\n",
              "      <td>-0.633509</td>\n",
              "      <td>0.491690</td>\n",
              "      <td>0.830308</td>\n",
              "      <td>-0.227263</td>\n",
              "      <td>-1.480178</td>\n",
              "      <td>-0.132106</td>\n",
              "      <td>-2.311250</td>\n",
              "      <td>-0.182068</td>\n",
              "      <td>1.031627</td>\n",
              "      <td>-0.516814</td>\n",
              "      <td>0.384579</td>\n",
              "      <td>0.777809</td>\n",
              "      <td>-0.336775</td>\n",
              "      <td>0.388959</td>\n",
              "      <td>-0.481916</td>\n",
              "      <td>-0.244291</td>\n",
              "      <td>-0.030779</td>\n",
              "      <td>-1.616129</td>\n",
              "      <td>-0.920296</td>\n",
              "      <td>-1.784803</td>\n",
              "      <td>-0.175111</td>\n",
              "      <td>0.387448</td>\n",
              "      <td>-1.001607</td>\n",
              "      <td>1.532969</td>\n",
              "      <td>0.486208</td>\n",
              "      <td>-0.757650</td>\n",
              "      <td>1.136110</td>\n",
              "      <td>0.569011</td>\n",
              "      <td>-0.991577</td>\n",
              "      <td>-1.709308</td>\n",
              "      <td>1.344883</td>\n",
              "      <td>1.845385</td>\n",
              "      <td>0.373258</td>\n",
              "      <td>-2.855987</td>\n",
              "      <td>0.897436</td>\n",
              "      <td>-0.652043</td>\n",
              "      <td>0.452555</td>\n",
              "      <td>-0.694508</td>\n",
              "      <td>-0.885058</td>\n",
              "      <td>-0.145723</td>\n",
              "      <td>...</td>\n",
              "      <td>0.926209</td>\n",
              "      <td>0.371759</td>\n",
              "      <td>0.836966</td>\n",
              "      <td>0.656125</td>\n",
              "      <td>-0.894514</td>\n",
              "      <td>1.704168</td>\n",
              "      <td>0.377818</td>\n",
              "      <td>-1.131469</td>\n",
              "      <td>0.576183</td>\n",
              "      <td>0.330731</td>\n",
              "      <td>0.894315</td>\n",
              "      <td>1.049757</td>\n",
              "      <td>0.955032</td>\n",
              "      <td>-1.234649</td>\n",
              "      <td>0.875601</td>\n",
              "      <td>-1.723067</td>\n",
              "      <td>0.100871</td>\n",
              "      <td>-1.161299</td>\n",
              "      <td>-0.297936</td>\n",
              "      <td>-0.061590</td>\n",
              "      <td>0.202171</td>\n",
              "      <td>0.034844</td>\n",
              "      <td>-0.051593</td>\n",
              "      <td>1.022784</td>\n",
              "      <td>-1.619743</td>\n",
              "      <td>1.358908</td>\n",
              "      <td>-0.261398</td>\n",
              "      <td>-0.736771</td>\n",
              "      <td>-1.692450</td>\n",
              "      <td>1.053211</td>\n",
              "      <td>0.266579</td>\n",
              "      <td>1.913594</td>\n",
              "      <td>-0.814718</td>\n",
              "      <td>1.166581</td>\n",
              "      <td>0.199323</td>\n",
              "      <td>0.112564</td>\n",
              "      <td>-0.176341</td>\n",
              "      <td>171.779468</td>\n",
              "      <td>-1</td>\n",
              "      <td>8</td>\n",
              "    </tr>\n",
              "    <tr>\n",
              "      <th>4</th>\n",
              "      <td>-1.599006</td>\n",
              "      <td>1.417965</td>\n",
              "      <td>1.528813</td>\n",
              "      <td>0.392245</td>\n",
              "      <td>0.461270</td>\n",
              "      <td>-0.429333</td>\n",
              "      <td>1.166085</td>\n",
              "      <td>-0.577387</td>\n",
              "      <td>-0.507151</td>\n",
              "      <td>2.402715</td>\n",
              "      <td>-1.172462</td>\n",
              "      <td>-0.107426</td>\n",
              "      <td>0.615708</td>\n",
              "      <td>-1.044278</td>\n",
              "      <td>1.221689</td>\n",
              "      <td>-0.479070</td>\n",
              "      <td>0.877959</td>\n",
              "      <td>0.105612</td>\n",
              "      <td>-0.115208</td>\n",
              "      <td>-1.018208</td>\n",
              "      <td>-0.271581</td>\n",
              "      <td>-1.288642</td>\n",
              "      <td>0.958785</td>\n",
              "      <td>-0.871096</td>\n",
              "      <td>-0.418749</td>\n",
              "      <td>-0.490081</td>\n",
              "      <td>0.626407</td>\n",
              "      <td>-0.198943</td>\n",
              "      <td>-0.347152</td>\n",
              "      <td>-0.435184</td>\n",
              "      <td>-1.151975</td>\n",
              "      <td>0.578313</td>\n",
              "      <td>-0.886329</td>\n",
              "      <td>-0.822982</td>\n",
              "      <td>-0.226634</td>\n",
              "      <td>-0.283929</td>\n",
              "      <td>1.981604</td>\n",
              "      <td>-1.215469</td>\n",
              "      <td>-1.393400</td>\n",
              "      <td>-1.363174</td>\n",
              "      <td>...</td>\n",
              "      <td>0.757542</td>\n",
              "      <td>-0.403923</td>\n",
              "      <td>1.555664</td>\n",
              "      <td>-0.238299</td>\n",
              "      <td>-0.465715</td>\n",
              "      <td>0.048703</td>\n",
              "      <td>-1.476787</td>\n",
              "      <td>0.231510</td>\n",
              "      <td>-1.585887</td>\n",
              "      <td>-0.217748</td>\n",
              "      <td>-0.814278</td>\n",
              "      <td>1.380526</td>\n",
              "      <td>-1.528244</td>\n",
              "      <td>-0.317623</td>\n",
              "      <td>1.142735</td>\n",
              "      <td>-0.717257</td>\n",
              "      <td>-0.832067</td>\n",
              "      <td>-0.021751</td>\n",
              "      <td>1.325193</td>\n",
              "      <td>1.025059</td>\n",
              "      <td>1.611192</td>\n",
              "      <td>-0.750520</td>\n",
              "      <td>0.455178</td>\n",
              "      <td>1.563039</td>\n",
              "      <td>-0.605778</td>\n",
              "      <td>0.284124</td>\n",
              "      <td>0.829499</td>\n",
              "      <td>1.301307</td>\n",
              "      <td>0.512866</td>\n",
              "      <td>-0.407748</td>\n",
              "      <td>-0.484905</td>\n",
              "      <td>-0.785844</td>\n",
              "      <td>0.075456</td>\n",
              "      <td>-0.897514</td>\n",
              "      <td>0.608384</td>\n",
              "      <td>-0.636571</td>\n",
              "      <td>0.644593</td>\n",
              "      <td>111.180601</td>\n",
              "      <td>-1</td>\n",
              "      <td>7</td>\n",
              "    </tr>\n",
              "  </tbody>\n",
              "</table>\n",
              "<p>5 rows × 103 columns</p>\n",
              "</div>"
            ],
            "text/plain": [
              "        f_0       f_1       f_2  ...      target  s_kfold  classe\n",
              "0  1.008858  2.284810  0.817840  ... -153.844394       -1       5\n",
              "1 -0.424836 -1.204355  0.990726  ... -138.607729       -1       6\n",
              "2  0.682903  1.862604 -0.529048  ...  381.253012       -1       9\n",
              "3 -0.633509  0.491690  0.830308  ...  171.779468       -1       8\n",
              "4 -1.599006  1.417965  1.528813  ...  111.180601       -1       7\n",
              "\n",
              "[5 rows x 103 columns]"
            ]
          },
          "metadata": {
            "tags": []
          },
          "execution_count": 105
        }
      ]
    },
    {
      "cell_type": "markdown",
      "metadata": {
        "id": "kXGorKLbKaJB"
      },
      "source": [
        "Criando os Stratifeid KFolds"
      ]
    },
    {
      "cell_type": "code",
      "metadata": {
        "id": "j_y-ued0JxQu"
      },
      "source": [
        "skf = model_selection.StratifiedKFold(n_splits=5)"
      ],
      "execution_count": 106,
      "outputs": []
    },
    {
      "cell_type": "markdown",
      "metadata": {
        "id": "huO-cBKpKiXo"
      },
      "source": [
        "Separando os dados em X e y"
      ]
    },
    {
      "cell_type": "code",
      "metadata": {
        "id": "QxWIbgHBNdmn"
      },
      "source": [
        "X = df.drop(['target', 'classe'], axis=1)\n",
        "y = df.classe"
      ],
      "execution_count": 107,
      "outputs": []
    },
    {
      "cell_type": "markdown",
      "metadata": {
        "id": "rIEX6jA8Kmu3"
      },
      "source": [
        "Adicionando a coluna `s_kfold` o grupo que o modelo separou para cada entrada"
      ]
    },
    {
      "cell_type": "code",
      "metadata": {
        "id": "7sO0PErCMavA"
      },
      "source": [
        "for fold, (trn_, val_) in enumerate(skf.split(X, y)):\n",
        "  X.loc[val_, 's_kfold'] = fold"
      ],
      "execution_count": 108,
      "outputs": []
    },
    {
      "cell_type": "markdown",
      "metadata": {
        "id": "7uGq6A8dME4p"
      },
      "source": [
        "Vamos embaralhar o dataFrame para podermos ver que os valores de 0 a 4 (os 5 splits) foram distribuídos na coluna `s_kfold`"
      ]
    },
    {
      "cell_type": "code",
      "metadata": {
        "colab": {
          "base_uri": "https://localhost:8080/",
          "height": 408
        },
        "id": "1qCQJe1cME4q",
        "outputId": "025ea5cb-4b09-4406-d339-a0a9792c60f3"
      },
      "source": [
        "X.sample(frac=1).head(10)"
      ],
      "execution_count": 109,
      "outputs": [
        {
          "output_type": "execute_result",
          "data": {
            "text/html": [
              "<div>\n",
              "<style scoped>\n",
              "    .dataframe tbody tr th:only-of-type {\n",
              "        vertical-align: middle;\n",
              "    }\n",
              "\n",
              "    .dataframe tbody tr th {\n",
              "        vertical-align: top;\n",
              "    }\n",
              "\n",
              "    .dataframe thead th {\n",
              "        text-align: right;\n",
              "    }\n",
              "</style>\n",
              "<table border=\"1\" class=\"dataframe\">\n",
              "  <thead>\n",
              "    <tr style=\"text-align: right;\">\n",
              "      <th></th>\n",
              "      <th>f_0</th>\n",
              "      <th>f_1</th>\n",
              "      <th>f_2</th>\n",
              "      <th>f_3</th>\n",
              "      <th>f_4</th>\n",
              "      <th>f_5</th>\n",
              "      <th>f_6</th>\n",
              "      <th>f_7</th>\n",
              "      <th>f_8</th>\n",
              "      <th>f_9</th>\n",
              "      <th>f_10</th>\n",
              "      <th>f_11</th>\n",
              "      <th>f_12</th>\n",
              "      <th>f_13</th>\n",
              "      <th>f_14</th>\n",
              "      <th>f_15</th>\n",
              "      <th>f_16</th>\n",
              "      <th>f_17</th>\n",
              "      <th>f_18</th>\n",
              "      <th>f_19</th>\n",
              "      <th>f_20</th>\n",
              "      <th>f_21</th>\n",
              "      <th>f_22</th>\n",
              "      <th>f_23</th>\n",
              "      <th>f_24</th>\n",
              "      <th>f_25</th>\n",
              "      <th>f_26</th>\n",
              "      <th>f_27</th>\n",
              "      <th>f_28</th>\n",
              "      <th>f_29</th>\n",
              "      <th>f_30</th>\n",
              "      <th>f_31</th>\n",
              "      <th>f_32</th>\n",
              "      <th>f_33</th>\n",
              "      <th>f_34</th>\n",
              "      <th>f_35</th>\n",
              "      <th>f_36</th>\n",
              "      <th>f_37</th>\n",
              "      <th>f_38</th>\n",
              "      <th>f_39</th>\n",
              "      <th>...</th>\n",
              "      <th>f_61</th>\n",
              "      <th>f_62</th>\n",
              "      <th>f_63</th>\n",
              "      <th>f_64</th>\n",
              "      <th>f_65</th>\n",
              "      <th>f_66</th>\n",
              "      <th>f_67</th>\n",
              "      <th>f_68</th>\n",
              "      <th>f_69</th>\n",
              "      <th>f_70</th>\n",
              "      <th>f_71</th>\n",
              "      <th>f_72</th>\n",
              "      <th>f_73</th>\n",
              "      <th>f_74</th>\n",
              "      <th>f_75</th>\n",
              "      <th>f_76</th>\n",
              "      <th>f_77</th>\n",
              "      <th>f_78</th>\n",
              "      <th>f_79</th>\n",
              "      <th>f_80</th>\n",
              "      <th>f_81</th>\n",
              "      <th>f_82</th>\n",
              "      <th>f_83</th>\n",
              "      <th>f_84</th>\n",
              "      <th>f_85</th>\n",
              "      <th>f_86</th>\n",
              "      <th>f_87</th>\n",
              "      <th>f_88</th>\n",
              "      <th>f_89</th>\n",
              "      <th>f_90</th>\n",
              "      <th>f_91</th>\n",
              "      <th>f_92</th>\n",
              "      <th>f_93</th>\n",
              "      <th>f_94</th>\n",
              "      <th>f_95</th>\n",
              "      <th>f_96</th>\n",
              "      <th>f_97</th>\n",
              "      <th>f_98</th>\n",
              "      <th>f_99</th>\n",
              "      <th>s_kfold</th>\n",
              "    </tr>\n",
              "  </thead>\n",
              "  <tbody>\n",
              "    <tr>\n",
              "      <th>13456</th>\n",
              "      <td>-1.016741</td>\n",
              "      <td>-0.407963</td>\n",
              "      <td>0.069712</td>\n",
              "      <td>0.247422</td>\n",
              "      <td>-1.043340</td>\n",
              "      <td>0.614084</td>\n",
              "      <td>0.482814</td>\n",
              "      <td>0.496833</td>\n",
              "      <td>-1.670109</td>\n",
              "      <td>-0.541163</td>\n",
              "      <td>0.520856</td>\n",
              "      <td>-0.111358</td>\n",
              "      <td>0.088756</td>\n",
              "      <td>0.316861</td>\n",
              "      <td>1.724103</td>\n",
              "      <td>0.367541</td>\n",
              "      <td>-0.348433</td>\n",
              "      <td>0.917965</td>\n",
              "      <td>0.958050</td>\n",
              "      <td>-0.314617</td>\n",
              "      <td>0.522124</td>\n",
              "      <td>1.796743</td>\n",
              "      <td>-0.046160</td>\n",
              "      <td>2.020304</td>\n",
              "      <td>0.565390</td>\n",
              "      <td>0.634700</td>\n",
              "      <td>-0.037834</td>\n",
              "      <td>0.052676</td>\n",
              "      <td>1.253209</td>\n",
              "      <td>-2.389807</td>\n",
              "      <td>0.464545</td>\n",
              "      <td>1.002770</td>\n",
              "      <td>0.114167</td>\n",
              "      <td>0.051181</td>\n",
              "      <td>0.409321</td>\n",
              "      <td>0.056742</td>\n",
              "      <td>2.488444</td>\n",
              "      <td>0.093892</td>\n",
              "      <td>-1.117795</td>\n",
              "      <td>-0.811692</td>\n",
              "      <td>...</td>\n",
              "      <td>-1.350725</td>\n",
              "      <td>0.791166</td>\n",
              "      <td>0.599477</td>\n",
              "      <td>-1.469382</td>\n",
              "      <td>1.550084</td>\n",
              "      <td>0.627548</td>\n",
              "      <td>-0.883358</td>\n",
              "      <td>-1.095036</td>\n",
              "      <td>0.540051</td>\n",
              "      <td>-0.824422</td>\n",
              "      <td>-0.361230</td>\n",
              "      <td>-1.257843</td>\n",
              "      <td>0.902751</td>\n",
              "      <td>1.035129</td>\n",
              "      <td>1.333944</td>\n",
              "      <td>0.342474</td>\n",
              "      <td>0.656371</td>\n",
              "      <td>-0.286757</td>\n",
              "      <td>0.466918</td>\n",
              "      <td>0.794684</td>\n",
              "      <td>-1.126894</td>\n",
              "      <td>-0.083523</td>\n",
              "      <td>2.119656</td>\n",
              "      <td>0.871998</td>\n",
              "      <td>0.604762</td>\n",
              "      <td>-1.631875</td>\n",
              "      <td>-0.034273</td>\n",
              "      <td>1.581326</td>\n",
              "      <td>-0.442718</td>\n",
              "      <td>0.520286</td>\n",
              "      <td>0.214868</td>\n",
              "      <td>-1.205762</td>\n",
              "      <td>-0.143716</td>\n",
              "      <td>0.009819</td>\n",
              "      <td>-1.437502</td>\n",
              "      <td>-1.075362</td>\n",
              "      <td>-0.130249</td>\n",
              "      <td>1.111530</td>\n",
              "      <td>0.732158</td>\n",
              "      <td>4</td>\n",
              "    </tr>\n",
              "    <tr>\n",
              "      <th>3960</th>\n",
              "      <td>-0.286281</td>\n",
              "      <td>-0.082269</td>\n",
              "      <td>0.037670</td>\n",
              "      <td>-0.039428</td>\n",
              "      <td>-2.867487</td>\n",
              "      <td>-1.157487</td>\n",
              "      <td>-0.299677</td>\n",
              "      <td>0.081282</td>\n",
              "      <td>-0.870588</td>\n",
              "      <td>-0.317019</td>\n",
              "      <td>1.323024</td>\n",
              "      <td>-1.136109</td>\n",
              "      <td>-0.839996</td>\n",
              "      <td>0.650032</td>\n",
              "      <td>-0.250726</td>\n",
              "      <td>0.037942</td>\n",
              "      <td>1.567993</td>\n",
              "      <td>0.178794</td>\n",
              "      <td>-2.936851</td>\n",
              "      <td>0.770432</td>\n",
              "      <td>0.682967</td>\n",
              "      <td>-0.686762</td>\n",
              "      <td>-0.527671</td>\n",
              "      <td>0.509906</td>\n",
              "      <td>-0.007228</td>\n",
              "      <td>-1.054243</td>\n",
              "      <td>-0.788684</td>\n",
              "      <td>0.433828</td>\n",
              "      <td>0.229608</td>\n",
              "      <td>-1.080501</td>\n",
              "      <td>0.061595</td>\n",
              "      <td>1.469493</td>\n",
              "      <td>0.012473</td>\n",
              "      <td>-1.618891</td>\n",
              "      <td>-0.429696</td>\n",
              "      <td>-0.147150</td>\n",
              "      <td>-0.770520</td>\n",
              "      <td>0.649810</td>\n",
              "      <td>0.694638</td>\n",
              "      <td>-0.519018</td>\n",
              "      <td>...</td>\n",
              "      <td>-0.529439</td>\n",
              "      <td>-0.140058</td>\n",
              "      <td>0.330127</td>\n",
              "      <td>2.618180</td>\n",
              "      <td>0.882455</td>\n",
              "      <td>1.602314</td>\n",
              "      <td>0.350330</td>\n",
              "      <td>-0.786348</td>\n",
              "      <td>0.086454</td>\n",
              "      <td>2.438293</td>\n",
              "      <td>1.057341</td>\n",
              "      <td>0.671040</td>\n",
              "      <td>0.636989</td>\n",
              "      <td>0.388473</td>\n",
              "      <td>-0.187650</td>\n",
              "      <td>0.370811</td>\n",
              "      <td>0.700359</td>\n",
              "      <td>-1.663742</td>\n",
              "      <td>-0.626183</td>\n",
              "      <td>-0.267968</td>\n",
              "      <td>0.188493</td>\n",
              "      <td>0.309976</td>\n",
              "      <td>0.029899</td>\n",
              "      <td>0.434265</td>\n",
              "      <td>-0.975005</td>\n",
              "      <td>-1.013488</td>\n",
              "      <td>0.441092</td>\n",
              "      <td>0.630642</td>\n",
              "      <td>1.360606</td>\n",
              "      <td>1.118598</td>\n",
              "      <td>-1.241505</td>\n",
              "      <td>-0.029397</td>\n",
              "      <td>0.688658</td>\n",
              "      <td>0.090815</td>\n",
              "      <td>-1.118872</td>\n",
              "      <td>0.706773</td>\n",
              "      <td>-0.891367</td>\n",
              "      <td>-1.641993</td>\n",
              "      <td>-0.810174</td>\n",
              "      <td>1</td>\n",
              "    </tr>\n",
              "    <tr>\n",
              "      <th>9672</th>\n",
              "      <td>0.028380</td>\n",
              "      <td>0.448893</td>\n",
              "      <td>-0.464862</td>\n",
              "      <td>-1.374638</td>\n",
              "      <td>-1.054177</td>\n",
              "      <td>1.311210</td>\n",
              "      <td>0.126696</td>\n",
              "      <td>-0.909114</td>\n",
              "      <td>0.216823</td>\n",
              "      <td>0.258853</td>\n",
              "      <td>-0.852272</td>\n",
              "      <td>0.153441</td>\n",
              "      <td>-0.761329</td>\n",
              "      <td>0.410966</td>\n",
              "      <td>-0.676087</td>\n",
              "      <td>-0.952798</td>\n",
              "      <td>-0.156079</td>\n",
              "      <td>-0.848992</td>\n",
              "      <td>0.523017</td>\n",
              "      <td>-0.392018</td>\n",
              "      <td>1.236408</td>\n",
              "      <td>0.041138</td>\n",
              "      <td>-0.449958</td>\n",
              "      <td>-1.542890</td>\n",
              "      <td>-0.174932</td>\n",
              "      <td>1.159495</td>\n",
              "      <td>1.752142</td>\n",
              "      <td>-0.132289</td>\n",
              "      <td>2.281623</td>\n",
              "      <td>0.412548</td>\n",
              "      <td>-0.872095</td>\n",
              "      <td>-0.073218</td>\n",
              "      <td>0.609339</td>\n",
              "      <td>-2.272183</td>\n",
              "      <td>1.334627</td>\n",
              "      <td>0.407990</td>\n",
              "      <td>0.503098</td>\n",
              "      <td>-0.501680</td>\n",
              "      <td>-0.194023</td>\n",
              "      <td>0.388701</td>\n",
              "      <td>...</td>\n",
              "      <td>-1.361768</td>\n",
              "      <td>-0.439913</td>\n",
              "      <td>-1.524741</td>\n",
              "      <td>0.426813</td>\n",
              "      <td>-0.251358</td>\n",
              "      <td>2.923400</td>\n",
              "      <td>-0.407855</td>\n",
              "      <td>0.447658</td>\n",
              "      <td>0.297779</td>\n",
              "      <td>0.791950</td>\n",
              "      <td>-0.657937</td>\n",
              "      <td>-0.630664</td>\n",
              "      <td>0.615978</td>\n",
              "      <td>0.369586</td>\n",
              "      <td>0.052876</td>\n",
              "      <td>1.293277</td>\n",
              "      <td>0.424522</td>\n",
              "      <td>-2.026079</td>\n",
              "      <td>-0.463687</td>\n",
              "      <td>-0.040570</td>\n",
              "      <td>-1.328875</td>\n",
              "      <td>-1.075249</td>\n",
              "      <td>0.599528</td>\n",
              "      <td>-1.870132</td>\n",
              "      <td>-0.638068</td>\n",
              "      <td>0.939907</td>\n",
              "      <td>-0.340915</td>\n",
              "      <td>1.695618</td>\n",
              "      <td>-0.646253</td>\n",
              "      <td>1.138898</td>\n",
              "      <td>-1.025980</td>\n",
              "      <td>0.655937</td>\n",
              "      <td>-0.243780</td>\n",
              "      <td>1.404465</td>\n",
              "      <td>-0.566202</td>\n",
              "      <td>-1.570482</td>\n",
              "      <td>-2.038319</td>\n",
              "      <td>-0.569649</td>\n",
              "      <td>-0.727535</td>\n",
              "      <td>3</td>\n",
              "    </tr>\n",
              "    <tr>\n",
              "      <th>10592</th>\n",
              "      <td>-0.782972</td>\n",
              "      <td>-0.101483</td>\n",
              "      <td>-0.711390</td>\n",
              "      <td>2.063104</td>\n",
              "      <td>-0.349441</td>\n",
              "      <td>0.117992</td>\n",
              "      <td>0.319685</td>\n",
              "      <td>-0.404829</td>\n",
              "      <td>-0.450737</td>\n",
              "      <td>-0.351477</td>\n",
              "      <td>1.164527</td>\n",
              "      <td>-1.134942</td>\n",
              "      <td>-1.205956</td>\n",
              "      <td>-0.139897</td>\n",
              "      <td>0.996773</td>\n",
              "      <td>0.400971</td>\n",
              "      <td>1.107950</td>\n",
              "      <td>-1.023298</td>\n",
              "      <td>-0.010823</td>\n",
              "      <td>-0.941218</td>\n",
              "      <td>0.375342</td>\n",
              "      <td>-0.048108</td>\n",
              "      <td>0.121157</td>\n",
              "      <td>-0.771202</td>\n",
              "      <td>0.504070</td>\n",
              "      <td>0.705363</td>\n",
              "      <td>-1.077250</td>\n",
              "      <td>0.308714</td>\n",
              "      <td>-0.272233</td>\n",
              "      <td>0.291387</td>\n",
              "      <td>-0.097811</td>\n",
              "      <td>-2.084974</td>\n",
              "      <td>-0.884904</td>\n",
              "      <td>-0.818251</td>\n",
              "      <td>0.467369</td>\n",
              "      <td>0.541366</td>\n",
              "      <td>-0.750649</td>\n",
              "      <td>-1.623129</td>\n",
              "      <td>0.356645</td>\n",
              "      <td>-0.040057</td>\n",
              "      <td>...</td>\n",
              "      <td>2.299028</td>\n",
              "      <td>0.989714</td>\n",
              "      <td>-0.415222</td>\n",
              "      <td>2.375417</td>\n",
              "      <td>0.771881</td>\n",
              "      <td>-1.008584</td>\n",
              "      <td>-1.363575</td>\n",
              "      <td>0.666335</td>\n",
              "      <td>-1.130517</td>\n",
              "      <td>-1.211521</td>\n",
              "      <td>-0.421147</td>\n",
              "      <td>0.794228</td>\n",
              "      <td>0.612595</td>\n",
              "      <td>-1.653221</td>\n",
              "      <td>-1.355583</td>\n",
              "      <td>0.976726</td>\n",
              "      <td>0.293946</td>\n",
              "      <td>0.533325</td>\n",
              "      <td>-1.274101</td>\n",
              "      <td>1.427562</td>\n",
              "      <td>-0.823581</td>\n",
              "      <td>1.236366</td>\n",
              "      <td>-0.916210</td>\n",
              "      <td>-0.926843</td>\n",
              "      <td>0.430451</td>\n",
              "      <td>0.348698</td>\n",
              "      <td>0.904513</td>\n",
              "      <td>-0.570938</td>\n",
              "      <td>-0.421235</td>\n",
              "      <td>0.505872</td>\n",
              "      <td>-0.431808</td>\n",
              "      <td>-1.341992</td>\n",
              "      <td>-0.342577</td>\n",
              "      <td>-0.501594</td>\n",
              "      <td>-1.308852</td>\n",
              "      <td>0.627175</td>\n",
              "      <td>0.048604</td>\n",
              "      <td>-3.010116</td>\n",
              "      <td>-1.139969</td>\n",
              "      <td>3</td>\n",
              "    </tr>\n",
              "    <tr>\n",
              "      <th>8516</th>\n",
              "      <td>-0.880623</td>\n",
              "      <td>0.269024</td>\n",
              "      <td>1.469405</td>\n",
              "      <td>-1.208777</td>\n",
              "      <td>-0.392639</td>\n",
              "      <td>1.073529</td>\n",
              "      <td>0.589507</td>\n",
              "      <td>-1.045993</td>\n",
              "      <td>-0.110137</td>\n",
              "      <td>-1.567031</td>\n",
              "      <td>-0.559259</td>\n",
              "      <td>0.056782</td>\n",
              "      <td>0.259807</td>\n",
              "      <td>0.505164</td>\n",
              "      <td>-0.029118</td>\n",
              "      <td>-0.627791</td>\n",
              "      <td>-1.023079</td>\n",
              "      <td>2.466650</td>\n",
              "      <td>-0.993833</td>\n",
              "      <td>0.411057</td>\n",
              "      <td>-0.212976</td>\n",
              "      <td>-1.345121</td>\n",
              "      <td>0.137618</td>\n",
              "      <td>-0.539868</td>\n",
              "      <td>0.062393</td>\n",
              "      <td>0.460811</td>\n",
              "      <td>-1.591537</td>\n",
              "      <td>-0.305005</td>\n",
              "      <td>-0.766379</td>\n",
              "      <td>-0.076534</td>\n",
              "      <td>-0.292824</td>\n",
              "      <td>-0.497029</td>\n",
              "      <td>0.196230</td>\n",
              "      <td>0.759632</td>\n",
              "      <td>0.817404</td>\n",
              "      <td>0.299341</td>\n",
              "      <td>0.062768</td>\n",
              "      <td>-0.938523</td>\n",
              "      <td>1.440043</td>\n",
              "      <td>1.035374</td>\n",
              "      <td>...</td>\n",
              "      <td>0.190512</td>\n",
              "      <td>0.341740</td>\n",
              "      <td>0.395853</td>\n",
              "      <td>-1.899102</td>\n",
              "      <td>0.105979</td>\n",
              "      <td>-0.251801</td>\n",
              "      <td>0.703056</td>\n",
              "      <td>0.981612</td>\n",
              "      <td>0.265142</td>\n",
              "      <td>-0.426043</td>\n",
              "      <td>0.620159</td>\n",
              "      <td>0.059045</td>\n",
              "      <td>0.455408</td>\n",
              "      <td>-0.885711</td>\n",
              "      <td>-0.837455</td>\n",
              "      <td>-0.067869</td>\n",
              "      <td>0.339920</td>\n",
              "      <td>0.475116</td>\n",
              "      <td>0.112965</td>\n",
              "      <td>0.853243</td>\n",
              "      <td>0.191942</td>\n",
              "      <td>-0.399167</td>\n",
              "      <td>1.592359</td>\n",
              "      <td>0.679904</td>\n",
              "      <td>0.012138</td>\n",
              "      <td>-1.158592</td>\n",
              "      <td>-1.006290</td>\n",
              "      <td>0.045323</td>\n",
              "      <td>1.320408</td>\n",
              "      <td>0.165573</td>\n",
              "      <td>-0.532938</td>\n",
              "      <td>-1.070895</td>\n",
              "      <td>-0.078361</td>\n",
              "      <td>1.488651</td>\n",
              "      <td>-0.380436</td>\n",
              "      <td>0.414324</td>\n",
              "      <td>1.621918</td>\n",
              "      <td>1.631775</td>\n",
              "      <td>2.966675</td>\n",
              "      <td>2</td>\n",
              "    </tr>\n",
              "    <tr>\n",
              "      <th>14376</th>\n",
              "      <td>0.313693</td>\n",
              "      <td>-0.214780</td>\n",
              "      <td>-0.307707</td>\n",
              "      <td>-0.045491</td>\n",
              "      <td>0.094994</td>\n",
              "      <td>-1.383537</td>\n",
              "      <td>-0.881504</td>\n",
              "      <td>-0.306129</td>\n",
              "      <td>-0.608795</td>\n",
              "      <td>0.418832</td>\n",
              "      <td>-1.053240</td>\n",
              "      <td>0.609759</td>\n",
              "      <td>-0.356253</td>\n",
              "      <td>0.084560</td>\n",
              "      <td>-0.033383</td>\n",
              "      <td>-1.239344</td>\n",
              "      <td>1.334680</td>\n",
              "      <td>0.602030</td>\n",
              "      <td>-1.265151</td>\n",
              "      <td>0.023128</td>\n",
              "      <td>-0.542864</td>\n",
              "      <td>-0.132603</td>\n",
              "      <td>-0.417402</td>\n",
              "      <td>-0.300138</td>\n",
              "      <td>0.460887</td>\n",
              "      <td>1.156136</td>\n",
              "      <td>0.910399</td>\n",
              "      <td>-1.218234</td>\n",
              "      <td>-0.897211</td>\n",
              "      <td>0.868090</td>\n",
              "      <td>0.522373</td>\n",
              "      <td>-0.702207</td>\n",
              "      <td>-0.768300</td>\n",
              "      <td>-1.012000</td>\n",
              "      <td>-0.667640</td>\n",
              "      <td>1.102010</td>\n",
              "      <td>-1.157036</td>\n",
              "      <td>-1.450535</td>\n",
              "      <td>-1.006912</td>\n",
              "      <td>1.134632</td>\n",
              "      <td>...</td>\n",
              "      <td>1.117462</td>\n",
              "      <td>-1.023043</td>\n",
              "      <td>-1.364441</td>\n",
              "      <td>0.426042</td>\n",
              "      <td>0.899018</td>\n",
              "      <td>0.033790</td>\n",
              "      <td>0.458840</td>\n",
              "      <td>-0.230308</td>\n",
              "      <td>-0.809512</td>\n",
              "      <td>-0.880909</td>\n",
              "      <td>-0.684840</td>\n",
              "      <td>-0.658173</td>\n",
              "      <td>0.774284</td>\n",
              "      <td>-0.543576</td>\n",
              "      <td>-0.832354</td>\n",
              "      <td>-0.234137</td>\n",
              "      <td>0.754777</td>\n",
              "      <td>0.544436</td>\n",
              "      <td>0.363607</td>\n",
              "      <td>-0.920022</td>\n",
              "      <td>1.188525</td>\n",
              "      <td>-0.792443</td>\n",
              "      <td>0.794867</td>\n",
              "      <td>-0.174373</td>\n",
              "      <td>-0.313657</td>\n",
              "      <td>-1.107176</td>\n",
              "      <td>-2.381353</td>\n",
              "      <td>-0.533521</td>\n",
              "      <td>0.081769</td>\n",
              "      <td>-0.641497</td>\n",
              "      <td>-1.088709</td>\n",
              "      <td>1.603497</td>\n",
              "      <td>-0.020524</td>\n",
              "      <td>-0.397388</td>\n",
              "      <td>-1.161561</td>\n",
              "      <td>-0.378149</td>\n",
              "      <td>1.550541</td>\n",
              "      <td>-0.371872</td>\n",
              "      <td>0.188129</td>\n",
              "      <td>4</td>\n",
              "    </tr>\n",
              "    <tr>\n",
              "      <th>3883</th>\n",
              "      <td>-1.878761</td>\n",
              "      <td>-1.637713</td>\n",
              "      <td>0.463180</td>\n",
              "      <td>1.899683</td>\n",
              "      <td>0.645115</td>\n",
              "      <td>0.572483</td>\n",
              "      <td>-0.422957</td>\n",
              "      <td>-1.254787</td>\n",
              "      <td>-1.241761</td>\n",
              "      <td>-0.554758</td>\n",
              "      <td>0.619897</td>\n",
              "      <td>1.845722</td>\n",
              "      <td>0.350443</td>\n",
              "      <td>-0.501818</td>\n",
              "      <td>-1.605715</td>\n",
              "      <td>0.526422</td>\n",
              "      <td>0.331935</td>\n",
              "      <td>0.676658</td>\n",
              "      <td>-0.144895</td>\n",
              "      <td>-0.052346</td>\n",
              "      <td>0.247041</td>\n",
              "      <td>1.803761</td>\n",
              "      <td>0.503582</td>\n",
              "      <td>0.669724</td>\n",
              "      <td>-0.101240</td>\n",
              "      <td>-1.126367</td>\n",
              "      <td>2.286877</td>\n",
              "      <td>-0.408955</td>\n",
              "      <td>0.721584</td>\n",
              "      <td>-2.050373</td>\n",
              "      <td>-0.307803</td>\n",
              "      <td>-0.411356</td>\n",
              "      <td>0.454984</td>\n",
              "      <td>-1.110394</td>\n",
              "      <td>-0.739453</td>\n",
              "      <td>-1.691792</td>\n",
              "      <td>0.141166</td>\n",
              "      <td>-0.557790</td>\n",
              "      <td>-0.720376</td>\n",
              "      <td>1.283090</td>\n",
              "      <td>...</td>\n",
              "      <td>-1.461949</td>\n",
              "      <td>0.186734</td>\n",
              "      <td>0.673382</td>\n",
              "      <td>0.794651</td>\n",
              "      <td>-0.441081</td>\n",
              "      <td>-1.057963</td>\n",
              "      <td>-0.460305</td>\n",
              "      <td>-1.404551</td>\n",
              "      <td>0.409575</td>\n",
              "      <td>0.929839</td>\n",
              "      <td>0.957510</td>\n",
              "      <td>-1.391228</td>\n",
              "      <td>-2.950544</td>\n",
              "      <td>-0.794641</td>\n",
              "      <td>0.039853</td>\n",
              "      <td>-1.774989</td>\n",
              "      <td>-0.475848</td>\n",
              "      <td>-1.306811</td>\n",
              "      <td>-0.115281</td>\n",
              "      <td>2.001779</td>\n",
              "      <td>-0.091988</td>\n",
              "      <td>0.297135</td>\n",
              "      <td>-1.602862</td>\n",
              "      <td>0.169342</td>\n",
              "      <td>0.618844</td>\n",
              "      <td>1.005284</td>\n",
              "      <td>1.076472</td>\n",
              "      <td>-1.340466</td>\n",
              "      <td>0.111353</td>\n",
              "      <td>-0.719737</td>\n",
              "      <td>0.957267</td>\n",
              "      <td>2.241430</td>\n",
              "      <td>1.023542</td>\n",
              "      <td>0.136767</td>\n",
              "      <td>0.173464</td>\n",
              "      <td>0.264011</td>\n",
              "      <td>-0.160985</td>\n",
              "      <td>0.858639</td>\n",
              "      <td>-1.629890</td>\n",
              "      <td>1</td>\n",
              "    </tr>\n",
              "    <tr>\n",
              "      <th>5326</th>\n",
              "      <td>0.400555</td>\n",
              "      <td>1.002128</td>\n",
              "      <td>1.035846</td>\n",
              "      <td>0.393506</td>\n",
              "      <td>-0.037758</td>\n",
              "      <td>0.891361</td>\n",
              "      <td>-0.071012</td>\n",
              "      <td>1.011126</td>\n",
              "      <td>0.926065</td>\n",
              "      <td>-0.839999</td>\n",
              "      <td>2.388663</td>\n",
              "      <td>-0.943236</td>\n",
              "      <td>-0.801551</td>\n",
              "      <td>0.524337</td>\n",
              "      <td>0.431065</td>\n",
              "      <td>0.967042</td>\n",
              "      <td>-2.594589</td>\n",
              "      <td>-0.574395</td>\n",
              "      <td>-0.846989</td>\n",
              "      <td>1.455966</td>\n",
              "      <td>-0.801066</td>\n",
              "      <td>0.575956</td>\n",
              "      <td>0.946374</td>\n",
              "      <td>0.013836</td>\n",
              "      <td>-0.869048</td>\n",
              "      <td>-0.099109</td>\n",
              "      <td>-0.373437</td>\n",
              "      <td>1.234998</td>\n",
              "      <td>-1.080614</td>\n",
              "      <td>0.167235</td>\n",
              "      <td>0.178755</td>\n",
              "      <td>0.665950</td>\n",
              "      <td>-0.884284</td>\n",
              "      <td>-0.511035</td>\n",
              "      <td>-1.128828</td>\n",
              "      <td>0.421971</td>\n",
              "      <td>0.639686</td>\n",
              "      <td>0.231897</td>\n",
              "      <td>1.237776</td>\n",
              "      <td>0.324787</td>\n",
              "      <td>...</td>\n",
              "      <td>-0.948749</td>\n",
              "      <td>0.480320</td>\n",
              "      <td>-0.030351</td>\n",
              "      <td>-0.024976</td>\n",
              "      <td>0.213529</td>\n",
              "      <td>-0.504374</td>\n",
              "      <td>0.119419</td>\n",
              "      <td>0.319596</td>\n",
              "      <td>0.080595</td>\n",
              "      <td>0.195634</td>\n",
              "      <td>-0.454484</td>\n",
              "      <td>1.369798</td>\n",
              "      <td>-1.048778</td>\n",
              "      <td>-0.719182</td>\n",
              "      <td>-0.131926</td>\n",
              "      <td>1.617563</td>\n",
              "      <td>1.007020</td>\n",
              "      <td>0.538077</td>\n",
              "      <td>-1.171054</td>\n",
              "      <td>0.518414</td>\n",
              "      <td>1.251150</td>\n",
              "      <td>0.212476</td>\n",
              "      <td>-1.118354</td>\n",
              "      <td>0.803681</td>\n",
              "      <td>-0.802201</td>\n",
              "      <td>-1.551275</td>\n",
              "      <td>0.116760</td>\n",
              "      <td>-0.237548</td>\n",
              "      <td>-0.570891</td>\n",
              "      <td>-0.595044</td>\n",
              "      <td>-0.062902</td>\n",
              "      <td>1.393486</td>\n",
              "      <td>-1.022838</td>\n",
              "      <td>0.017932</td>\n",
              "      <td>0.236243</td>\n",
              "      <td>1.282079</td>\n",
              "      <td>0.717891</td>\n",
              "      <td>-1.458481</td>\n",
              "      <td>-0.286406</td>\n",
              "      <td>1</td>\n",
              "    </tr>\n",
              "    <tr>\n",
              "      <th>1779</th>\n",
              "      <td>0.344152</td>\n",
              "      <td>0.428043</td>\n",
              "      <td>-0.659083</td>\n",
              "      <td>-0.291834</td>\n",
              "      <td>-1.024730</td>\n",
              "      <td>1.664137</td>\n",
              "      <td>0.218358</td>\n",
              "      <td>-0.545001</td>\n",
              "      <td>1.113503</td>\n",
              "      <td>-1.441270</td>\n",
              "      <td>1.629039</td>\n",
              "      <td>-0.051374</td>\n",
              "      <td>-0.311677</td>\n",
              "      <td>-0.046561</td>\n",
              "      <td>1.613383</td>\n",
              "      <td>0.952111</td>\n",
              "      <td>-1.302211</td>\n",
              "      <td>-0.431006</td>\n",
              "      <td>-1.405704</td>\n",
              "      <td>-0.761267</td>\n",
              "      <td>0.009356</td>\n",
              "      <td>-1.167520</td>\n",
              "      <td>2.340404</td>\n",
              "      <td>-1.798100</td>\n",
              "      <td>-0.692651</td>\n",
              "      <td>1.178401</td>\n",
              "      <td>-0.004688</td>\n",
              "      <td>0.526130</td>\n",
              "      <td>0.890082</td>\n",
              "      <td>-0.895967</td>\n",
              "      <td>0.620651</td>\n",
              "      <td>0.237134</td>\n",
              "      <td>0.562810</td>\n",
              "      <td>-1.975561</td>\n",
              "      <td>0.297823</td>\n",
              "      <td>-0.493753</td>\n",
              "      <td>-0.166623</td>\n",
              "      <td>-1.159772</td>\n",
              "      <td>0.185732</td>\n",
              "      <td>-0.580759</td>\n",
              "      <td>...</td>\n",
              "      <td>-2.773945</td>\n",
              "      <td>-0.692118</td>\n",
              "      <td>-0.418652</td>\n",
              "      <td>0.125284</td>\n",
              "      <td>-0.234829</td>\n",
              "      <td>0.465816</td>\n",
              "      <td>-0.131840</td>\n",
              "      <td>-0.277609</td>\n",
              "      <td>-0.833767</td>\n",
              "      <td>-0.477080</td>\n",
              "      <td>-1.702599</td>\n",
              "      <td>-1.321813</td>\n",
              "      <td>0.212995</td>\n",
              "      <td>-0.387895</td>\n",
              "      <td>0.943674</td>\n",
              "      <td>-0.142043</td>\n",
              "      <td>-0.505959</td>\n",
              "      <td>-1.392771</td>\n",
              "      <td>-0.799332</td>\n",
              "      <td>1.716146</td>\n",
              "      <td>-0.046803</td>\n",
              "      <td>0.630220</td>\n",
              "      <td>1.095713</td>\n",
              "      <td>1.286535</td>\n",
              "      <td>0.132383</td>\n",
              "      <td>0.892215</td>\n",
              "      <td>-1.445631</td>\n",
              "      <td>1.617904</td>\n",
              "      <td>0.617196</td>\n",
              "      <td>-1.311173</td>\n",
              "      <td>-0.704278</td>\n",
              "      <td>-1.282021</td>\n",
              "      <td>-0.696518</td>\n",
              "      <td>1.945241</td>\n",
              "      <td>1.947454</td>\n",
              "      <td>-0.630270</td>\n",
              "      <td>-0.456481</td>\n",
              "      <td>1.227591</td>\n",
              "      <td>0.683297</td>\n",
              "      <td>0</td>\n",
              "    </tr>\n",
              "    <tr>\n",
              "      <th>3246</th>\n",
              "      <td>-1.513071</td>\n",
              "      <td>0.140603</td>\n",
              "      <td>0.228110</td>\n",
              "      <td>-0.146553</td>\n",
              "      <td>-0.576383</td>\n",
              "      <td>-1.190779</td>\n",
              "      <td>0.980791</td>\n",
              "      <td>-0.648469</td>\n",
              "      <td>-0.952261</td>\n",
              "      <td>-0.782534</td>\n",
              "      <td>0.473532</td>\n",
              "      <td>1.897890</td>\n",
              "      <td>-0.779107</td>\n",
              "      <td>-0.218137</td>\n",
              "      <td>-0.625752</td>\n",
              "      <td>0.978975</td>\n",
              "      <td>-1.452438</td>\n",
              "      <td>-0.574192</td>\n",
              "      <td>0.341524</td>\n",
              "      <td>-0.537244</td>\n",
              "      <td>0.964205</td>\n",
              "      <td>0.360000</td>\n",
              "      <td>-0.319489</td>\n",
              "      <td>-0.007355</td>\n",
              "      <td>-1.398489</td>\n",
              "      <td>-1.837308</td>\n",
              "      <td>0.709716</td>\n",
              "      <td>1.026442</td>\n",
              "      <td>0.163023</td>\n",
              "      <td>1.455915</td>\n",
              "      <td>1.556198</td>\n",
              "      <td>0.707024</td>\n",
              "      <td>0.516363</td>\n",
              "      <td>1.242690</td>\n",
              "      <td>-0.679528</td>\n",
              "      <td>0.553483</td>\n",
              "      <td>0.797152</td>\n",
              "      <td>1.256331</td>\n",
              "      <td>1.725309</td>\n",
              "      <td>1.088809</td>\n",
              "      <td>...</td>\n",
              "      <td>0.030748</td>\n",
              "      <td>-2.537505</td>\n",
              "      <td>0.996335</td>\n",
              "      <td>-0.630833</td>\n",
              "      <td>0.536986</td>\n",
              "      <td>-0.772474</td>\n",
              "      <td>-1.946717</td>\n",
              "      <td>-0.591332</td>\n",
              "      <td>0.749962</td>\n",
              "      <td>0.508593</td>\n",
              "      <td>1.328457</td>\n",
              "      <td>-1.360829</td>\n",
              "      <td>-2.058759</td>\n",
              "      <td>0.073825</td>\n",
              "      <td>1.266180</td>\n",
              "      <td>-1.608131</td>\n",
              "      <td>-1.932124</td>\n",
              "      <td>-1.087269</td>\n",
              "      <td>-1.375351</td>\n",
              "      <td>-1.801129</td>\n",
              "      <td>-1.941012</td>\n",
              "      <td>1.149608</td>\n",
              "      <td>-1.345869</td>\n",
              "      <td>-1.828955</td>\n",
              "      <td>1.010389</td>\n",
              "      <td>0.128582</td>\n",
              "      <td>1.121046</td>\n",
              "      <td>1.590163</td>\n",
              "      <td>-1.871039</td>\n",
              "      <td>0.407512</td>\n",
              "      <td>-1.136253</td>\n",
              "      <td>0.783326</td>\n",
              "      <td>-0.760669</td>\n",
              "      <td>0.106662</td>\n",
              "      <td>0.426432</td>\n",
              "      <td>-0.770741</td>\n",
              "      <td>0.057341</td>\n",
              "      <td>-0.458269</td>\n",
              "      <td>1.014743</td>\n",
              "      <td>1</td>\n",
              "    </tr>\n",
              "  </tbody>\n",
              "</table>\n",
              "<p>10 rows × 101 columns</p>\n",
              "</div>"
            ],
            "text/plain": [
              "            f_0       f_1       f_2  ...      f_98      f_99  s_kfold\n",
              "13456 -1.016741 -0.407963  0.069712  ...  1.111530  0.732158        4\n",
              "3960  -0.286281 -0.082269  0.037670  ... -1.641993 -0.810174        1\n",
              "9672   0.028380  0.448893 -0.464862  ... -0.569649 -0.727535        3\n",
              "10592 -0.782972 -0.101483 -0.711390  ... -3.010116 -1.139969        3\n",
              "8516  -0.880623  0.269024  1.469405  ...  1.631775  2.966675        2\n",
              "14376  0.313693 -0.214780 -0.307707  ... -0.371872  0.188129        4\n",
              "3883  -1.878761 -1.637713  0.463180  ...  0.858639 -1.629890        1\n",
              "5326   0.400555  1.002128  1.035846  ... -1.458481 -0.286406        1\n",
              "1779   0.344152  0.428043 -0.659083  ...  1.227591  0.683297        0\n",
              "3246  -1.513071  0.140603  0.228110  ... -0.458269  1.014743        1\n",
              "\n",
              "[10 rows x 101 columns]"
            ]
          },
          "metadata": {
            "tags": []
          },
          "execution_count": 109
        }
      ]
    },
    {
      "cell_type": "markdown",
      "metadata": {
        "id": "p-D07v2-KzKj"
      },
      "source": [
        "Exibindo a proporção em que os dados foram separados, de acordo com as classes:"
      ]
    },
    {
      "cell_type": "code",
      "metadata": {
        "id": "M6rdz1JaNos6",
        "colab": {
          "base_uri": "https://localhost:8080/"
        },
        "outputId": "e338f3bb-3a29-474f-f3a4-bb8357dfa3b9"
      },
      "source": [
        "for i in range(5):\n",
        "  dtrn_s_kfold = list(s_kf.split(X, y))[i][0]\n",
        "  print(y.loc[dtrn_s_kfold].value_counts().sort_index().to_list());"
      ],
      "execution_count": 110,
      "outputs": [
        {
          "output_type": "stream",
          "text": [
            "[2, 11, 65, 254, 801, 1811, 2837, 2836, 2012, 966, 316, 77, 10, 2]\n",
            "[2, 11, 65, 254, 800, 1811, 2837, 2836, 2012, 966, 317, 77, 10, 2]\n",
            "[2, 11, 65, 254, 801, 1811, 2837, 2836, 2012, 966, 317, 77, 9, 2]\n",
            "[3, 12, 65, 253, 801, 1811, 2837, 2836, 2012, 967, 317, 76, 9, 1]\n",
            "[3, 11, 64, 253, 801, 1812, 2836, 2836, 2012, 967, 317, 77, 10, 1]\n"
          ],
          "name": "stdout"
        }
      ]
    },
    {
      "cell_type": "markdown",
      "metadata": {
        "id": "U6O_CSv6K4Wl"
      },
      "source": [
        "Comparando com a proporção do DataFrame completo"
      ]
    },
    {
      "cell_type": "code",
      "metadata": {
        "colab": {
          "base_uri": "https://localhost:8080/"
        },
        "id": "hu83q6F6Ivo9",
        "outputId": "44c876bd-801a-489b-9645-2dc12d7cfaf5"
      },
      "source": [
        "y.value_counts().sort_index().to_list()"
      ],
      "execution_count": 111,
      "outputs": [
        {
          "output_type": "execute_result",
          "data": {
            "text/plain": [
              "[3, 14, 81, 317, 1001, 2264, 3546, 3545, 2515, 1208, 396, 96, 12, 2]"
            ]
          },
          "metadata": {
            "tags": []
          },
          "execution_count": 111
        }
      ]
    },
    {
      "cell_type": "markdown",
      "metadata": {
        "id": "SdxHNuHpLCMS"
      },
      "source": [
        "Facilitando a visulização dessa proporção com um gráfico:\n",
        "\n",
        "DataFrame original"
      ]
    },
    {
      "cell_type": "code",
      "metadata": {
        "colab": {
          "base_uri": "https://localhost:8080/",
          "height": 416
        },
        "id": "Uds4Dm57JJx_",
        "outputId": "e09d4f8a-a61c-4efe-a579-1e4996e27825"
      },
      "source": [
        "ax = sns.countplot(y)\n",
        "\n",
        "ax.figure.set_size_inches(8,6)\n",
        "ax.set_title('Time Series with Stratified Kfold')\n",
        "ax.set_xlabel('Bins', fontsize=20)\n",
        "ax.set_ylabel('Quantidade', fontsize=20);"
      ],
      "execution_count": 112,
      "outputs": [
        {
          "output_type": "display_data",
          "data": {
            "image/png": "[encoded data removed]",
            "text/plain": [
              "<Figure size 576x432 with 1 Axes>"
            ]
          },
          "metadata": {
            "tags": []
          }
        }
      ]
    },
    {
      "cell_type": "markdown",
      "metadata": {
        "id": "miYTuZEkLQKd"
      },
      "source": [
        "Escolhendo um dos folds para fazer o plot:"
      ]
    },
    {
      "cell_type": "code",
      "metadata": {
        "colab": {
          "base_uri": "https://localhost:8080/",
          "height": 416
        },
        "id": "xh6cwcxkJQoo",
        "outputId": "67164921-0f24-465c-e2c7-384f7b5076ca"
      },
      "source": [
        "ax = sns.countplot(y.loc[list(s_kf.split(X, y))[0][0]])\n",
        "\n",
        "ax.figure.set_size_inches(8,6)\n",
        "ax.set_title('Time Series with Stratified Kfold')\n",
        "ax.set_xlabel('Bins', fontsize=20)\n",
        "ax.set_ylabel('Quantidade', fontsize=20);"
      ],
      "execution_count": 113,
      "outputs": [
        {
          "output_type": "display_data",
          "data": {
            "image/png": "[encoded data removed]",
            "text/plain": [
              "<Figure size 576x432 with 1 Axes>"
            ]
          },
          "metadata": {
            "tags": []
          }
        }
      ]
    },
    {
      "cell_type": "markdown",
      "metadata": {
        "id": "Zfgvyr3SJkBS"
      },
      "source": [
        "Mais uma vez, podemos visualizar que o Stratified Kfolf toma cuidado para separar os grupos de treino e validação na mesma proporção que o DataSet original"
      ]
    }
  ]
}