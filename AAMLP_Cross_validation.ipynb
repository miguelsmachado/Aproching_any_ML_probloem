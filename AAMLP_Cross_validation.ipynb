{
  "nbformat": 4,
  "nbformat_minor": 0,
  "metadata": {
    "colab": {
      "name": "AAMLP - Cross-validation.ipynb",
      "provenance": [],
      "collapsed_sections": [],
      "authorship_tag": "ABX9TyPhINcotODb8/N97uOEawQQ",
      "include_colab_link": true
    },
    "kernelspec": {
      "name": "python3",
      "display_name": "Python 3"
    }
  },
  "cells": [
    {
      "cell_type": "markdown",
      "metadata": {
        "id": "view-in-github",
        "colab_type": "text"
      },
      "source": [
        "<a href=\"https://colab.research.google.com/github/miguelsmachado/Aproching_any_ML_probloem/blob/main/AAMLP_Cross_validation.ipynb\" target=\"_parent\"><img src=\"https://colab.research.google.com/assets/colab-badge.svg\" alt=\"Open In Colab\"/></a>"
      ]
    },
    {
      "cell_type": "markdown",
      "metadata": {
        "id": "FBOvAp60ETH7"
      },
      "source": [
        "# Introdução"
      ]
    },
    {
      "cell_type": "markdown",
      "metadata": {
        "id": "i7Qw7OYKEXYj"
      },
      "source": [
        "Antes de falarmos sobre Cross-validation, é muito importante entendermos o significado de `overfitting`.\n",
        "\n",
        "Overfitting é quando um modelo se adequa perfeitamente nos dados de treino e muito mal nos dados de teste.\n",
        "\n",
        "Para entendermos melhor o que está ocorrendo, vamos usar um data set que trata sobre a nota dos vinhos baseado em sua características."
      ]
    },
    {
      "cell_type": "code",
      "metadata": {
        "id": "2Zy06gmYD928"
      },
      "source": [
        "import pandas as pd"
      ],
      "execution_count": 1,
      "outputs": []
    },
    {
      "cell_type": "code",
      "metadata": {
        "id": "RffpT1MfJCWC"
      },
      "source": [
        "import warnings\n",
        "warnings.filterwarnings(\"ignore\")"
      ],
      "execution_count": 53,
      "outputs": []
    },
    {
      "cell_type": "code",
      "metadata": {
        "id": "bXHdTinyFL6b"
      },
      "source": [
        "df = pd.read_csv(\"https://raw.githubusercontent.com/miguelsmachado/Aproching_any_ML_probloem/main/datasets/winequality-red.csv\", sep=';')"
      ],
      "execution_count": 2,
      "outputs": []
    },
    {
      "cell_type": "code",
      "metadata": {
        "colab": {
          "base_uri": "https://localhost:8080/",
          "height": 221
        },
        "id": "V_CJpPAeGnxF",
        "outputId": "13383fe1-f6a4-48e0-f838-e8c9a0741783"
      },
      "source": [
        "df.head()"
      ],
      "execution_count": 3,
      "outputs": [
        {
          "output_type": "execute_result",
          "data": {
            "text/html": [
              "<div>\n",
              "<style scoped>\n",
              "    .dataframe tbody tr th:only-of-type {\n",
              "        vertical-align: middle;\n",
              "    }\n",
              "\n",
              "    .dataframe tbody tr th {\n",
              "        vertical-align: top;\n",
              "    }\n",
              "\n",
              "    .dataframe thead th {\n",
              "        text-align: right;\n",
              "    }\n",
              "</style>\n",
              "<table border=\"1\" class=\"dataframe\">\n",
              "  <thead>\n",
              "    <tr style=\"text-align: right;\">\n",
              "      <th></th>\n",
              "      <th>fixed acidity</th>\n",
              "      <th>volatile acidity</th>\n",
              "      <th>citric acid</th>\n",
              "      <th>residual sugar</th>\n",
              "      <th>chlorides</th>\n",
              "      <th>free sulfur dioxide</th>\n",
              "      <th>total sulfur dioxide</th>\n",
              "      <th>density</th>\n",
              "      <th>pH</th>\n",
              "      <th>sulphates</th>\n",
              "      <th>alcohol</th>\n",
              "      <th>quality</th>\n",
              "    </tr>\n",
              "  </thead>\n",
              "  <tbody>\n",
              "    <tr>\n",
              "      <th>0</th>\n",
              "      <td>7.4</td>\n",
              "      <td>0.70</td>\n",
              "      <td>0.00</td>\n",
              "      <td>1.9</td>\n",
              "      <td>0.076</td>\n",
              "      <td>11.0</td>\n",
              "      <td>34.0</td>\n",
              "      <td>0.9978</td>\n",
              "      <td>3.51</td>\n",
              "      <td>0.56</td>\n",
              "      <td>9.4</td>\n",
              "      <td>5</td>\n",
              "    </tr>\n",
              "    <tr>\n",
              "      <th>1</th>\n",
              "      <td>7.8</td>\n",
              "      <td>0.88</td>\n",
              "      <td>0.00</td>\n",
              "      <td>2.6</td>\n",
              "      <td>0.098</td>\n",
              "      <td>25.0</td>\n",
              "      <td>67.0</td>\n",
              "      <td>0.9968</td>\n",
              "      <td>3.20</td>\n",
              "      <td>0.68</td>\n",
              "      <td>9.8</td>\n",
              "      <td>5</td>\n",
              "    </tr>\n",
              "    <tr>\n",
              "      <th>2</th>\n",
              "      <td>7.8</td>\n",
              "      <td>0.76</td>\n",
              "      <td>0.04</td>\n",
              "      <td>2.3</td>\n",
              "      <td>0.092</td>\n",
              "      <td>15.0</td>\n",
              "      <td>54.0</td>\n",
              "      <td>0.9970</td>\n",
              "      <td>3.26</td>\n",
              "      <td>0.65</td>\n",
              "      <td>9.8</td>\n",
              "      <td>5</td>\n",
              "    </tr>\n",
              "    <tr>\n",
              "      <th>3</th>\n",
              "      <td>11.2</td>\n",
              "      <td>0.28</td>\n",
              "      <td>0.56</td>\n",
              "      <td>1.9</td>\n",
              "      <td>0.075</td>\n",
              "      <td>17.0</td>\n",
              "      <td>60.0</td>\n",
              "      <td>0.9980</td>\n",
              "      <td>3.16</td>\n",
              "      <td>0.58</td>\n",
              "      <td>9.8</td>\n",
              "      <td>6</td>\n",
              "    </tr>\n",
              "    <tr>\n",
              "      <th>4</th>\n",
              "      <td>7.4</td>\n",
              "      <td>0.70</td>\n",
              "      <td>0.00</td>\n",
              "      <td>1.9</td>\n",
              "      <td>0.076</td>\n",
              "      <td>11.0</td>\n",
              "      <td>34.0</td>\n",
              "      <td>0.9978</td>\n",
              "      <td>3.51</td>\n",
              "      <td>0.56</td>\n",
              "      <td>9.4</td>\n",
              "      <td>5</td>\n",
              "    </tr>\n",
              "  </tbody>\n",
              "</table>\n",
              "</div>"
            ],
            "text/plain": [
              "   fixed acidity  volatile acidity  citric acid  ...  sulphates  alcohol  quality\n",
              "0            7.4              0.70         0.00  ...       0.56      9.4        5\n",
              "1            7.8              0.88         0.00  ...       0.68      9.8        5\n",
              "2            7.8              0.76         0.04  ...       0.65      9.8        5\n",
              "3           11.2              0.28         0.56  ...       0.58      9.8        6\n",
              "4            7.4              0.70         0.00  ...       0.56      9.4        5\n",
              "\n",
              "[5 rows x 12 columns]"
            ]
          },
          "metadata": {
            "tags": []
          },
          "execution_count": 3
        }
      ]
    },
    {
      "cell_type": "markdown",
      "metadata": {
        "id": "uFffeyyMIr42"
      },
      "source": [
        "Vamos dar uma olhada nos valores da coluna quality:"
      ]
    },
    {
      "cell_type": "code",
      "metadata": {
        "colab": {
          "base_uri": "https://localhost:8080/"
        },
        "id": "mhz1HmsEIjuw",
        "outputId": "525fe33f-aaab-4531-ee55-c310d3e34a0d"
      },
      "source": [
        "df.quality.unique()"
      ],
      "execution_count": 4,
      "outputs": [
        {
          "output_type": "execute_result",
          "data": {
            "text/plain": [
              "array([5, 6, 7, 4, 8, 3])"
            ]
          },
          "metadata": {
            "tags": []
          },
          "execution_count": 4
        }
      ]
    },
    {
      "cell_type": "markdown",
      "metadata": {
        "id": "bX_9CahaI4hT"
      },
      "source": [
        "Para facilitar o entendimento, vamos trocar esses 6 valores por valores de 0 a 5"
      ]
    },
    {
      "cell_type": "code",
      "metadata": {
        "colab": {
          "base_uri": "https://localhost:8080/"
        },
        "id": "n9ImE04OI0RL",
        "outputId": "62fbb28e-d19f-477a-82c0-4630b69a2ed3"
      },
      "source": [
        "quality_map = {\n",
        "    3: 0,\n",
        "    4: 1,\n",
        "    5: 2,\n",
        "    6: 3,\n",
        "    7: 4,\n",
        "    8: 5\n",
        "}\n",
        "\n",
        "df.quality = df.quality.map(quality_map)\n",
        "\n",
        "df.quality.unique()"
      ],
      "execution_count": 5,
      "outputs": [
        {
          "output_type": "execute_result",
          "data": {
            "text/plain": [
              "array([2, 3, 4, 1, 5, 0])"
            ]
          },
          "metadata": {
            "tags": []
          },
          "execution_count": 5
        }
      ]
    },
    {
      "cell_type": "markdown",
      "metadata": {
        "id": "mBB91wjsLvgI"
      },
      "source": [
        "### Separando em dados de treino e teste\n",
        "\n",
        "1º Vamos embaralhar o dataFrame;\n",
        "\n",
        "2º Já vamos reindexar o DataFrame:"
      ]
    },
    {
      "cell_type": "code",
      "metadata": {
        "colab": {
          "base_uri": "https://localhost:8080/",
          "height": 221
        },
        "id": "I7mwhsfAJm2N",
        "outputId": "db48dcc7-f0a2-4b41-b11a-ca31d55eea7c"
      },
      "source": [
        "# Ao usarmos o comando sample, temos que escolher quantos dados serão retornados na amostra.\n",
        "# Podemos fazer isso com n= e passarmos o valor exato ou usamos o parâmetro\n",
        "# frac= e passamos a fração que queremos. Como queremos o DataSet todo, vamos usar\n",
        "# frac = 1\n",
        "\n",
        "# O parâmetro drop= recebe um bool e retorna ou não o antigo índice dentro do dataframe\n",
        "\n",
        "df = df.sample(frac=1).reset_index(drop = True)\n",
        "\n",
        "df.head()"
      ],
      "execution_count": 6,
      "outputs": [
        {
          "output_type": "execute_result",
          "data": {
            "text/html": [
              "<div>\n",
              "<style scoped>\n",
              "    .dataframe tbody tr th:only-of-type {\n",
              "        vertical-align: middle;\n",
              "    }\n",
              "\n",
              "    .dataframe tbody tr th {\n",
              "        vertical-align: top;\n",
              "    }\n",
              "\n",
              "    .dataframe thead th {\n",
              "        text-align: right;\n",
              "    }\n",
              "</style>\n",
              "<table border=\"1\" class=\"dataframe\">\n",
              "  <thead>\n",
              "    <tr style=\"text-align: right;\">\n",
              "      <th></th>\n",
              "      <th>fixed acidity</th>\n",
              "      <th>volatile acidity</th>\n",
              "      <th>citric acid</th>\n",
              "      <th>residual sugar</th>\n",
              "      <th>chlorides</th>\n",
              "      <th>free sulfur dioxide</th>\n",
              "      <th>total sulfur dioxide</th>\n",
              "      <th>density</th>\n",
              "      <th>pH</th>\n",
              "      <th>sulphates</th>\n",
              "      <th>alcohol</th>\n",
              "      <th>quality</th>\n",
              "    </tr>\n",
              "  </thead>\n",
              "  <tbody>\n",
              "    <tr>\n",
              "      <th>0</th>\n",
              "      <td>8.2</td>\n",
              "      <td>1.33</td>\n",
              "      <td>0.00</td>\n",
              "      <td>1.7</td>\n",
              "      <td>0.081</td>\n",
              "      <td>3.0</td>\n",
              "      <td>12.0</td>\n",
              "      <td>0.99640</td>\n",
              "      <td>3.53</td>\n",
              "      <td>0.49</td>\n",
              "      <td>10.9</td>\n",
              "      <td>2</td>\n",
              "    </tr>\n",
              "    <tr>\n",
              "      <th>1</th>\n",
              "      <td>8.2</td>\n",
              "      <td>0.23</td>\n",
              "      <td>0.42</td>\n",
              "      <td>1.9</td>\n",
              "      <td>0.069</td>\n",
              "      <td>9.0</td>\n",
              "      <td>17.0</td>\n",
              "      <td>0.99376</td>\n",
              "      <td>3.21</td>\n",
              "      <td>0.54</td>\n",
              "      <td>12.3</td>\n",
              "      <td>3</td>\n",
              "    </tr>\n",
              "    <tr>\n",
              "      <th>2</th>\n",
              "      <td>6.4</td>\n",
              "      <td>0.79</td>\n",
              "      <td>0.04</td>\n",
              "      <td>2.2</td>\n",
              "      <td>0.061</td>\n",
              "      <td>11.0</td>\n",
              "      <td>17.0</td>\n",
              "      <td>0.99588</td>\n",
              "      <td>3.53</td>\n",
              "      <td>0.65</td>\n",
              "      <td>10.4</td>\n",
              "      <td>3</td>\n",
              "    </tr>\n",
              "    <tr>\n",
              "      <th>3</th>\n",
              "      <td>12.0</td>\n",
              "      <td>0.39</td>\n",
              "      <td>0.66</td>\n",
              "      <td>3.0</td>\n",
              "      <td>0.093</td>\n",
              "      <td>12.0</td>\n",
              "      <td>30.0</td>\n",
              "      <td>0.99960</td>\n",
              "      <td>3.18</td>\n",
              "      <td>0.63</td>\n",
              "      <td>10.8</td>\n",
              "      <td>4</td>\n",
              "    </tr>\n",
              "    <tr>\n",
              "      <th>4</th>\n",
              "      <td>7.1</td>\n",
              "      <td>0.36</td>\n",
              "      <td>0.30</td>\n",
              "      <td>1.6</td>\n",
              "      <td>0.080</td>\n",
              "      <td>35.0</td>\n",
              "      <td>70.0</td>\n",
              "      <td>0.99693</td>\n",
              "      <td>3.44</td>\n",
              "      <td>0.50</td>\n",
              "      <td>9.4</td>\n",
              "      <td>2</td>\n",
              "    </tr>\n",
              "  </tbody>\n",
              "</table>\n",
              "</div>"
            ],
            "text/plain": [
              "   fixed acidity  volatile acidity  citric acid  ...  sulphates  alcohol  quality\n",
              "0            8.2              1.33         0.00  ...       0.49     10.9        2\n",
              "1            8.2              0.23         0.42  ...       0.54     12.3        3\n",
              "2            6.4              0.79         0.04  ...       0.65     10.4        3\n",
              "3           12.0              0.39         0.66  ...       0.63     10.8        4\n",
              "4            7.1              0.36         0.30  ...       0.50      9.4        2\n",
              "\n",
              "[5 rows x 12 columns]"
            ]
          },
          "metadata": {
            "tags": []
          },
          "execution_count": 6
        }
      ]
    },
    {
      "cell_type": "markdown",
      "metadata": {
        "id": "DORYvVAbN7YQ"
      },
      "source": [
        "3º Separando em X e y"
      ]
    },
    {
      "cell_type": "code",
      "metadata": {
        "colab": {
          "base_uri": "https://localhost:8080/",
          "height": 204
        },
        "id": "zgeHF2D5J9g4",
        "outputId": "94f4a4e0-4a18-44b2-8486-aef80a7670a1"
      },
      "source": [
        "X = df.drop('quality', axis=1)\n",
        "X.head()"
      ],
      "execution_count": 7,
      "outputs": [
        {
          "output_type": "execute_result",
          "data": {
            "text/html": [
              "<div>\n",
              "<style scoped>\n",
              "    .dataframe tbody tr th:only-of-type {\n",
              "        vertical-align: middle;\n",
              "    }\n",
              "\n",
              "    .dataframe tbody tr th {\n",
              "        vertical-align: top;\n",
              "    }\n",
              "\n",
              "    .dataframe thead th {\n",
              "        text-align: right;\n",
              "    }\n",
              "</style>\n",
              "<table border=\"1\" class=\"dataframe\">\n",
              "  <thead>\n",
              "    <tr style=\"text-align: right;\">\n",
              "      <th></th>\n",
              "      <th>fixed acidity</th>\n",
              "      <th>volatile acidity</th>\n",
              "      <th>citric acid</th>\n",
              "      <th>residual sugar</th>\n",
              "      <th>chlorides</th>\n",
              "      <th>free sulfur dioxide</th>\n",
              "      <th>total sulfur dioxide</th>\n",
              "      <th>density</th>\n",
              "      <th>pH</th>\n",
              "      <th>sulphates</th>\n",
              "      <th>alcohol</th>\n",
              "    </tr>\n",
              "  </thead>\n",
              "  <tbody>\n",
              "    <tr>\n",
              "      <th>0</th>\n",
              "      <td>8.2</td>\n",
              "      <td>1.33</td>\n",
              "      <td>0.00</td>\n",
              "      <td>1.7</td>\n",
              "      <td>0.081</td>\n",
              "      <td>3.0</td>\n",
              "      <td>12.0</td>\n",
              "      <td>0.99640</td>\n",
              "      <td>3.53</td>\n",
              "      <td>0.49</td>\n",
              "      <td>10.9</td>\n",
              "    </tr>\n",
              "    <tr>\n",
              "      <th>1</th>\n",
              "      <td>8.2</td>\n",
              "      <td>0.23</td>\n",
              "      <td>0.42</td>\n",
              "      <td>1.9</td>\n",
              "      <td>0.069</td>\n",
              "      <td>9.0</td>\n",
              "      <td>17.0</td>\n",
              "      <td>0.99376</td>\n",
              "      <td>3.21</td>\n",
              "      <td>0.54</td>\n",
              "      <td>12.3</td>\n",
              "    </tr>\n",
              "    <tr>\n",
              "      <th>2</th>\n",
              "      <td>6.4</td>\n",
              "      <td>0.79</td>\n",
              "      <td>0.04</td>\n",
              "      <td>2.2</td>\n",
              "      <td>0.061</td>\n",
              "      <td>11.0</td>\n",
              "      <td>17.0</td>\n",
              "      <td>0.99588</td>\n",
              "      <td>3.53</td>\n",
              "      <td>0.65</td>\n",
              "      <td>10.4</td>\n",
              "    </tr>\n",
              "    <tr>\n",
              "      <th>3</th>\n",
              "      <td>12.0</td>\n",
              "      <td>0.39</td>\n",
              "      <td>0.66</td>\n",
              "      <td>3.0</td>\n",
              "      <td>0.093</td>\n",
              "      <td>12.0</td>\n",
              "      <td>30.0</td>\n",
              "      <td>0.99960</td>\n",
              "      <td>3.18</td>\n",
              "      <td>0.63</td>\n",
              "      <td>10.8</td>\n",
              "    </tr>\n",
              "    <tr>\n",
              "      <th>4</th>\n",
              "      <td>7.1</td>\n",
              "      <td>0.36</td>\n",
              "      <td>0.30</td>\n",
              "      <td>1.6</td>\n",
              "      <td>0.080</td>\n",
              "      <td>35.0</td>\n",
              "      <td>70.0</td>\n",
              "      <td>0.99693</td>\n",
              "      <td>3.44</td>\n",
              "      <td>0.50</td>\n",
              "      <td>9.4</td>\n",
              "    </tr>\n",
              "  </tbody>\n",
              "</table>\n",
              "</div>"
            ],
            "text/plain": [
              "   fixed acidity  volatile acidity  citric acid  ...    pH  sulphates  alcohol\n",
              "0            8.2              1.33         0.00  ...  3.53       0.49     10.9\n",
              "1            8.2              0.23         0.42  ...  3.21       0.54     12.3\n",
              "2            6.4              0.79         0.04  ...  3.53       0.65     10.4\n",
              "3           12.0              0.39         0.66  ...  3.18       0.63     10.8\n",
              "4            7.1              0.36         0.30  ...  3.44       0.50      9.4\n",
              "\n",
              "[5 rows x 11 columns]"
            ]
          },
          "metadata": {
            "tags": []
          },
          "execution_count": 7
        }
      ]
    },
    {
      "cell_type": "code",
      "metadata": {
        "colab": {
          "base_uri": "https://localhost:8080/"
        },
        "id": "kGJwzAIrOIvj",
        "outputId": "320a9541-3cbb-4179-d1ed-f186871e06eb"
      },
      "source": [
        "y = df.quality\n",
        "y.head()"
      ],
      "execution_count": 8,
      "outputs": [
        {
          "output_type": "execute_result",
          "data": {
            "text/plain": [
              "0    2\n",
              "1    3\n",
              "2    3\n",
              "3    4\n",
              "4    2\n",
              "Name: quality, dtype: int64"
            ]
          },
          "metadata": {
            "tags": []
          },
          "execution_count": 8
        }
      ]
    },
    {
      "cell_type": "markdown",
      "metadata": {
        "id": "fB3Hg89DRcHT"
      },
      "source": [
        "4º Separando em treino e teste:"
      ]
    },
    {
      "cell_type": "code",
      "metadata": {
        "id": "zn932QM3Rg_v"
      },
      "source": [
        "X_train = X.iloc[:1000]\n",
        "X_test = X.iloc[1000:]\n",
        "\n",
        "y_train = y.iloc[:1000]\n",
        "y_test = y.iloc[1000:]"
      ],
      "execution_count": 9,
      "outputs": []
    },
    {
      "cell_type": "markdown",
      "metadata": {
        "id": "GkCwBTuuOsc-"
      },
      "source": [
        "(2ª forma de fazer)\n",
        "\n",
        "4º Separando em treino e teste:\n"
      ]
    },
    {
      "cell_type": "code",
      "metadata": {
        "id": "1boeIqyVOZTx"
      },
      "source": [
        "from sklearn.model_selection import train_test_split"
      ],
      "execution_count": 10,
      "outputs": []
    },
    {
      "cell_type": "code",
      "metadata": {
        "id": "7TRG7ryLQx0x"
      },
      "source": [
        "X_train_, X_test_, y_train_, y_test_ = train_test_split(X, y, test_size=0.33, random_state=42)"
      ],
      "execution_count": 11,
      "outputs": []
    },
    {
      "cell_type": "markdown",
      "metadata": {
        "id": "ftMHB8meTX1-"
      },
      "source": [
        "## Criando o classificador"
      ]
    },
    {
      "cell_type": "code",
      "metadata": {
        "id": "ML97mVTARFVl"
      },
      "source": [
        "from sklearn import tree"
      ],
      "execution_count": 12,
      "outputs": []
    },
    {
      "cell_type": "markdown",
      "metadata": {
        "id": "DgYKsIH5TqB5"
      },
      "source": [
        "Inicialmente, iremos usar um Decision Tree Classifier com profundidade de 3"
      ]
    },
    {
      "cell_type": "code",
      "metadata": {
        "id": "WqM6-MR9TfSF"
      },
      "source": [
        "clf = tree.DecisionTreeClassifier(max_depth=3)"
      ],
      "execution_count": 13,
      "outputs": []
    },
    {
      "cell_type": "code",
      "metadata": {
        "colab": {
          "base_uri": "https://localhost:8080/"
        },
        "id": "qCsUAz8zTk4P",
        "outputId": "6e1c9b09-4d7b-4863-e778-331ef31c08b4"
      },
      "source": [
        "clf.fit(X_train, y_train)"
      ],
      "execution_count": 14,
      "outputs": [
        {
          "output_type": "execute_result",
          "data": {
            "text/plain": [
              "DecisionTreeClassifier(ccp_alpha=0.0, class_weight=None, criterion='gini',\n",
              "                       max_depth=3, max_features=None, max_leaf_nodes=None,\n",
              "                       min_impurity_decrease=0.0, min_impurity_split=None,\n",
              "                       min_samples_leaf=1, min_samples_split=2,\n",
              "                       min_weight_fraction_leaf=0.0, presort='deprecated',\n",
              "                       random_state=None, splitter='best')"
            ]
          },
          "metadata": {
            "tags": []
          },
          "execution_count": 14
        }
      ]
    },
    {
      "cell_type": "markdown",
      "metadata": {
        "id": "AwGRyLYqXXR_"
      },
      "source": [
        "### Verificando as Predições"
      ]
    },
    {
      "cell_type": "code",
      "metadata": {
        "id": "PZQRzotwT96f"
      },
      "source": [
        "train_predictions = clf.predict(X_train)\n",
        "\n",
        "test_predictions = clf.predict(X_test)"
      ],
      "execution_count": 15,
      "outputs": []
    },
    {
      "cell_type": "markdown",
      "metadata": {
        "id": "iC5pjhwwYE-C"
      },
      "source": [
        "### Verificando a acurácia"
      ]
    },
    {
      "cell_type": "code",
      "metadata": {
        "id": "T41Y9Qm8Ya3P"
      },
      "source": [
        "from sklearn import metrics"
      ],
      "execution_count": 16,
      "outputs": []
    },
    {
      "cell_type": "markdown",
      "metadata": {
        "id": "2KOkmR91Y7Cm"
      },
      "source": [
        "Acurácia de treino"
      ]
    },
    {
      "cell_type": "code",
      "metadata": {
        "colab": {
          "base_uri": "https://localhost:8080/"
        },
        "id": "h82Oiqj9XsBQ",
        "outputId": "c8d5e607-21be-4a12-a105-b387e19a4610"
      },
      "source": [
        "train_accuracy = metrics.accuracy_score(y_train, train_predictions)\n",
        "train_accuracy"
      ],
      "execution_count": 17,
      "outputs": [
        {
          "output_type": "execute_result",
          "data": {
            "text/plain": [
              "0.606"
            ]
          },
          "metadata": {
            "tags": []
          },
          "execution_count": 17
        }
      ]
    },
    {
      "cell_type": "markdown",
      "metadata": {
        "id": "dmiCniqOY9pA"
      },
      "source": [
        "Acurácia de teste"
      ]
    },
    {
      "cell_type": "code",
      "metadata": {
        "colab": {
          "base_uri": "https://localhost:8080/"
        },
        "id": "xwhEI3JUYthi",
        "outputId": "2dcd3a95-d8f0-4cfa-961b-32370d4829e2"
      },
      "source": [
        "test_accuracy = metrics.accuracy_score(y_test, test_predictions)\n",
        "test_accuracy"
      ],
      "execution_count": 18,
      "outputs": [
        {
          "output_type": "execute_result",
          "data": {
            "text/plain": [
              "0.5575959933222037"
            ]
          },
          "metadata": {
            "tags": []
          },
          "execution_count": 18
        }
      ]
    },
    {
      "cell_type": "markdown",
      "metadata": {
        "id": "sCAm_ZfltiQM"
      },
      "source": [
        "### Teste variados com diferentes valores para o `maxdepth`"
      ]
    },
    {
      "cell_type": "code",
      "metadata": {
        "id": "-BsuXaE7Y2rj"
      },
      "source": [
        "train_accuracies = [0.5]\n",
        "test_accuracies = [0.5]\n",
        "index_accuracies = [0]"
      ],
      "execution_count": 19,
      "outputs": []
    },
    {
      "cell_type": "code",
      "metadata": {
        "id": "KidUopyct-iG"
      },
      "source": [
        "for depth in range(1, 30):\n",
        "  #criando o classificador\n",
        "  clf = tree.DecisionTreeClassifier(max_depth=depth)\n",
        "  \n",
        "  #treinando o classificador\n",
        "  clf.fit(X_train, y_train)\n",
        "\n",
        "  # realizando as predições de treino e teste\n",
        "  train_predictions = clf.predict(X_train)\n",
        "  test_predictions = clf.predict(X_test)\n",
        "\n",
        "  # calculando as acurácias\n",
        "  train_accuracy = metrics.accuracy_score(y_train, train_predictions)\n",
        "  test_accuracy = metrics.accuracy_score(y_test, test_predictions)\n",
        "\n",
        "  # adicionando os valores nas listas\n",
        "  train_accuracies.append(train_accuracy)\n",
        "  test_accuracies.append(test_accuracy)\n",
        "  index_accuracies.append(depth)\n"
      ],
      "execution_count": 20,
      "outputs": []
    },
    {
      "cell_type": "markdown",
      "metadata": {
        "id": "2mZahFqMgwRu"
      },
      "source": [
        "Realizando o plot:"
      ]
    },
    {
      "cell_type": "code",
      "metadata": {
        "id": "byB_-QxjvGLz"
      },
      "source": [
        "import seaborn as sns\n",
        "import matplotlib.pyplot as plt\n",
        "\n",
        "sns.set()\n",
        "sns.set_palette(\"Dark2\")\n",
        "sns.set_style(\"darkgrid\")"
      ],
      "execution_count": 21,
      "outputs": []
    },
    {
      "cell_type": "code",
      "metadata": {
        "colab": {
          "base_uri": "https://localhost:8080/",
          "height": 437
        },
        "id": "tr9EA7rUvcbF",
        "outputId": "5b9f8f81-d74c-49b4-f40d-b5c67dabe0dd"
      },
      "source": [
        "ax = sns.lineplot(x=index_accuracies, y=train_accuracies, label='Train')\n",
        "ax = sns.lineplot(x=index_accuracies, y=test_accuracies, label='Test')\n",
        "\n",
        "ax.figure.set_size_inches(12,6)\n",
        "ax.set_title(\"Acurácia de treino x Acurácia de teste\")\n",
        "ax.set_xlabel(\"Depth of tree classifier\")\n",
        "ax.set_ylabel(\"Accuracy\")\n",
        "ax.legend()\n",
        "\n",
        "plt.tight_layout()"
      ],
      "execution_count": 22,
      "outputs": [
        {
          "output_type": "display_data",
          "data": {
            "image/png": "[encoded data removed]",
            "text/plain": [
              "<Figure size 864x432 with 1 Axes>"
            ]
          },
          "metadata": {
            "tags": []
          }
        }
      ]
    },
    {
      "cell_type": "markdown",
      "metadata": {
        "id": "Dsv8O_1pVZzC"
      },
      "source": [
        "Aqui podemos ver perfeitamente como a acurrácia de treino vai melhorando cada vez mais quando aumentamos a profundidade da árvore. Mas em contrapartida, a mesma otimização não ocorre nos dados de teste.\n",
        "\n",
        "Isso é o **overfitting**"
      ]
    },
    {
      "cell_type": "markdown",
      "metadata": {
        "id": "v16-S9lnXO0G"
      },
      "source": [
        "# Cross-validation"
      ]
    },
    {
      "cell_type": "markdown",
      "metadata": {
        "id": "qOBF9n7iXRTT"
      },
      "source": [
        "Para solucionarmos esse problema, vamos usar o cross-validation. Essa técnica divide os dados em vários grupo e aplica os treinos em testes nesses grupos.\n",
        "\n",
        "Dessa forma, todos os dados são utilizados tanto para treino como para teste.\n",
        "\n",
        "<center><img src=\"https://scikit-learn.org/stable/_images/grid_search_cross_validation.png\" height=\"300px\"></center>"
      ]
    },
    {
      "cell_type": "markdown",
      "metadata": {
        "id": "0tjEKneFpslc"
      },
      "source": [
        "## **Kfold** \"normal\""
      ]
    },
    {
      "cell_type": "markdown",
      "metadata": {
        "id": "Uo7Ram3EPlOS"
      },
      "source": [
        "### Criando os *folds*"
      ]
    },
    {
      "cell_type": "markdown",
      "metadata": {
        "id": "VJ5WLuvcn-wM"
      },
      "source": [
        "Importando a biblioteca model selection"
      ]
    },
    {
      "cell_type": "code",
      "metadata": {
        "id": "nKqDK1N5QFRC"
      },
      "source": [
        "from sklearn import model_selection"
      ],
      "execution_count": 23,
      "outputs": []
    },
    {
      "cell_type": "markdown",
      "metadata": {
        "id": "pXbrdiTUqsqL"
      },
      "source": [
        "Resetando os valores para X e y:"
      ]
    },
    {
      "cell_type": "code",
      "metadata": {
        "id": "BZ3M3HHdt5KY"
      },
      "source": [
        "X = df.drop('quality', axis=1)\n",
        "y = df.quality"
      ],
      "execution_count": 24,
      "outputs": []
    },
    {
      "cell_type": "code",
      "metadata": {
        "id": "kANuECYcXOFp",
        "colab": {
          "base_uri": "https://localhost:8080/",
          "height": 204
        },
        "outputId": "09c15404-c96e-4091-ebe1-f3a6a69509e8"
      },
      "source": [
        "X['kfold'] = -1\n",
        "X.head()"
      ],
      "execution_count": 25,
      "outputs": [
        {
          "output_type": "execute_result",
          "data": {
            "text/html": [
              "<div>\n",
              "<style scoped>\n",
              "    .dataframe tbody tr th:only-of-type {\n",
              "        vertical-align: middle;\n",
              "    }\n",
              "\n",
              "    .dataframe tbody tr th {\n",
              "        vertical-align: top;\n",
              "    }\n",
              "\n",
              "    .dataframe thead th {\n",
              "        text-align: right;\n",
              "    }\n",
              "</style>\n",
              "<table border=\"1\" class=\"dataframe\">\n",
              "  <thead>\n",
              "    <tr style=\"text-align: right;\">\n",
              "      <th></th>\n",
              "      <th>fixed acidity</th>\n",
              "      <th>volatile acidity</th>\n",
              "      <th>citric acid</th>\n",
              "      <th>residual sugar</th>\n",
              "      <th>chlorides</th>\n",
              "      <th>free sulfur dioxide</th>\n",
              "      <th>total sulfur dioxide</th>\n",
              "      <th>density</th>\n",
              "      <th>pH</th>\n",
              "      <th>sulphates</th>\n",
              "      <th>alcohol</th>\n",
              "      <th>kfold</th>\n",
              "    </tr>\n",
              "  </thead>\n",
              "  <tbody>\n",
              "    <tr>\n",
              "      <th>0</th>\n",
              "      <td>8.2</td>\n",
              "      <td>1.33</td>\n",
              "      <td>0.00</td>\n",
              "      <td>1.7</td>\n",
              "      <td>0.081</td>\n",
              "      <td>3.0</td>\n",
              "      <td>12.0</td>\n",
              "      <td>0.99640</td>\n",
              "      <td>3.53</td>\n",
              "      <td>0.49</td>\n",
              "      <td>10.9</td>\n",
              "      <td>-1</td>\n",
              "    </tr>\n",
              "    <tr>\n",
              "      <th>1</th>\n",
              "      <td>8.2</td>\n",
              "      <td>0.23</td>\n",
              "      <td>0.42</td>\n",
              "      <td>1.9</td>\n",
              "      <td>0.069</td>\n",
              "      <td>9.0</td>\n",
              "      <td>17.0</td>\n",
              "      <td>0.99376</td>\n",
              "      <td>3.21</td>\n",
              "      <td>0.54</td>\n",
              "      <td>12.3</td>\n",
              "      <td>-1</td>\n",
              "    </tr>\n",
              "    <tr>\n",
              "      <th>2</th>\n",
              "      <td>6.4</td>\n",
              "      <td>0.79</td>\n",
              "      <td>0.04</td>\n",
              "      <td>2.2</td>\n",
              "      <td>0.061</td>\n",
              "      <td>11.0</td>\n",
              "      <td>17.0</td>\n",
              "      <td>0.99588</td>\n",
              "      <td>3.53</td>\n",
              "      <td>0.65</td>\n",
              "      <td>10.4</td>\n",
              "      <td>-1</td>\n",
              "    </tr>\n",
              "    <tr>\n",
              "      <th>3</th>\n",
              "      <td>12.0</td>\n",
              "      <td>0.39</td>\n",
              "      <td>0.66</td>\n",
              "      <td>3.0</td>\n",
              "      <td>0.093</td>\n",
              "      <td>12.0</td>\n",
              "      <td>30.0</td>\n",
              "      <td>0.99960</td>\n",
              "      <td>3.18</td>\n",
              "      <td>0.63</td>\n",
              "      <td>10.8</td>\n",
              "      <td>-1</td>\n",
              "    </tr>\n",
              "    <tr>\n",
              "      <th>4</th>\n",
              "      <td>7.1</td>\n",
              "      <td>0.36</td>\n",
              "      <td>0.30</td>\n",
              "      <td>1.6</td>\n",
              "      <td>0.080</td>\n",
              "      <td>35.0</td>\n",
              "      <td>70.0</td>\n",
              "      <td>0.99693</td>\n",
              "      <td>3.44</td>\n",
              "      <td>0.50</td>\n",
              "      <td>9.4</td>\n",
              "      <td>-1</td>\n",
              "    </tr>\n",
              "  </tbody>\n",
              "</table>\n",
              "</div>"
            ],
            "text/plain": [
              "   fixed acidity  volatile acidity  citric acid  ...  sulphates  alcohol  kfold\n",
              "0            8.2              1.33         0.00  ...       0.49     10.9     -1\n",
              "1            8.2              0.23         0.42  ...       0.54     12.3     -1\n",
              "2            6.4              0.79         0.04  ...       0.65     10.4     -1\n",
              "3           12.0              0.39         0.66  ...       0.63     10.8     -1\n",
              "4            7.1              0.36         0.30  ...       0.50      9.4     -1\n",
              "\n",
              "[5 rows x 12 columns]"
            ]
          },
          "metadata": {
            "tags": []
          },
          "execution_count": 25
        }
      ]
    },
    {
      "cell_type": "markdown",
      "metadata": {
        "id": "p0pBc1rVol2C"
      },
      "source": [
        "Fazendo a separação na proporção que queremos que o Kfold divida os dados.\n",
        "\n",
        "Nesse caso, queremos que divida em 5 partes, sendo 4 para treino e 1 para validação"
      ]
    },
    {
      "cell_type": "code",
      "metadata": {
        "id": "m6LPzlAEvhpO"
      },
      "source": [
        "kf = model_selection.KFold(n_splits=5)"
      ],
      "execution_count": 26,
      "outputs": []
    },
    {
      "cell_type": "markdown",
      "metadata": {
        "id": "DvIN1qN2o6fQ"
      },
      "source": [
        "Atribuindo o \"número do fold\" que o modelo criou para entrada na coluna `kfold`"
      ]
    },
    {
      "cell_type": "code",
      "metadata": {
        "id": "M6zb059vP-Pw"
      },
      "source": [
        "# a função split() irá retornar um objeto que pode ser listado (list(kf.split()))\n",
        "# o kf.split() retorna os splits gerados pelo kfold, nesse caso, 5\n",
        "# cada um deles terá, na primeira posicão quais entradas são de treino\n",
        "# e na segunda posição quais são de teste\n",
        "\n",
        "for fold, (trn_, val_) in enumerate(kf.split(X)):\n",
        "  X.loc[val_, 'kfold'] = fold"
      ],
      "execution_count": 27,
      "outputs": []
    },
    {
      "cell_type": "markdown",
      "metadata": {
        "id": "RCIUYGlcpZSt"
      },
      "source": [
        "Vamos embaralhar o dataFrame para podermos ver que os valores de 0 a 4 (os 5 splits) foram distribuídos na coluna `kfold`"
      ]
    },
    {
      "cell_type": "code",
      "metadata": {
        "colab": {
          "base_uri": "https://localhost:8080/",
          "height": 376
        },
        "id": "Td71mzssQiwg",
        "outputId": "35269863-0461-496d-ef00-bdc641e640b5"
      },
      "source": [
        "X.sample(frac=1).head(10)"
      ],
      "execution_count": 28,
      "outputs": [
        {
          "output_type": "execute_result",
          "data": {
            "text/html": [
              "<div>\n",
              "<style scoped>\n",
              "    .dataframe tbody tr th:only-of-type {\n",
              "        vertical-align: middle;\n",
              "    }\n",
              "\n",
              "    .dataframe tbody tr th {\n",
              "        vertical-align: top;\n",
              "    }\n",
              "\n",
              "    .dataframe thead th {\n",
              "        text-align: right;\n",
              "    }\n",
              "</style>\n",
              "<table border=\"1\" class=\"dataframe\">\n",
              "  <thead>\n",
              "    <tr style=\"text-align: right;\">\n",
              "      <th></th>\n",
              "      <th>fixed acidity</th>\n",
              "      <th>volatile acidity</th>\n",
              "      <th>citric acid</th>\n",
              "      <th>residual sugar</th>\n",
              "      <th>chlorides</th>\n",
              "      <th>free sulfur dioxide</th>\n",
              "      <th>total sulfur dioxide</th>\n",
              "      <th>density</th>\n",
              "      <th>pH</th>\n",
              "      <th>sulphates</th>\n",
              "      <th>alcohol</th>\n",
              "      <th>kfold</th>\n",
              "    </tr>\n",
              "  </thead>\n",
              "  <tbody>\n",
              "    <tr>\n",
              "      <th>1208</th>\n",
              "      <td>7.2</td>\n",
              "      <td>0.635</td>\n",
              "      <td>0.07</td>\n",
              "      <td>2.6</td>\n",
              "      <td>0.077</td>\n",
              "      <td>16.0</td>\n",
              "      <td>86.0</td>\n",
              "      <td>0.99748</td>\n",
              "      <td>3.51</td>\n",
              "      <td>0.54</td>\n",
              "      <td>9.7</td>\n",
              "      <td>3</td>\n",
              "    </tr>\n",
              "    <tr>\n",
              "      <th>207</th>\n",
              "      <td>10.0</td>\n",
              "      <td>0.480</td>\n",
              "      <td>0.24</td>\n",
              "      <td>2.7</td>\n",
              "      <td>0.102</td>\n",
              "      <td>13.0</td>\n",
              "      <td>32.0</td>\n",
              "      <td>1.00000</td>\n",
              "      <td>3.28</td>\n",
              "      <td>0.56</td>\n",
              "      <td>10.0</td>\n",
              "      <td>0</td>\n",
              "    </tr>\n",
              "    <tr>\n",
              "      <th>157</th>\n",
              "      <td>13.7</td>\n",
              "      <td>0.415</td>\n",
              "      <td>0.68</td>\n",
              "      <td>2.9</td>\n",
              "      <td>0.085</td>\n",
              "      <td>17.0</td>\n",
              "      <td>43.0</td>\n",
              "      <td>1.00140</td>\n",
              "      <td>3.06</td>\n",
              "      <td>0.80</td>\n",
              "      <td>10.0</td>\n",
              "      <td>0</td>\n",
              "    </tr>\n",
              "    <tr>\n",
              "      <th>1513</th>\n",
              "      <td>12.0</td>\n",
              "      <td>0.380</td>\n",
              "      <td>0.56</td>\n",
              "      <td>2.1</td>\n",
              "      <td>0.093</td>\n",
              "      <td>6.0</td>\n",
              "      <td>24.0</td>\n",
              "      <td>0.99925</td>\n",
              "      <td>3.14</td>\n",
              "      <td>0.71</td>\n",
              "      <td>10.9</td>\n",
              "      <td>4</td>\n",
              "    </tr>\n",
              "    <tr>\n",
              "      <th>414</th>\n",
              "      <td>7.7</td>\n",
              "      <td>0.705</td>\n",
              "      <td>0.10</td>\n",
              "      <td>2.6</td>\n",
              "      <td>0.084</td>\n",
              "      <td>9.0</td>\n",
              "      <td>26.0</td>\n",
              "      <td>0.99760</td>\n",
              "      <td>3.39</td>\n",
              "      <td>0.49</td>\n",
              "      <td>9.7</td>\n",
              "      <td>1</td>\n",
              "    </tr>\n",
              "    <tr>\n",
              "      <th>320</th>\n",
              "      <td>9.9</td>\n",
              "      <td>0.590</td>\n",
              "      <td>0.07</td>\n",
              "      <td>3.4</td>\n",
              "      <td>0.102</td>\n",
              "      <td>32.0</td>\n",
              "      <td>71.0</td>\n",
              "      <td>1.00015</td>\n",
              "      <td>3.31</td>\n",
              "      <td>0.71</td>\n",
              "      <td>9.8</td>\n",
              "      <td>1</td>\n",
              "    </tr>\n",
              "    <tr>\n",
              "      <th>895</th>\n",
              "      <td>7.7</td>\n",
              "      <td>0.640</td>\n",
              "      <td>0.21</td>\n",
              "      <td>2.2</td>\n",
              "      <td>0.077</td>\n",
              "      <td>32.0</td>\n",
              "      <td>133.0</td>\n",
              "      <td>0.99560</td>\n",
              "      <td>3.27</td>\n",
              "      <td>0.45</td>\n",
              "      <td>9.9</td>\n",
              "      <td>2</td>\n",
              "    </tr>\n",
              "    <tr>\n",
              "      <th>1277</th>\n",
              "      <td>6.6</td>\n",
              "      <td>0.855</td>\n",
              "      <td>0.02</td>\n",
              "      <td>2.4</td>\n",
              "      <td>0.062</td>\n",
              "      <td>15.0</td>\n",
              "      <td>23.0</td>\n",
              "      <td>0.99627</td>\n",
              "      <td>3.54</td>\n",
              "      <td>0.60</td>\n",
              "      <td>11.0</td>\n",
              "      <td>3</td>\n",
              "    </tr>\n",
              "    <tr>\n",
              "      <th>22</th>\n",
              "      <td>7.2</td>\n",
              "      <td>0.500</td>\n",
              "      <td>0.18</td>\n",
              "      <td>2.1</td>\n",
              "      <td>0.071</td>\n",
              "      <td>12.0</td>\n",
              "      <td>31.0</td>\n",
              "      <td>0.99761</td>\n",
              "      <td>3.52</td>\n",
              "      <td>0.72</td>\n",
              "      <td>9.6</td>\n",
              "      <td>0</td>\n",
              "    </tr>\n",
              "    <tr>\n",
              "      <th>978</th>\n",
              "      <td>7.8</td>\n",
              "      <td>0.550</td>\n",
              "      <td>0.00</td>\n",
              "      <td>1.7</td>\n",
              "      <td>0.070</td>\n",
              "      <td>7.0</td>\n",
              "      <td>17.0</td>\n",
              "      <td>0.99659</td>\n",
              "      <td>3.26</td>\n",
              "      <td>0.64</td>\n",
              "      <td>9.4</td>\n",
              "      <td>3</td>\n",
              "    </tr>\n",
              "  </tbody>\n",
              "</table>\n",
              "</div>"
            ],
            "text/plain": [
              "      fixed acidity  volatile acidity  citric acid  ...  sulphates  alcohol  kfold\n",
              "1208            7.2             0.635         0.07  ...       0.54      9.7      3\n",
              "207            10.0             0.480         0.24  ...       0.56     10.0      0\n",
              "157            13.7             0.415         0.68  ...       0.80     10.0      0\n",
              "1513           12.0             0.380         0.56  ...       0.71     10.9      4\n",
              "414             7.7             0.705         0.10  ...       0.49      9.7      1\n",
              "320             9.9             0.590         0.07  ...       0.71      9.8      1\n",
              "895             7.7             0.640         0.21  ...       0.45      9.9      2\n",
              "1277            6.6             0.855         0.02  ...       0.60     11.0      3\n",
              "22              7.2             0.500         0.18  ...       0.72      9.6      0\n",
              "978             7.8             0.550         0.00  ...       0.64      9.4      3\n",
              "\n",
              "[10 rows x 12 columns]"
            ]
          },
          "metadata": {
            "tags": []
          },
          "execution_count": 28
        }
      ]
    },
    {
      "cell_type": "markdown",
      "metadata": {
        "id": "7_4y9HqfqNqQ"
      },
      "source": [
        "## **Stratified Kfold**"
      ]
    },
    {
      "cell_type": "code",
      "metadata": {
        "id": "1ZtJ-WKjQrNm"
      },
      "source": [
        "from sklearn import model_selection"
      ],
      "execution_count": 29,
      "outputs": []
    },
    {
      "cell_type": "markdown",
      "metadata": {
        "id": "66xuej0rsgbn"
      },
      "source": [
        "Resetando os valores de X e Y"
      ]
    },
    {
      "cell_type": "code",
      "metadata": {
        "id": "SK0YC8m5qeBB"
      },
      "source": [
        "X = df.drop('quality', axis=1)\n",
        "y = df.quality"
      ],
      "execution_count": 30,
      "outputs": []
    },
    {
      "cell_type": "code",
      "metadata": {
        "colab": {
          "base_uri": "https://localhost:8080/",
          "height": 221
        },
        "id": "NBV2zU1ttfKE",
        "outputId": "7619b711-d8aa-49c7-8917-0e73eed19df3"
      },
      "source": [
        "X['s_kfold'] = -1\n",
        "X.head()"
      ],
      "execution_count": 31,
      "outputs": [
        {
          "output_type": "execute_result",
          "data": {
            "text/html": [
              "<div>\n",
              "<style scoped>\n",
              "    .dataframe tbody tr th:only-of-type {\n",
              "        vertical-align: middle;\n",
              "    }\n",
              "\n",
              "    .dataframe tbody tr th {\n",
              "        vertical-align: top;\n",
              "    }\n",
              "\n",
              "    .dataframe thead th {\n",
              "        text-align: right;\n",
              "    }\n",
              "</style>\n",
              "<table border=\"1\" class=\"dataframe\">\n",
              "  <thead>\n",
              "    <tr style=\"text-align: right;\">\n",
              "      <th></th>\n",
              "      <th>fixed acidity</th>\n",
              "      <th>volatile acidity</th>\n",
              "      <th>citric acid</th>\n",
              "      <th>residual sugar</th>\n",
              "      <th>chlorides</th>\n",
              "      <th>free sulfur dioxide</th>\n",
              "      <th>total sulfur dioxide</th>\n",
              "      <th>density</th>\n",
              "      <th>pH</th>\n",
              "      <th>sulphates</th>\n",
              "      <th>alcohol</th>\n",
              "      <th>s_kfold</th>\n",
              "    </tr>\n",
              "  </thead>\n",
              "  <tbody>\n",
              "    <tr>\n",
              "      <th>0</th>\n",
              "      <td>8.2</td>\n",
              "      <td>1.33</td>\n",
              "      <td>0.00</td>\n",
              "      <td>1.7</td>\n",
              "      <td>0.081</td>\n",
              "      <td>3.0</td>\n",
              "      <td>12.0</td>\n",
              "      <td>0.99640</td>\n",
              "      <td>3.53</td>\n",
              "      <td>0.49</td>\n",
              "      <td>10.9</td>\n",
              "      <td>-1</td>\n",
              "    </tr>\n",
              "    <tr>\n",
              "      <th>1</th>\n",
              "      <td>8.2</td>\n",
              "      <td>0.23</td>\n",
              "      <td>0.42</td>\n",
              "      <td>1.9</td>\n",
              "      <td>0.069</td>\n",
              "      <td>9.0</td>\n",
              "      <td>17.0</td>\n",
              "      <td>0.99376</td>\n",
              "      <td>3.21</td>\n",
              "      <td>0.54</td>\n",
              "      <td>12.3</td>\n",
              "      <td>-1</td>\n",
              "    </tr>\n",
              "    <tr>\n",
              "      <th>2</th>\n",
              "      <td>6.4</td>\n",
              "      <td>0.79</td>\n",
              "      <td>0.04</td>\n",
              "      <td>2.2</td>\n",
              "      <td>0.061</td>\n",
              "      <td>11.0</td>\n",
              "      <td>17.0</td>\n",
              "      <td>0.99588</td>\n",
              "      <td>3.53</td>\n",
              "      <td>0.65</td>\n",
              "      <td>10.4</td>\n",
              "      <td>-1</td>\n",
              "    </tr>\n",
              "    <tr>\n",
              "      <th>3</th>\n",
              "      <td>12.0</td>\n",
              "      <td>0.39</td>\n",
              "      <td>0.66</td>\n",
              "      <td>3.0</td>\n",
              "      <td>0.093</td>\n",
              "      <td>12.0</td>\n",
              "      <td>30.0</td>\n",
              "      <td>0.99960</td>\n",
              "      <td>3.18</td>\n",
              "      <td>0.63</td>\n",
              "      <td>10.8</td>\n",
              "      <td>-1</td>\n",
              "    </tr>\n",
              "    <tr>\n",
              "      <th>4</th>\n",
              "      <td>7.1</td>\n",
              "      <td>0.36</td>\n",
              "      <td>0.30</td>\n",
              "      <td>1.6</td>\n",
              "      <td>0.080</td>\n",
              "      <td>35.0</td>\n",
              "      <td>70.0</td>\n",
              "      <td>0.99693</td>\n",
              "      <td>3.44</td>\n",
              "      <td>0.50</td>\n",
              "      <td>9.4</td>\n",
              "      <td>-1</td>\n",
              "    </tr>\n",
              "  </tbody>\n",
              "</table>\n",
              "</div>"
            ],
            "text/plain": [
              "   fixed acidity  volatile acidity  citric acid  ...  sulphates  alcohol  s_kfold\n",
              "0            8.2              1.33         0.00  ...       0.49     10.9       -1\n",
              "1            8.2              0.23         0.42  ...       0.54     12.3       -1\n",
              "2            6.4              0.79         0.04  ...       0.65     10.4       -1\n",
              "3           12.0              0.39         0.66  ...       0.63     10.8       -1\n",
              "4            7.1              0.36         0.30  ...       0.50      9.4       -1\n",
              "\n",
              "[5 rows x 12 columns]"
            ]
          },
          "metadata": {
            "tags": []
          },
          "execution_count": 31
        }
      ]
    },
    {
      "cell_type": "code",
      "metadata": {
        "id": "EAJLha8isAWo"
      },
      "source": [
        "s_kf = model_selection.StratifiedKFold(n_splits=5)"
      ],
      "execution_count": 32,
      "outputs": []
    },
    {
      "cell_type": "code",
      "metadata": {
        "id": "aR6RDxC-sMoO"
      },
      "source": [
        "for fold, (trn_, val_) in enumerate(s_kf.split(X, y)):\n",
        "  X.loc[val_, 's_kfold'] = fold"
      ],
      "execution_count": 33,
      "outputs": []
    },
    {
      "cell_type": "markdown",
      "metadata": {
        "id": "sbePZzLj2Y4c"
      },
      "source": [
        "### Comparando os dados de y com as divisões do `Statified_kfold()`"
      ]
    },
    {
      "cell_type": "markdown",
      "metadata": {
        "id": "1LYqIHBC2vx3"
      },
      "source": [
        "Valores de y em cada fold"
      ]
    },
    {
      "cell_type": "code",
      "metadata": {
        "colab": {
          "base_uri": "https://localhost:8080/"
        },
        "id": "fR-IrCBiyHkT",
        "outputId": "e39f3843-9269-4479-ca52-0d8b4fcee574"
      },
      "source": [
        "for i in range(5):\n",
        "  dtrn_s_kfold = list(s_kf.split(X, y))[i][0]\n",
        "  print(y.loc[dtrn_s_kfold].value_counts().sort_index().to_list())"
      ],
      "execution_count": 34,
      "outputs": [
        {
          "output_type": "stream",
          "text": [
            "[8, 42, 544, 511, 159, 15]\n",
            "[8, 43, 545, 510, 159, 14]\n",
            "[8, 43, 545, 510, 159, 14]\n",
            "[8, 42, 545, 510, 160, 14]\n",
            "[8, 42, 545, 511, 159, 15]\n"
          ],
          "name": "stdout"
        }
      ]
    },
    {
      "cell_type": "markdown",
      "metadata": {
        "id": "87JR8S172zn2"
      },
      "source": [
        "Valores em y"
      ]
    },
    {
      "cell_type": "code",
      "metadata": {
        "colab": {
          "base_uri": "https://localhost:8080/"
        },
        "id": "8o7iVnE_y2in",
        "outputId": "a04ac21f-fcc8-4729-9748-1528e5c5adbe"
      },
      "source": [
        "y.value_counts().sort_index().to_list()"
      ],
      "execution_count": 35,
      "outputs": [
        {
          "output_type": "execute_result",
          "data": {
            "text/plain": [
              "[10, 53, 681, 638, 199, 18]"
            ]
          },
          "metadata": {
            "tags": []
          },
          "execution_count": 35
        }
      ]
    },
    {
      "cell_type": "markdown",
      "metadata": {
        "id": "aXNhHWNB3GPr"
      },
      "source": [
        "#### Plotando:"
      ]
    },
    {
      "cell_type": "markdown",
      "metadata": {
        "id": "zz8IZhFh5JHy"
      },
      "source": [
        "Os valores do dataFrame (y):"
      ]
    },
    {
      "cell_type": "code",
      "metadata": {
        "colab": {
          "base_uri": "https://localhost:8080/",
          "height": 470
        },
        "id": "-76sqC7w3IR2",
        "outputId": "e84f0d89-bf7e-46e8-958a-432ad9445f10"
      },
      "source": [
        "ax = sns.countplot(y)\n",
        "\n",
        "ax.figure.set_size_inches(8,6)\n",
        "ax.set_title('Quantide de vinhos por Nota')\n",
        "ax.set_xlabel('Quality of Wine', fontsize=20)\n",
        "ax.set_ylabel('Quantidade', fontsize=20);"
      ],
      "execution_count": 36,
      "outputs": [
        {
          "output_type": "stream",
          "text": [
            "/usr/local/lib/python3.6/dist-packages/seaborn/_decorators.py:43: FutureWarning: Pass the following variable as a keyword arg: x. From version 0.12, the only valid positional argument will be `data`, and passing other arguments without an explicit keyword will result in an error or misinterpretation.\n",
            "  FutureWarning\n"
          ],
          "name": "stderr"
        },
        {
          "output_type": "display_data",
          "data": {
            "image/png": "[encoded data removed]",
            "text/plain": [
              "<Figure size 576x432 with 1 Axes>"
            ]
          },
          "metadata": {
            "tags": []
          }
        }
      ]
    },
    {
      "cell_type": "code",
      "metadata": {
        "colab": {
          "base_uri": "https://localhost:8080/",
          "height": 471
        },
        "id": "FGuVhIwt3LVh",
        "outputId": "09407467-59b3-4fd7-fdcf-99f2f26108c3"
      },
      "source": [
        "ax = sns.countplot(y.loc[list(s_kf.split(X, y))[0][0]])\n",
        "\n",
        "ax.figure.set_size_inches(8,6)\n",
        "ax.set_title('Quantidade vinhos por nota no Stratified Kfold', fontsize=20)\n",
        "ax.set_xlabel('Quality of Wine', fontsize=16)\n",
        "ax.set_ylabel('Qunatidades', fontsize=16);"
      ],
      "execution_count": 37,
      "outputs": [
        {
          "output_type": "stream",
          "text": [
            "/usr/local/lib/python3.6/dist-packages/seaborn/_decorators.py:43: FutureWarning: Pass the following variable as a keyword arg: x. From version 0.12, the only valid positional argument will be `data`, and passing other arguments without an explicit keyword will result in an error or misinterpretation.\n",
            "  FutureWarning\n"
          ],
          "name": "stderr"
        },
        {
          "output_type": "display_data",
          "data": {
            "image/png": "[encoded data removed]",
            "text/plain": [
              "<Figure size 576x432 with 1 Axes>"
            ]
          },
          "metadata": {
            "tags": []
          }
        }
      ]
    },
    {
      "cell_type": "markdown",
      "metadata": {
        "id": "Wrbu2M6c9-GV"
      },
      "source": [
        "Como podemos ver, o `Stratified_kfold()` separa os dados na mesma proporção que o dataframe original, o que é muito bom pois permite que sejam alcançados resultados melhores e evita que, em data set que tenham dados 90%/10% sejam pegos somente o grupo de 90% para treino"
      ]
    },
    {
      "cell_type": "markdown",
      "metadata": {
        "id": "SQE7ABdSDxiI"
      },
      "source": [
        "## Hold out"
      ]
    },
    {
      "cell_type": "markdown",
      "metadata": {
        "id": "GEhXEHufD1M7"
      },
      "source": [
        "Esse método é muito utilizado quando temos um grande números de dados, pois ai podemos guardar (hold-out) uma parte do dados para teste"
      ]
    },
    {
      "cell_type": "markdown",
      "metadata": {
        "id": "uZLev_w-EErh"
      },
      "source": [
        "## Séries Temporais"
      ]
    },
    {
      "cell_type": "markdown",
      "metadata": {
        "id": "PNNhzApGERDk"
      },
      "source": [
        "Quando trabalhamos com séries temporais, podemos usat qualquer tipo de Crossvalidation que quiser normalmente, exceto o `Stratified_kfold()`.\n",
        "\n",
        "Se quiser usar o `Stratified_kfold()` temos que fazer um processo diferente, que  consiste em dividir o dataset em Bins.\n",
        "\n",
        "Para isso, podemos fazer de uma forma aletatória ou usarmos a fórmula geral para saber a quantidade de bins para cada dataset\n"
      ]
    },
    {
      "cell_type": "markdown",
      "metadata": {
        "id": "fOzKL-l0E3Ij"
      },
      "source": [
        "### Exemplo"
      ]
    },
    {
      "cell_type": "markdown",
      "metadata": {
        "id": "S3Fo5-PiE7v2"
      },
      "source": [
        "#### Criando uma série temporal"
      ]
    },
    {
      "cell_type": "code",
      "metadata": {
        "id": "2-AuYxQME5r9"
      },
      "source": [
        "from sklearn import datasets"
      ],
      "execution_count": 38,
      "outputs": []
    },
    {
      "cell_type": "code",
      "metadata": {
        "id": "8ezmRZbJFEUh"
      },
      "source": [
        "X, y = datasets.make_regression(n_samples=15000, n_features=100, n_targets=1)"
      ],
      "execution_count": 39,
      "outputs": []
    },
    {
      "cell_type": "code",
      "metadata": {
        "colab": {
          "base_uri": "https://localhost:8080/",
          "height": 253
        },
        "id": "HKpHza4tFeQu",
        "outputId": "2a383947-43a3-43bc-8e5e-2bb59e86243c"
      },
      "source": [
        "df = pd.DataFrame(X, columns=[f'f_{i}' for i in range(X.shape[1])])\n",
        "\n",
        "df['target'] = y\n",
        "\n",
        "df.head()"
      ],
      "execution_count": 50,
      "outputs": [
        {
          "output_type": "execute_result",
          "data": {
            "text/html": [
              "<div>\n",
              "<style scoped>\n",
              "    .dataframe tbody tr th:only-of-type {\n",
              "        vertical-align: middle;\n",
              "    }\n",
              "\n",
              "    .dataframe tbody tr th {\n",
              "        vertical-align: top;\n",
              "    }\n",
              "\n",
              "    .dataframe thead th {\n",
              "        text-align: right;\n",
              "    }\n",
              "</style>\n",
              "<table border=\"1\" class=\"dataframe\">\n",
              "  <thead>\n",
              "    <tr style=\"text-align: right;\">\n",
              "      <th></th>\n",
              "      <th>f_0</th>\n",
              "      <th>f_1</th>\n",
              "      <th>f_2</th>\n",
              "      <th>f_3</th>\n",
              "      <th>f_4</th>\n",
              "      <th>f_5</th>\n",
              "      <th>f_6</th>\n",
              "      <th>f_7</th>\n",
              "      <th>f_8</th>\n",
              "      <th>f_9</th>\n",
              "      <th>f_10</th>\n",
              "      <th>f_11</th>\n",
              "      <th>f_12</th>\n",
              "      <th>f_13</th>\n",
              "      <th>f_14</th>\n",
              "      <th>f_15</th>\n",
              "      <th>f_16</th>\n",
              "      <th>f_17</th>\n",
              "      <th>f_18</th>\n",
              "      <th>f_19</th>\n",
              "      <th>f_20</th>\n",
              "      <th>f_21</th>\n",
              "      <th>f_22</th>\n",
              "      <th>f_23</th>\n",
              "      <th>f_24</th>\n",
              "      <th>f_25</th>\n",
              "      <th>f_26</th>\n",
              "      <th>f_27</th>\n",
              "      <th>f_28</th>\n",
              "      <th>f_29</th>\n",
              "      <th>f_30</th>\n",
              "      <th>f_31</th>\n",
              "      <th>f_32</th>\n",
              "      <th>f_33</th>\n",
              "      <th>f_34</th>\n",
              "      <th>f_35</th>\n",
              "      <th>f_36</th>\n",
              "      <th>f_37</th>\n",
              "      <th>f_38</th>\n",
              "      <th>f_39</th>\n",
              "      <th>...</th>\n",
              "      <th>f_62</th>\n",
              "      <th>f_63</th>\n",
              "      <th>f_64</th>\n",
              "      <th>f_65</th>\n",
              "      <th>f_66</th>\n",
              "      <th>f_67</th>\n",
              "      <th>f_68</th>\n",
              "      <th>f_69</th>\n",
              "      <th>f_70</th>\n",
              "      <th>f_71</th>\n",
              "      <th>f_72</th>\n",
              "      <th>f_73</th>\n",
              "      <th>f_74</th>\n",
              "      <th>f_75</th>\n",
              "      <th>f_76</th>\n",
              "      <th>f_77</th>\n",
              "      <th>f_78</th>\n",
              "      <th>f_79</th>\n",
              "      <th>f_80</th>\n",
              "      <th>f_81</th>\n",
              "      <th>f_82</th>\n",
              "      <th>f_83</th>\n",
              "      <th>f_84</th>\n",
              "      <th>f_85</th>\n",
              "      <th>f_86</th>\n",
              "      <th>f_87</th>\n",
              "      <th>f_88</th>\n",
              "      <th>f_89</th>\n",
              "      <th>f_90</th>\n",
              "      <th>f_91</th>\n",
              "      <th>f_92</th>\n",
              "      <th>f_93</th>\n",
              "      <th>f_94</th>\n",
              "      <th>f_95</th>\n",
              "      <th>f_96</th>\n",
              "      <th>f_97</th>\n",
              "      <th>f_98</th>\n",
              "      <th>f_99</th>\n",
              "      <th>f_100</th>\n",
              "      <th>target</th>\n",
              "    </tr>\n",
              "  </thead>\n",
              "  <tbody>\n",
              "    <tr>\n",
              "      <th>0</th>\n",
              "      <td>3.427140</td>\n",
              "      <td>-0.058386</td>\n",
              "      <td>0.573730</td>\n",
              "      <td>0.924850</td>\n",
              "      <td>2.837478</td>\n",
              "      <td>-0.606550</td>\n",
              "      <td>1.827095</td>\n",
              "      <td>0.291231</td>\n",
              "      <td>2.215053</td>\n",
              "      <td>1.587450</td>\n",
              "      <td>-1.102045</td>\n",
              "      <td>0.790599</td>\n",
              "      <td>-0.071413</td>\n",
              "      <td>0.670202</td>\n",
              "      <td>-0.146027</td>\n",
              "      <td>-0.710657</td>\n",
              "      <td>1.264826</td>\n",
              "      <td>0.264290</td>\n",
              "      <td>0.016858</td>\n",
              "      <td>-0.279404</td>\n",
              "      <td>-0.539760</td>\n",
              "      <td>-0.118703</td>\n",
              "      <td>-0.188340</td>\n",
              "      <td>0.684100</td>\n",
              "      <td>-0.737629</td>\n",
              "      <td>0.715157</td>\n",
              "      <td>1.461586</td>\n",
              "      <td>0.493625</td>\n",
              "      <td>1.532730</td>\n",
              "      <td>0.217573</td>\n",
              "      <td>-0.101923</td>\n",
              "      <td>-0.533102</td>\n",
              "      <td>-1.043359</td>\n",
              "      <td>0.906228</td>\n",
              "      <td>-0.405714</td>\n",
              "      <td>-0.064734</td>\n",
              "      <td>0.487397</td>\n",
              "      <td>0.064588</td>\n",
              "      <td>0.073327</td>\n",
              "      <td>-0.848745</td>\n",
              "      <td>...</td>\n",
              "      <td>1.354783</td>\n",
              "      <td>-0.325103</td>\n",
              "      <td>-1.133120</td>\n",
              "      <td>2.322587</td>\n",
              "      <td>-0.732590</td>\n",
              "      <td>0.221558</td>\n",
              "      <td>0.011778</td>\n",
              "      <td>1.174586</td>\n",
              "      <td>-0.047695</td>\n",
              "      <td>1.535092</td>\n",
              "      <td>-1.038007</td>\n",
              "      <td>-1.326292</td>\n",
              "      <td>0.514452</td>\n",
              "      <td>-1.768268</td>\n",
              "      <td>1.227913</td>\n",
              "      <td>-0.103323</td>\n",
              "      <td>0.433617</td>\n",
              "      <td>0.525257</td>\n",
              "      <td>0.833751</td>\n",
              "      <td>-0.743972</td>\n",
              "      <td>-1.074724</td>\n",
              "      <td>1.585037</td>\n",
              "      <td>-0.507791</td>\n",
              "      <td>-0.412714</td>\n",
              "      <td>-0.210535</td>\n",
              "      <td>1.182693</td>\n",
              "      <td>0.253140</td>\n",
              "      <td>-0.064761</td>\n",
              "      <td>-1.644190</td>\n",
              "      <td>-0.228657</td>\n",
              "      <td>-1.064400</td>\n",
              "      <td>1.572857</td>\n",
              "      <td>0.829900</td>\n",
              "      <td>1.004410</td>\n",
              "      <td>0.328453</td>\n",
              "      <td>0.812224</td>\n",
              "      <td>1.098635</td>\n",
              "      <td>0.666274</td>\n",
              "      <td>NaN</td>\n",
              "      <td>11</td>\n",
              "    </tr>\n",
              "    <tr>\n",
              "      <th>1</th>\n",
              "      <td>0.511507</td>\n",
              "      <td>1.491514</td>\n",
              "      <td>1.455051</td>\n",
              "      <td>0.136514</td>\n",
              "      <td>-0.757213</td>\n",
              "      <td>1.645679</td>\n",
              "      <td>1.137499</td>\n",
              "      <td>0.174703</td>\n",
              "      <td>-1.787171</td>\n",
              "      <td>1.442409</td>\n",
              "      <td>-1.337627</td>\n",
              "      <td>1.505784</td>\n",
              "      <td>0.385729</td>\n",
              "      <td>1.848304</td>\n",
              "      <td>-0.074210</td>\n",
              "      <td>1.071455</td>\n",
              "      <td>-0.937630</td>\n",
              "      <td>-0.176939</td>\n",
              "      <td>-1.705226</td>\n",
              "      <td>-0.994082</td>\n",
              "      <td>0.769266</td>\n",
              "      <td>0.145689</td>\n",
              "      <td>0.599521</td>\n",
              "      <td>1.653386</td>\n",
              "      <td>0.136767</td>\n",
              "      <td>-0.133043</td>\n",
              "      <td>-0.195754</td>\n",
              "      <td>0.577463</td>\n",
              "      <td>-2.052647</td>\n",
              "      <td>1.521274</td>\n",
              "      <td>0.261802</td>\n",
              "      <td>-0.457692</td>\n",
              "      <td>1.200544</td>\n",
              "      <td>-0.120438</td>\n",
              "      <td>0.994668</td>\n",
              "      <td>1.560244</td>\n",
              "      <td>0.351599</td>\n",
              "      <td>0.504281</td>\n",
              "      <td>0.016481</td>\n",
              "      <td>0.606233</td>\n",
              "      <td>...</td>\n",
              "      <td>0.808171</td>\n",
              "      <td>0.442858</td>\n",
              "      <td>-0.168099</td>\n",
              "      <td>-0.886581</td>\n",
              "      <td>-0.209051</td>\n",
              "      <td>-0.025853</td>\n",
              "      <td>2.231726</td>\n",
              "      <td>-1.356424</td>\n",
              "      <td>-0.811864</td>\n",
              "      <td>-0.150208</td>\n",
              "      <td>-1.219987</td>\n",
              "      <td>-0.805827</td>\n",
              "      <td>0.623110</td>\n",
              "      <td>0.210219</td>\n",
              "      <td>-2.375857</td>\n",
              "      <td>-0.824674</td>\n",
              "      <td>1.500126</td>\n",
              "      <td>0.832109</td>\n",
              "      <td>0.451580</td>\n",
              "      <td>0.664706</td>\n",
              "      <td>2.117675</td>\n",
              "      <td>0.352894</td>\n",
              "      <td>0.613456</td>\n",
              "      <td>0.169044</td>\n",
              "      <td>-0.164271</td>\n",
              "      <td>0.866482</td>\n",
              "      <td>-0.372679</td>\n",
              "      <td>-0.107592</td>\n",
              "      <td>-0.447446</td>\n",
              "      <td>1.501064</td>\n",
              "      <td>0.477313</td>\n",
              "      <td>1.094504</td>\n",
              "      <td>-0.928369</td>\n",
              "      <td>-0.966895</td>\n",
              "      <td>-2.367376</td>\n",
              "      <td>1.239677</td>\n",
              "      <td>-0.077899</td>\n",
              "      <td>-0.530364</td>\n",
              "      <td>NaN</td>\n",
              "      <td>7</td>\n",
              "    </tr>\n",
              "    <tr>\n",
              "      <th>2</th>\n",
              "      <td>0.129024</td>\n",
              "      <td>1.482344</td>\n",
              "      <td>0.092512</td>\n",
              "      <td>1.258591</td>\n",
              "      <td>-1.306915</td>\n",
              "      <td>0.628852</td>\n",
              "      <td>-1.736577</td>\n",
              "      <td>0.975412</td>\n",
              "      <td>2.076713</td>\n",
              "      <td>0.368951</td>\n",
              "      <td>-0.972697</td>\n",
              "      <td>-1.188561</td>\n",
              "      <td>0.765513</td>\n",
              "      <td>-0.666861</td>\n",
              "      <td>-0.302302</td>\n",
              "      <td>0.105207</td>\n",
              "      <td>-0.396959</td>\n",
              "      <td>0.105569</td>\n",
              "      <td>-2.037459</td>\n",
              "      <td>0.157979</td>\n",
              "      <td>1.053518</td>\n",
              "      <td>1.458879</td>\n",
              "      <td>0.699634</td>\n",
              "      <td>1.108376</td>\n",
              "      <td>-0.089389</td>\n",
              "      <td>1.408961</td>\n",
              "      <td>-2.415282</td>\n",
              "      <td>-1.235876</td>\n",
              "      <td>-0.530694</td>\n",
              "      <td>0.851820</td>\n",
              "      <td>1.473003</td>\n",
              "      <td>-0.329193</td>\n",
              "      <td>0.746447</td>\n",
              "      <td>2.148383</td>\n",
              "      <td>-0.948033</td>\n",
              "      <td>0.577120</td>\n",
              "      <td>-0.726919</td>\n",
              "      <td>-0.150675</td>\n",
              "      <td>0.391319</td>\n",
              "      <td>-1.049272</td>\n",
              "      <td>...</td>\n",
              "      <td>1.401694</td>\n",
              "      <td>0.255775</td>\n",
              "      <td>-0.371829</td>\n",
              "      <td>-0.254528</td>\n",
              "      <td>-2.493886</td>\n",
              "      <td>-0.461646</td>\n",
              "      <td>-0.838257</td>\n",
              "      <td>0.784523</td>\n",
              "      <td>-0.352398</td>\n",
              "      <td>0.559040</td>\n",
              "      <td>0.320416</td>\n",
              "      <td>0.138338</td>\n",
              "      <td>0.083847</td>\n",
              "      <td>0.334928</td>\n",
              "      <td>-0.579644</td>\n",
              "      <td>-0.565759</td>\n",
              "      <td>0.507590</td>\n",
              "      <td>1.025547</td>\n",
              "      <td>-0.932089</td>\n",
              "      <td>0.103927</td>\n",
              "      <td>-0.122604</td>\n",
              "      <td>1.103405</td>\n",
              "      <td>0.223923</td>\n",
              "      <td>1.406551</td>\n",
              "      <td>1.414811</td>\n",
              "      <td>0.008249</td>\n",
              "      <td>-0.758998</td>\n",
              "      <td>-0.464813</td>\n",
              "      <td>1.193797</td>\n",
              "      <td>0.429189</td>\n",
              "      <td>-1.144918</td>\n",
              "      <td>-0.441812</td>\n",
              "      <td>-0.827083</td>\n",
              "      <td>0.570306</td>\n",
              "      <td>2.157316</td>\n",
              "      <td>-1.066348</td>\n",
              "      <td>0.678995</td>\n",
              "      <td>0.713780</td>\n",
              "      <td>NaN</td>\n",
              "      <td>7</td>\n",
              "    </tr>\n",
              "    <tr>\n",
              "      <th>3</th>\n",
              "      <td>1.009932</td>\n",
              "      <td>1.426511</td>\n",
              "      <td>0.533161</td>\n",
              "      <td>1.327355</td>\n",
              "      <td>0.276059</td>\n",
              "      <td>1.233156</td>\n",
              "      <td>-1.107496</td>\n",
              "      <td>-1.011879</td>\n",
              "      <td>-0.308639</td>\n",
              "      <td>-0.340353</td>\n",
              "      <td>0.444250</td>\n",
              "      <td>-0.089498</td>\n",
              "      <td>0.027695</td>\n",
              "      <td>-0.501742</td>\n",
              "      <td>-0.849186</td>\n",
              "      <td>1.337443</td>\n",
              "      <td>-0.035191</td>\n",
              "      <td>0.264761</td>\n",
              "      <td>-0.432341</td>\n",
              "      <td>-0.041687</td>\n",
              "      <td>-0.694119</td>\n",
              "      <td>0.819538</td>\n",
              "      <td>-0.788828</td>\n",
              "      <td>0.612142</td>\n",
              "      <td>-0.799574</td>\n",
              "      <td>0.443360</td>\n",
              "      <td>-0.346320</td>\n",
              "      <td>1.596719</td>\n",
              "      <td>-0.547945</td>\n",
              "      <td>0.931190</td>\n",
              "      <td>-0.409152</td>\n",
              "      <td>-1.657818</td>\n",
              "      <td>0.736343</td>\n",
              "      <td>1.023905</td>\n",
              "      <td>0.304113</td>\n",
              "      <td>-0.774623</td>\n",
              "      <td>1.398780</td>\n",
              "      <td>0.133566</td>\n",
              "      <td>0.767382</td>\n",
              "      <td>0.719431</td>\n",
              "      <td>...</td>\n",
              "      <td>0.338358</td>\n",
              "      <td>-0.113819</td>\n",
              "      <td>-0.154703</td>\n",
              "      <td>0.196933</td>\n",
              "      <td>-1.245936</td>\n",
              "      <td>-0.329525</td>\n",
              "      <td>0.579998</td>\n",
              "      <td>-2.301648</td>\n",
              "      <td>-0.713253</td>\n",
              "      <td>0.086801</td>\n",
              "      <td>-0.005958</td>\n",
              "      <td>-0.237293</td>\n",
              "      <td>-1.181239</td>\n",
              "      <td>-0.497225</td>\n",
              "      <td>-0.029424</td>\n",
              "      <td>-1.932044</td>\n",
              "      <td>1.147825</td>\n",
              "      <td>0.624889</td>\n",
              "      <td>-1.090197</td>\n",
              "      <td>-1.199216</td>\n",
              "      <td>0.483607</td>\n",
              "      <td>-0.028733</td>\n",
              "      <td>-1.438766</td>\n",
              "      <td>-0.629153</td>\n",
              "      <td>-1.018223</td>\n",
              "      <td>-0.928157</td>\n",
              "      <td>2.171263</td>\n",
              "      <td>0.781784</td>\n",
              "      <td>0.959521</td>\n",
              "      <td>0.638128</td>\n",
              "      <td>-0.874020</td>\n",
              "      <td>-0.108358</td>\n",
              "      <td>-1.371773</td>\n",
              "      <td>0.122406</td>\n",
              "      <td>0.292056</td>\n",
              "      <td>-0.086526</td>\n",
              "      <td>-0.913214</td>\n",
              "      <td>1.288252</td>\n",
              "      <td>NaN</td>\n",
              "      <td>7</td>\n",
              "    </tr>\n",
              "    <tr>\n",
              "      <th>4</th>\n",
              "      <td>1.420614</td>\n",
              "      <td>0.523313</td>\n",
              "      <td>0.577140</td>\n",
              "      <td>0.040502</td>\n",
              "      <td>0.750543</td>\n",
              "      <td>0.373597</td>\n",
              "      <td>-1.553173</td>\n",
              "      <td>1.150413</td>\n",
              "      <td>0.971986</td>\n",
              "      <td>0.260147</td>\n",
              "      <td>0.705644</td>\n",
              "      <td>-1.270386</td>\n",
              "      <td>-0.957543</td>\n",
              "      <td>-0.165792</td>\n",
              "      <td>-0.256886</td>\n",
              "      <td>-1.310415</td>\n",
              "      <td>0.428018</td>\n",
              "      <td>1.430143</td>\n",
              "      <td>0.818623</td>\n",
              "      <td>-2.265353</td>\n",
              "      <td>-0.907685</td>\n",
              "      <td>-0.528372</td>\n",
              "      <td>-0.115757</td>\n",
              "      <td>-0.153313</td>\n",
              "      <td>0.020648</td>\n",
              "      <td>-0.966260</td>\n",
              "      <td>0.795436</td>\n",
              "      <td>-0.512626</td>\n",
              "      <td>1.466519</td>\n",
              "      <td>0.681619</td>\n",
              "      <td>-0.796289</td>\n",
              "      <td>-0.911928</td>\n",
              "      <td>-0.792245</td>\n",
              "      <td>-0.745700</td>\n",
              "      <td>-0.648822</td>\n",
              "      <td>0.544192</td>\n",
              "      <td>-0.539153</td>\n",
              "      <td>-0.228427</td>\n",
              "      <td>0.326308</td>\n",
              "      <td>-1.890709</td>\n",
              "      <td>...</td>\n",
              "      <td>-0.681827</td>\n",
              "      <td>-0.835061</td>\n",
              "      <td>-0.797774</td>\n",
              "      <td>-1.291821</td>\n",
              "      <td>0.532211</td>\n",
              "      <td>-1.469674</td>\n",
              "      <td>0.358811</td>\n",
              "      <td>-0.589577</td>\n",
              "      <td>0.841814</td>\n",
              "      <td>0.826837</td>\n",
              "      <td>-2.180271</td>\n",
              "      <td>-0.168496</td>\n",
              "      <td>0.737104</td>\n",
              "      <td>-0.936968</td>\n",
              "      <td>-1.110019</td>\n",
              "      <td>0.440996</td>\n",
              "      <td>-0.113077</td>\n",
              "      <td>0.888099</td>\n",
              "      <td>0.107871</td>\n",
              "      <td>0.857790</td>\n",
              "      <td>0.600746</td>\n",
              "      <td>-1.392102</td>\n",
              "      <td>0.836484</td>\n",
              "      <td>0.029829</td>\n",
              "      <td>0.686387</td>\n",
              "      <td>-0.374098</td>\n",
              "      <td>0.610490</td>\n",
              "      <td>1.580114</td>\n",
              "      <td>1.058438</td>\n",
              "      <td>0.646334</td>\n",
              "      <td>-0.866164</td>\n",
              "      <td>0.183334</td>\n",
              "      <td>0.378103</td>\n",
              "      <td>-1.166917</td>\n",
              "      <td>-0.795085</td>\n",
              "      <td>-0.377412</td>\n",
              "      <td>1.692218</td>\n",
              "      <td>0.142986</td>\n",
              "      <td>NaN</td>\n",
              "      <td>5</td>\n",
              "    </tr>\n",
              "  </tbody>\n",
              "</table>\n",
              "<p>5 rows × 102 columns</p>\n",
              "</div>"
            ],
            "text/plain": [
              "        f_0       f_1       f_2       f_3  ...      f_98      f_99  f_100  target\n",
              "0  3.427140 -0.058386  0.573730  0.924850  ...  1.098635  0.666274    NaN      11\n",
              "1  0.511507  1.491514  1.455051  0.136514  ... -0.077899 -0.530364    NaN       7\n",
              "2  0.129024  1.482344  0.092512  1.258591  ...  0.678995  0.713780    NaN       7\n",
              "3  1.009932  1.426511  0.533161  1.327355  ... -0.913214  1.288252    NaN       7\n",
              "4  1.420614  0.523313  0.577140  0.040502  ...  1.692218  0.142986    NaN       5\n",
              "\n",
              "[5 rows x 102 columns]"
            ]
          },
          "metadata": {
            "tags": []
          },
          "execution_count": 50
        }
      ]
    },
    {
      "cell_type": "markdown",
      "metadata": {
        "id": "WDmN5ukBIEs3"
      },
      "source": [
        "#### Criando os folds"
      ]
    },
    {
      "cell_type": "code",
      "metadata": {
        "id": "pFy6yMIGFfGv"
      },
      "source": [
        "import pandas as pd\n",
        "import numpy as np\n",
        "from sklearn import model_selection"
      ],
      "execution_count": 41,
      "outputs": []
    },
    {
      "cell_type": "markdown",
      "metadata": {
        "id": "k-Q6PLkwJ7Kh"
      },
      "source": [
        "Da mesma forma que nos exemplos anteriores, vamos criar uma coluna `s_kfold` e inicia-la com o valor -1"
      ]
    },
    {
      "cell_type": "code",
      "metadata": {
        "id": "b1dVQvZ1IVy_"
      },
      "source": [
        "df['s_kfold'] = -1"
      ],
      "execution_count": 42,
      "outputs": []
    },
    {
      "cell_type": "markdown",
      "metadata": {
        "id": "635zjTKALuKF"
      },
      "source": [
        "##### Calculando e separando os bins"
      ]
    },
    {
      "cell_type": "markdown",
      "metadata": {
        "id": "fhhEFImQKEKl"
      },
      "source": [
        "Usando a fórmula geral para calcular o número apropriado de bins"
      ]
    },
    {
      "cell_type": "code",
      "metadata": {
        "colab": {
          "base_uri": "https://localhost:8080/"
        },
        "id": "NAldb5QFIfaq",
        "outputId": "c9d7a724-371d-4371-a5c7-35a4fde9d421"
      },
      "source": [
        "num_bins = np.floor(1 + np.log2(len(df)))\n",
        "\n",
        "num_bins"
      ],
      "execution_count": 43,
      "outputs": [
        {
          "output_type": "execute_result",
          "data": {
            "text/plain": [
              "14.0"
            ]
          },
          "metadata": {
            "tags": []
          },
          "execution_count": 43
        }
      ]
    },
    {
      "cell_type": "markdown",
      "metadata": {
        "id": "Vp1v97EeKLiT"
      },
      "source": [
        "Redefinindo o DataFrame com a separação por bins usando o método `cut()`"
      ]
    },
    {
      "cell_type": "code",
      "metadata": {
        "colab": {
          "base_uri": "https://localhost:8080/",
          "height": 439
        },
        "id": "qNVFPnpzI4wn",
        "outputId": "ce59e517-b864-4ab2-98c8-408c7801cc42"
      },
      "source": [
        "# Ao usar labels=False o metodo cut devolve um inteiro que representa cada classe\n",
        "# Caso não fosse passado nada, os valores seriam os intervalos que se encontram aquela entrada\n",
        "df['classe'] = pd.cut(df.target, bins=int(num_bins), labels=False)\n",
        "\n",
        "df.head()"
      ],
      "execution_count": 44,
      "outputs": [
        {
          "output_type": "execute_result",
          "data": {
            "text/html": [
              "<div>\n",
              "<style scoped>\n",
              "    .dataframe tbody tr th:only-of-type {\n",
              "        vertical-align: middle;\n",
              "    }\n",
              "\n",
              "    .dataframe tbody tr th {\n",
              "        vertical-align: top;\n",
              "    }\n",
              "\n",
              "    .dataframe thead th {\n",
              "        text-align: right;\n",
              "    }\n",
              "</style>\n",
              "<table border=\"1\" class=\"dataframe\">\n",
              "  <thead>\n",
              "    <tr style=\"text-align: right;\">\n",
              "      <th></th>\n",
              "      <th>f_0</th>\n",
              "      <th>f_1</th>\n",
              "      <th>f_2</th>\n",
              "      <th>f_3</th>\n",
              "      <th>f_4</th>\n",
              "      <th>f_5</th>\n",
              "      <th>f_6</th>\n",
              "      <th>f_7</th>\n",
              "      <th>f_8</th>\n",
              "      <th>f_9</th>\n",
              "      <th>f_10</th>\n",
              "      <th>f_11</th>\n",
              "      <th>f_12</th>\n",
              "      <th>f_13</th>\n",
              "      <th>f_14</th>\n",
              "      <th>f_15</th>\n",
              "      <th>f_16</th>\n",
              "      <th>f_17</th>\n",
              "      <th>f_18</th>\n",
              "      <th>f_19</th>\n",
              "      <th>f_20</th>\n",
              "      <th>f_21</th>\n",
              "      <th>f_22</th>\n",
              "      <th>f_23</th>\n",
              "      <th>f_24</th>\n",
              "      <th>f_25</th>\n",
              "      <th>f_26</th>\n",
              "      <th>f_27</th>\n",
              "      <th>f_28</th>\n",
              "      <th>f_29</th>\n",
              "      <th>f_30</th>\n",
              "      <th>f_31</th>\n",
              "      <th>f_32</th>\n",
              "      <th>f_33</th>\n",
              "      <th>f_34</th>\n",
              "      <th>f_35</th>\n",
              "      <th>f_36</th>\n",
              "      <th>f_37</th>\n",
              "      <th>f_38</th>\n",
              "      <th>f_39</th>\n",
              "      <th>...</th>\n",
              "      <th>f_63</th>\n",
              "      <th>f_64</th>\n",
              "      <th>f_65</th>\n",
              "      <th>f_66</th>\n",
              "      <th>f_67</th>\n",
              "      <th>f_68</th>\n",
              "      <th>f_69</th>\n",
              "      <th>f_70</th>\n",
              "      <th>f_71</th>\n",
              "      <th>f_72</th>\n",
              "      <th>f_73</th>\n",
              "      <th>f_74</th>\n",
              "      <th>f_75</th>\n",
              "      <th>f_76</th>\n",
              "      <th>f_77</th>\n",
              "      <th>f_78</th>\n",
              "      <th>f_79</th>\n",
              "      <th>f_80</th>\n",
              "      <th>f_81</th>\n",
              "      <th>f_82</th>\n",
              "      <th>f_83</th>\n",
              "      <th>f_84</th>\n",
              "      <th>f_85</th>\n",
              "      <th>f_86</th>\n",
              "      <th>f_87</th>\n",
              "      <th>f_88</th>\n",
              "      <th>f_89</th>\n",
              "      <th>f_90</th>\n",
              "      <th>f_91</th>\n",
              "      <th>f_92</th>\n",
              "      <th>f_93</th>\n",
              "      <th>f_94</th>\n",
              "      <th>f_95</th>\n",
              "      <th>f_96</th>\n",
              "      <th>f_97</th>\n",
              "      <th>f_98</th>\n",
              "      <th>f_99</th>\n",
              "      <th>target</th>\n",
              "      <th>s_kfold</th>\n",
              "      <th>classe</th>\n",
              "    </tr>\n",
              "  </thead>\n",
              "  <tbody>\n",
              "    <tr>\n",
              "      <th>0</th>\n",
              "      <td>3.427140</td>\n",
              "      <td>-0.058386</td>\n",
              "      <td>0.573730</td>\n",
              "      <td>0.924850</td>\n",
              "      <td>2.837478</td>\n",
              "      <td>-0.606550</td>\n",
              "      <td>1.827095</td>\n",
              "      <td>0.291231</td>\n",
              "      <td>2.215053</td>\n",
              "      <td>1.587450</td>\n",
              "      <td>-1.102045</td>\n",
              "      <td>0.790599</td>\n",
              "      <td>-0.071413</td>\n",
              "      <td>0.670202</td>\n",
              "      <td>-0.146027</td>\n",
              "      <td>-0.710657</td>\n",
              "      <td>1.264826</td>\n",
              "      <td>0.264290</td>\n",
              "      <td>0.016858</td>\n",
              "      <td>-0.279404</td>\n",
              "      <td>-0.539760</td>\n",
              "      <td>-0.118703</td>\n",
              "      <td>-0.188340</td>\n",
              "      <td>0.684100</td>\n",
              "      <td>-0.737629</td>\n",
              "      <td>0.715157</td>\n",
              "      <td>1.461586</td>\n",
              "      <td>0.493625</td>\n",
              "      <td>1.532730</td>\n",
              "      <td>0.217573</td>\n",
              "      <td>-0.101923</td>\n",
              "      <td>-0.533102</td>\n",
              "      <td>-1.043359</td>\n",
              "      <td>0.906228</td>\n",
              "      <td>-0.405714</td>\n",
              "      <td>-0.064734</td>\n",
              "      <td>0.487397</td>\n",
              "      <td>0.064588</td>\n",
              "      <td>0.073327</td>\n",
              "      <td>-0.848745</td>\n",
              "      <td>...</td>\n",
              "      <td>-0.325103</td>\n",
              "      <td>-1.133120</td>\n",
              "      <td>2.322587</td>\n",
              "      <td>-0.732590</td>\n",
              "      <td>0.221558</td>\n",
              "      <td>0.011778</td>\n",
              "      <td>1.174586</td>\n",
              "      <td>-0.047695</td>\n",
              "      <td>1.535092</td>\n",
              "      <td>-1.038007</td>\n",
              "      <td>-1.326292</td>\n",
              "      <td>0.514452</td>\n",
              "      <td>-1.768268</td>\n",
              "      <td>1.227913</td>\n",
              "      <td>-0.103323</td>\n",
              "      <td>0.433617</td>\n",
              "      <td>0.525257</td>\n",
              "      <td>0.833751</td>\n",
              "      <td>-0.743972</td>\n",
              "      <td>-1.074724</td>\n",
              "      <td>1.585037</td>\n",
              "      <td>-0.507791</td>\n",
              "      <td>-0.412714</td>\n",
              "      <td>-0.210535</td>\n",
              "      <td>1.182693</td>\n",
              "      <td>0.253140</td>\n",
              "      <td>-0.064761</td>\n",
              "      <td>-1.644190</td>\n",
              "      <td>-0.228657</td>\n",
              "      <td>-1.064400</td>\n",
              "      <td>1.572857</td>\n",
              "      <td>0.829900</td>\n",
              "      <td>1.004410</td>\n",
              "      <td>0.328453</td>\n",
              "      <td>0.812224</td>\n",
              "      <td>1.098635</td>\n",
              "      <td>0.666274</td>\n",
              "      <td>460.260003</td>\n",
              "      <td>-1</td>\n",
              "      <td>11</td>\n",
              "    </tr>\n",
              "    <tr>\n",
              "      <th>1</th>\n",
              "      <td>0.511507</td>\n",
              "      <td>1.491514</td>\n",
              "      <td>1.455051</td>\n",
              "      <td>0.136514</td>\n",
              "      <td>-0.757213</td>\n",
              "      <td>1.645679</td>\n",
              "      <td>1.137499</td>\n",
              "      <td>0.174703</td>\n",
              "      <td>-1.787171</td>\n",
              "      <td>1.442409</td>\n",
              "      <td>-1.337627</td>\n",
              "      <td>1.505784</td>\n",
              "      <td>0.385729</td>\n",
              "      <td>1.848304</td>\n",
              "      <td>-0.074210</td>\n",
              "      <td>1.071455</td>\n",
              "      <td>-0.937630</td>\n",
              "      <td>-0.176939</td>\n",
              "      <td>-1.705226</td>\n",
              "      <td>-0.994082</td>\n",
              "      <td>0.769266</td>\n",
              "      <td>0.145689</td>\n",
              "      <td>0.599521</td>\n",
              "      <td>1.653386</td>\n",
              "      <td>0.136767</td>\n",
              "      <td>-0.133043</td>\n",
              "      <td>-0.195754</td>\n",
              "      <td>0.577463</td>\n",
              "      <td>-2.052647</td>\n",
              "      <td>1.521274</td>\n",
              "      <td>0.261802</td>\n",
              "      <td>-0.457692</td>\n",
              "      <td>1.200544</td>\n",
              "      <td>-0.120438</td>\n",
              "      <td>0.994668</td>\n",
              "      <td>1.560244</td>\n",
              "      <td>0.351599</td>\n",
              "      <td>0.504281</td>\n",
              "      <td>0.016481</td>\n",
              "      <td>0.606233</td>\n",
              "      <td>...</td>\n",
              "      <td>0.442858</td>\n",
              "      <td>-0.168099</td>\n",
              "      <td>-0.886581</td>\n",
              "      <td>-0.209051</td>\n",
              "      <td>-0.025853</td>\n",
              "      <td>2.231726</td>\n",
              "      <td>-1.356424</td>\n",
              "      <td>-0.811864</td>\n",
              "      <td>-0.150208</td>\n",
              "      <td>-1.219987</td>\n",
              "      <td>-0.805827</td>\n",
              "      <td>0.623110</td>\n",
              "      <td>0.210219</td>\n",
              "      <td>-2.375857</td>\n",
              "      <td>-0.824674</td>\n",
              "      <td>1.500126</td>\n",
              "      <td>0.832109</td>\n",
              "      <td>0.451580</td>\n",
              "      <td>0.664706</td>\n",
              "      <td>2.117675</td>\n",
              "      <td>0.352894</td>\n",
              "      <td>0.613456</td>\n",
              "      <td>0.169044</td>\n",
              "      <td>-0.164271</td>\n",
              "      <td>0.866482</td>\n",
              "      <td>-0.372679</td>\n",
              "      <td>-0.107592</td>\n",
              "      <td>-0.447446</td>\n",
              "      <td>1.501064</td>\n",
              "      <td>0.477313</td>\n",
              "      <td>1.094504</td>\n",
              "      <td>-0.928369</td>\n",
              "      <td>-0.966895</td>\n",
              "      <td>-2.367376</td>\n",
              "      <td>1.239677</td>\n",
              "      <td>-0.077899</td>\n",
              "      <td>-0.530364</td>\n",
              "      <td>-34.442859</td>\n",
              "      <td>-1</td>\n",
              "      <td>7</td>\n",
              "    </tr>\n",
              "    <tr>\n",
              "      <th>2</th>\n",
              "      <td>0.129024</td>\n",
              "      <td>1.482344</td>\n",
              "      <td>0.092512</td>\n",
              "      <td>1.258591</td>\n",
              "      <td>-1.306915</td>\n",
              "      <td>0.628852</td>\n",
              "      <td>-1.736577</td>\n",
              "      <td>0.975412</td>\n",
              "      <td>2.076713</td>\n",
              "      <td>0.368951</td>\n",
              "      <td>-0.972697</td>\n",
              "      <td>-1.188561</td>\n",
              "      <td>0.765513</td>\n",
              "      <td>-0.666861</td>\n",
              "      <td>-0.302302</td>\n",
              "      <td>0.105207</td>\n",
              "      <td>-0.396959</td>\n",
              "      <td>0.105569</td>\n",
              "      <td>-2.037459</td>\n",
              "      <td>0.157979</td>\n",
              "      <td>1.053518</td>\n",
              "      <td>1.458879</td>\n",
              "      <td>0.699634</td>\n",
              "      <td>1.108376</td>\n",
              "      <td>-0.089389</td>\n",
              "      <td>1.408961</td>\n",
              "      <td>-2.415282</td>\n",
              "      <td>-1.235876</td>\n",
              "      <td>-0.530694</td>\n",
              "      <td>0.851820</td>\n",
              "      <td>1.473003</td>\n",
              "      <td>-0.329193</td>\n",
              "      <td>0.746447</td>\n",
              "      <td>2.148383</td>\n",
              "      <td>-0.948033</td>\n",
              "      <td>0.577120</td>\n",
              "      <td>-0.726919</td>\n",
              "      <td>-0.150675</td>\n",
              "      <td>0.391319</td>\n",
              "      <td>-1.049272</td>\n",
              "      <td>...</td>\n",
              "      <td>0.255775</td>\n",
              "      <td>-0.371829</td>\n",
              "      <td>-0.254528</td>\n",
              "      <td>-2.493886</td>\n",
              "      <td>-0.461646</td>\n",
              "      <td>-0.838257</td>\n",
              "      <td>0.784523</td>\n",
              "      <td>-0.352398</td>\n",
              "      <td>0.559040</td>\n",
              "      <td>0.320416</td>\n",
              "      <td>0.138338</td>\n",
              "      <td>0.083847</td>\n",
              "      <td>0.334928</td>\n",
              "      <td>-0.579644</td>\n",
              "      <td>-0.565759</td>\n",
              "      <td>0.507590</td>\n",
              "      <td>1.025547</td>\n",
              "      <td>-0.932089</td>\n",
              "      <td>0.103927</td>\n",
              "      <td>-0.122604</td>\n",
              "      <td>1.103405</td>\n",
              "      <td>0.223923</td>\n",
              "      <td>1.406551</td>\n",
              "      <td>1.414811</td>\n",
              "      <td>0.008249</td>\n",
              "      <td>-0.758998</td>\n",
              "      <td>-0.464813</td>\n",
              "      <td>1.193797</td>\n",
              "      <td>0.429189</td>\n",
              "      <td>-1.144918</td>\n",
              "      <td>-0.441812</td>\n",
              "      <td>-0.827083</td>\n",
              "      <td>0.570306</td>\n",
              "      <td>2.157316</td>\n",
              "      <td>-1.066348</td>\n",
              "      <td>0.678995</td>\n",
              "      <td>0.713780</td>\n",
              "      <td>-12.329633</td>\n",
              "      <td>-1</td>\n",
              "      <td>7</td>\n",
              "    </tr>\n",
              "    <tr>\n",
              "      <th>3</th>\n",
              "      <td>1.009932</td>\n",
              "      <td>1.426511</td>\n",
              "      <td>0.533161</td>\n",
              "      <td>1.327355</td>\n",
              "      <td>0.276059</td>\n",
              "      <td>1.233156</td>\n",
              "      <td>-1.107496</td>\n",
              "      <td>-1.011879</td>\n",
              "      <td>-0.308639</td>\n",
              "      <td>-0.340353</td>\n",
              "      <td>0.444250</td>\n",
              "      <td>-0.089498</td>\n",
              "      <td>0.027695</td>\n",
              "      <td>-0.501742</td>\n",
              "      <td>-0.849186</td>\n",
              "      <td>1.337443</td>\n",
              "      <td>-0.035191</td>\n",
              "      <td>0.264761</td>\n",
              "      <td>-0.432341</td>\n",
              "      <td>-0.041687</td>\n",
              "      <td>-0.694119</td>\n",
              "      <td>0.819538</td>\n",
              "      <td>-0.788828</td>\n",
              "      <td>0.612142</td>\n",
              "      <td>-0.799574</td>\n",
              "      <td>0.443360</td>\n",
              "      <td>-0.346320</td>\n",
              "      <td>1.596719</td>\n",
              "      <td>-0.547945</td>\n",
              "      <td>0.931190</td>\n",
              "      <td>-0.409152</td>\n",
              "      <td>-1.657818</td>\n",
              "      <td>0.736343</td>\n",
              "      <td>1.023905</td>\n",
              "      <td>0.304113</td>\n",
              "      <td>-0.774623</td>\n",
              "      <td>1.398780</td>\n",
              "      <td>0.133566</td>\n",
              "      <td>0.767382</td>\n",
              "      <td>0.719431</td>\n",
              "      <td>...</td>\n",
              "      <td>-0.113819</td>\n",
              "      <td>-0.154703</td>\n",
              "      <td>0.196933</td>\n",
              "      <td>-1.245936</td>\n",
              "      <td>-0.329525</td>\n",
              "      <td>0.579998</td>\n",
              "      <td>-2.301648</td>\n",
              "      <td>-0.713253</td>\n",
              "      <td>0.086801</td>\n",
              "      <td>-0.005958</td>\n",
              "      <td>-0.237293</td>\n",
              "      <td>-1.181239</td>\n",
              "      <td>-0.497225</td>\n",
              "      <td>-0.029424</td>\n",
              "      <td>-1.932044</td>\n",
              "      <td>1.147825</td>\n",
              "      <td>0.624889</td>\n",
              "      <td>-1.090197</td>\n",
              "      <td>-1.199216</td>\n",
              "      <td>0.483607</td>\n",
              "      <td>-0.028733</td>\n",
              "      <td>-1.438766</td>\n",
              "      <td>-0.629153</td>\n",
              "      <td>-1.018223</td>\n",
              "      <td>-0.928157</td>\n",
              "      <td>2.171263</td>\n",
              "      <td>0.781784</td>\n",
              "      <td>0.959521</td>\n",
              "      <td>0.638128</td>\n",
              "      <td>-0.874020</td>\n",
              "      <td>-0.108358</td>\n",
              "      <td>-1.371773</td>\n",
              "      <td>0.122406</td>\n",
              "      <td>0.292056</td>\n",
              "      <td>-0.086526</td>\n",
              "      <td>-0.913214</td>\n",
              "      <td>1.288252</td>\n",
              "      <td>-40.225358</td>\n",
              "      <td>-1</td>\n",
              "      <td>7</td>\n",
              "    </tr>\n",
              "    <tr>\n",
              "      <th>4</th>\n",
              "      <td>1.420614</td>\n",
              "      <td>0.523313</td>\n",
              "      <td>0.577140</td>\n",
              "      <td>0.040502</td>\n",
              "      <td>0.750543</td>\n",
              "      <td>0.373597</td>\n",
              "      <td>-1.553173</td>\n",
              "      <td>1.150413</td>\n",
              "      <td>0.971986</td>\n",
              "      <td>0.260147</td>\n",
              "      <td>0.705644</td>\n",
              "      <td>-1.270386</td>\n",
              "      <td>-0.957543</td>\n",
              "      <td>-0.165792</td>\n",
              "      <td>-0.256886</td>\n",
              "      <td>-1.310415</td>\n",
              "      <td>0.428018</td>\n",
              "      <td>1.430143</td>\n",
              "      <td>0.818623</td>\n",
              "      <td>-2.265353</td>\n",
              "      <td>-0.907685</td>\n",
              "      <td>-0.528372</td>\n",
              "      <td>-0.115757</td>\n",
              "      <td>-0.153313</td>\n",
              "      <td>0.020648</td>\n",
              "      <td>-0.966260</td>\n",
              "      <td>0.795436</td>\n",
              "      <td>-0.512626</td>\n",
              "      <td>1.466519</td>\n",
              "      <td>0.681619</td>\n",
              "      <td>-0.796289</td>\n",
              "      <td>-0.911928</td>\n",
              "      <td>-0.792245</td>\n",
              "      <td>-0.745700</td>\n",
              "      <td>-0.648822</td>\n",
              "      <td>0.544192</td>\n",
              "      <td>-0.539153</td>\n",
              "      <td>-0.228427</td>\n",
              "      <td>0.326308</td>\n",
              "      <td>-1.890709</td>\n",
              "      <td>...</td>\n",
              "      <td>-0.835061</td>\n",
              "      <td>-0.797774</td>\n",
              "      <td>-1.291821</td>\n",
              "      <td>0.532211</td>\n",
              "      <td>-1.469674</td>\n",
              "      <td>0.358811</td>\n",
              "      <td>-0.589577</td>\n",
              "      <td>0.841814</td>\n",
              "      <td>0.826837</td>\n",
              "      <td>-2.180271</td>\n",
              "      <td>-0.168496</td>\n",
              "      <td>0.737104</td>\n",
              "      <td>-0.936968</td>\n",
              "      <td>-1.110019</td>\n",
              "      <td>0.440996</td>\n",
              "      <td>-0.113077</td>\n",
              "      <td>0.888099</td>\n",
              "      <td>0.107871</td>\n",
              "      <td>0.857790</td>\n",
              "      <td>0.600746</td>\n",
              "      <td>-1.392102</td>\n",
              "      <td>0.836484</td>\n",
              "      <td>0.029829</td>\n",
              "      <td>0.686387</td>\n",
              "      <td>-0.374098</td>\n",
              "      <td>0.610490</td>\n",
              "      <td>1.580114</td>\n",
              "      <td>1.058438</td>\n",
              "      <td>0.646334</td>\n",
              "      <td>-0.866164</td>\n",
              "      <td>0.183334</td>\n",
              "      <td>0.378103</td>\n",
              "      <td>-1.166917</td>\n",
              "      <td>-0.795085</td>\n",
              "      <td>-0.377412</td>\n",
              "      <td>1.692218</td>\n",
              "      <td>0.142986</td>\n",
              "      <td>-248.021616</td>\n",
              "      <td>-1</td>\n",
              "      <td>5</td>\n",
              "    </tr>\n",
              "    <tr>\n",
              "      <th>...</th>\n",
              "      <td>...</td>\n",
              "      <td>...</td>\n",
              "      <td>...</td>\n",
              "      <td>...</td>\n",
              "      <td>...</td>\n",
              "      <td>...</td>\n",
              "      <td>...</td>\n",
              "      <td>...</td>\n",
              "      <td>...</td>\n",
              "      <td>...</td>\n",
              "      <td>...</td>\n",
              "      <td>...</td>\n",
              "      <td>...</td>\n",
              "      <td>...</td>\n",
              "      <td>...</td>\n",
              "      <td>...</td>\n",
              "      <td>...</td>\n",
              "      <td>...</td>\n",
              "      <td>...</td>\n",
              "      <td>...</td>\n",
              "      <td>...</td>\n",
              "      <td>...</td>\n",
              "      <td>...</td>\n",
              "      <td>...</td>\n",
              "      <td>...</td>\n",
              "      <td>...</td>\n",
              "      <td>...</td>\n",
              "      <td>...</td>\n",
              "      <td>...</td>\n",
              "      <td>...</td>\n",
              "      <td>...</td>\n",
              "      <td>...</td>\n",
              "      <td>...</td>\n",
              "      <td>...</td>\n",
              "      <td>...</td>\n",
              "      <td>...</td>\n",
              "      <td>...</td>\n",
              "      <td>...</td>\n",
              "      <td>...</td>\n",
              "      <td>...</td>\n",
              "      <td>...</td>\n",
              "      <td>...</td>\n",
              "      <td>...</td>\n",
              "      <td>...</td>\n",
              "      <td>...</td>\n",
              "      <td>...</td>\n",
              "      <td>...</td>\n",
              "      <td>...</td>\n",
              "      <td>...</td>\n",
              "      <td>...</td>\n",
              "      <td>...</td>\n",
              "      <td>...</td>\n",
              "      <td>...</td>\n",
              "      <td>...</td>\n",
              "      <td>...</td>\n",
              "      <td>...</td>\n",
              "      <td>...</td>\n",
              "      <td>...</td>\n",
              "      <td>...</td>\n",
              "      <td>...</td>\n",
              "      <td>...</td>\n",
              "      <td>...</td>\n",
              "      <td>...</td>\n",
              "      <td>...</td>\n",
              "      <td>...</td>\n",
              "      <td>...</td>\n",
              "      <td>...</td>\n",
              "      <td>...</td>\n",
              "      <td>...</td>\n",
              "      <td>...</td>\n",
              "      <td>...</td>\n",
              "      <td>...</td>\n",
              "      <td>...</td>\n",
              "      <td>...</td>\n",
              "      <td>...</td>\n",
              "      <td>...</td>\n",
              "      <td>...</td>\n",
              "      <td>...</td>\n",
              "      <td>...</td>\n",
              "      <td>...</td>\n",
              "      <td>...</td>\n",
              "    </tr>\n",
              "    <tr>\n",
              "      <th>14995</th>\n",
              "      <td>-0.640184</td>\n",
              "      <td>-0.264368</td>\n",
              "      <td>-0.455733</td>\n",
              "      <td>0.839259</td>\n",
              "      <td>1.247884</td>\n",
              "      <td>-0.193092</td>\n",
              "      <td>-0.676943</td>\n",
              "      <td>0.616575</td>\n",
              "      <td>0.103316</td>\n",
              "      <td>1.200004</td>\n",
              "      <td>-0.691490</td>\n",
              "      <td>0.501366</td>\n",
              "      <td>-0.316102</td>\n",
              "      <td>-0.074775</td>\n",
              "      <td>-0.444127</td>\n",
              "      <td>-0.568874</td>\n",
              "      <td>-0.740466</td>\n",
              "      <td>0.175425</td>\n",
              "      <td>0.193155</td>\n",
              "      <td>0.776030</td>\n",
              "      <td>-0.707990</td>\n",
              "      <td>0.558399</td>\n",
              "      <td>0.672387</td>\n",
              "      <td>-0.208829</td>\n",
              "      <td>0.932902</td>\n",
              "      <td>0.264297</td>\n",
              "      <td>-1.690854</td>\n",
              "      <td>0.067593</td>\n",
              "      <td>-0.516816</td>\n",
              "      <td>-0.129721</td>\n",
              "      <td>-0.537094</td>\n",
              "      <td>0.991777</td>\n",
              "      <td>-0.932198</td>\n",
              "      <td>-1.217461</td>\n",
              "      <td>0.166940</td>\n",
              "      <td>-1.293837</td>\n",
              "      <td>-0.258814</td>\n",
              "      <td>-0.394109</td>\n",
              "      <td>-1.332104</td>\n",
              "      <td>-0.170559</td>\n",
              "      <td>...</td>\n",
              "      <td>1.387611</td>\n",
              "      <td>0.582387</td>\n",
              "      <td>1.299170</td>\n",
              "      <td>-2.141540</td>\n",
              "      <td>0.566348</td>\n",
              "      <td>2.101481</td>\n",
              "      <td>0.175118</td>\n",
              "      <td>0.633771</td>\n",
              "      <td>-0.614212</td>\n",
              "      <td>-2.304912</td>\n",
              "      <td>-0.536411</td>\n",
              "      <td>0.604585</td>\n",
              "      <td>0.234559</td>\n",
              "      <td>-0.050812</td>\n",
              "      <td>1.449754</td>\n",
              "      <td>1.445769</td>\n",
              "      <td>1.820149</td>\n",
              "      <td>0.614584</td>\n",
              "      <td>-0.462137</td>\n",
              "      <td>-0.087238</td>\n",
              "      <td>0.341268</td>\n",
              "      <td>0.607012</td>\n",
              "      <td>0.365928</td>\n",
              "      <td>-0.269548</td>\n",
              "      <td>-0.598912</td>\n",
              "      <td>-0.610028</td>\n",
              "      <td>0.160764</td>\n",
              "      <td>0.816256</td>\n",
              "      <td>1.419651</td>\n",
              "      <td>0.054804</td>\n",
              "      <td>1.066302</td>\n",
              "      <td>-0.670662</td>\n",
              "      <td>1.160451</td>\n",
              "      <td>0.279870</td>\n",
              "      <td>-0.422253</td>\n",
              "      <td>-1.265073</td>\n",
              "      <td>1.092987</td>\n",
              "      <td>258.525587</td>\n",
              "      <td>-1</td>\n",
              "      <td>9</td>\n",
              "    </tr>\n",
              "    <tr>\n",
              "      <th>14996</th>\n",
              "      <td>0.160946</td>\n",
              "      <td>0.891295</td>\n",
              "      <td>-0.191499</td>\n",
              "      <td>0.115485</td>\n",
              "      <td>-0.638686</td>\n",
              "      <td>-0.975755</td>\n",
              "      <td>0.321870</td>\n",
              "      <td>2.285152</td>\n",
              "      <td>-1.287797</td>\n",
              "      <td>-0.412554</td>\n",
              "      <td>-1.198671</td>\n",
              "      <td>0.351578</td>\n",
              "      <td>1.326497</td>\n",
              "      <td>-0.995952</td>\n",
              "      <td>-0.311205</td>\n",
              "      <td>1.140530</td>\n",
              "      <td>1.198875</td>\n",
              "      <td>0.517537</td>\n",
              "      <td>0.680940</td>\n",
              "      <td>0.039731</td>\n",
              "      <td>0.752726</td>\n",
              "      <td>-0.597537</td>\n",
              "      <td>1.138683</td>\n",
              "      <td>0.257331</td>\n",
              "      <td>1.835698</td>\n",
              "      <td>-0.796927</td>\n",
              "      <td>0.640929</td>\n",
              "      <td>0.968598</td>\n",
              "      <td>0.376535</td>\n",
              "      <td>-0.667727</td>\n",
              "      <td>-0.957094</td>\n",
              "      <td>-0.371146</td>\n",
              "      <td>-0.907898</td>\n",
              "      <td>1.227200</td>\n",
              "      <td>-1.689431</td>\n",
              "      <td>1.421800</td>\n",
              "      <td>-0.476825</td>\n",
              "      <td>-0.011923</td>\n",
              "      <td>0.952630</td>\n",
              "      <td>0.293301</td>\n",
              "      <td>...</td>\n",
              "      <td>0.519396</td>\n",
              "      <td>-0.190017</td>\n",
              "      <td>0.478518</td>\n",
              "      <td>-0.456109</td>\n",
              "      <td>-0.145955</td>\n",
              "      <td>-1.031101</td>\n",
              "      <td>0.708965</td>\n",
              "      <td>3.211590</td>\n",
              "      <td>0.496089</td>\n",
              "      <td>-1.446761</td>\n",
              "      <td>-0.980190</td>\n",
              "      <td>0.129089</td>\n",
              "      <td>1.116504</td>\n",
              "      <td>0.305017</td>\n",
              "      <td>-0.396513</td>\n",
              "      <td>-0.293661</td>\n",
              "      <td>-1.334466</td>\n",
              "      <td>-2.223337</td>\n",
              "      <td>-0.338191</td>\n",
              "      <td>-1.189378</td>\n",
              "      <td>1.561099</td>\n",
              "      <td>0.277451</td>\n",
              "      <td>-0.678431</td>\n",
              "      <td>-1.209611</td>\n",
              "      <td>-2.217901</td>\n",
              "      <td>-0.966692</td>\n",
              "      <td>0.947745</td>\n",
              "      <td>-0.365183</td>\n",
              "      <td>0.819801</td>\n",
              "      <td>-1.301333</td>\n",
              "      <td>-1.162643</td>\n",
              "      <td>-1.585585</td>\n",
              "      <td>-1.453820</td>\n",
              "      <td>0.615464</td>\n",
              "      <td>1.043019</td>\n",
              "      <td>0.372976</td>\n",
              "      <td>-0.847631</td>\n",
              "      <td>318.678391</td>\n",
              "      <td>-1</td>\n",
              "      <td>10</td>\n",
              "    </tr>\n",
              "    <tr>\n",
              "      <th>14997</th>\n",
              "      <td>-0.471487</td>\n",
              "      <td>1.485687</td>\n",
              "      <td>-1.395710</td>\n",
              "      <td>0.159816</td>\n",
              "      <td>-0.631251</td>\n",
              "      <td>0.486648</td>\n",
              "      <td>0.230760</td>\n",
              "      <td>-0.717920</td>\n",
              "      <td>-0.332957</td>\n",
              "      <td>2.519780</td>\n",
              "      <td>-0.891160</td>\n",
              "      <td>0.369472</td>\n",
              "      <td>-0.881422</td>\n",
              "      <td>-1.295545</td>\n",
              "      <td>1.395491</td>\n",
              "      <td>0.314391</td>\n",
              "      <td>1.248964</td>\n",
              "      <td>-1.906967</td>\n",
              "      <td>0.095429</td>\n",
              "      <td>0.518161</td>\n",
              "      <td>-1.067261</td>\n",
              "      <td>-1.019373</td>\n",
              "      <td>0.220260</td>\n",
              "      <td>0.875147</td>\n",
              "      <td>0.773606</td>\n",
              "      <td>0.658848</td>\n",
              "      <td>1.032159</td>\n",
              "      <td>0.097503</td>\n",
              "      <td>0.474114</td>\n",
              "      <td>0.372528</td>\n",
              "      <td>0.065195</td>\n",
              "      <td>-0.926108</td>\n",
              "      <td>1.042618</td>\n",
              "      <td>0.842467</td>\n",
              "      <td>-0.715921</td>\n",
              "      <td>0.293316</td>\n",
              "      <td>1.524178</td>\n",
              "      <td>1.705249</td>\n",
              "      <td>0.858510</td>\n",
              "      <td>-0.781655</td>\n",
              "      <td>...</td>\n",
              "      <td>0.295845</td>\n",
              "      <td>-1.129363</td>\n",
              "      <td>-1.843447</td>\n",
              "      <td>0.813056</td>\n",
              "      <td>0.894051</td>\n",
              "      <td>1.541841</td>\n",
              "      <td>1.047712</td>\n",
              "      <td>1.471540</td>\n",
              "      <td>0.873302</td>\n",
              "      <td>-0.998660</td>\n",
              "      <td>-0.088692</td>\n",
              "      <td>-0.360472</td>\n",
              "      <td>-1.751062</td>\n",
              "      <td>-1.658489</td>\n",
              "      <td>-0.632258</td>\n",
              "      <td>-0.280165</td>\n",
              "      <td>-0.105622</td>\n",
              "      <td>-0.450236</td>\n",
              "      <td>-1.037375</td>\n",
              "      <td>-0.367535</td>\n",
              "      <td>-0.409899</td>\n",
              "      <td>1.288216</td>\n",
              "      <td>0.019260</td>\n",
              "      <td>-1.789827</td>\n",
              "      <td>-1.127320</td>\n",
              "      <td>2.039762</td>\n",
              "      <td>-0.718915</td>\n",
              "      <td>-0.068940</td>\n",
              "      <td>-1.150847</td>\n",
              "      <td>-0.072366</td>\n",
              "      <td>0.909944</td>\n",
              "      <td>-0.091191</td>\n",
              "      <td>-0.335734</td>\n",
              "      <td>0.417611</td>\n",
              "      <td>-0.184408</td>\n",
              "      <td>0.967453</td>\n",
              "      <td>1.152734</td>\n",
              "      <td>-63.753701</td>\n",
              "      <td>-1</td>\n",
              "      <td>6</td>\n",
              "    </tr>\n",
              "    <tr>\n",
              "      <th>14998</th>\n",
              "      <td>-1.070118</td>\n",
              "      <td>0.356715</td>\n",
              "      <td>0.906701</td>\n",
              "      <td>0.091504</td>\n",
              "      <td>0.494454</td>\n",
              "      <td>0.366282</td>\n",
              "      <td>-0.032580</td>\n",
              "      <td>-0.691791</td>\n",
              "      <td>-0.122107</td>\n",
              "      <td>2.218012</td>\n",
              "      <td>2.386093</td>\n",
              "      <td>-0.735952</td>\n",
              "      <td>0.490193</td>\n",
              "      <td>2.269006</td>\n",
              "      <td>-0.716915</td>\n",
              "      <td>-2.731425</td>\n",
              "      <td>-0.097945</td>\n",
              "      <td>-0.789167</td>\n",
              "      <td>-0.797639</td>\n",
              "      <td>0.186889</td>\n",
              "      <td>0.160979</td>\n",
              "      <td>-1.073016</td>\n",
              "      <td>0.289674</td>\n",
              "      <td>-0.451580</td>\n",
              "      <td>-0.031091</td>\n",
              "      <td>0.815901</td>\n",
              "      <td>1.327904</td>\n",
              "      <td>0.271219</td>\n",
              "      <td>1.530673</td>\n",
              "      <td>-0.814182</td>\n",
              "      <td>-1.629606</td>\n",
              "      <td>0.827351</td>\n",
              "      <td>0.384549</td>\n",
              "      <td>2.244977</td>\n",
              "      <td>-0.770483</td>\n",
              "      <td>-0.805822</td>\n",
              "      <td>0.644372</td>\n",
              "      <td>0.593524</td>\n",
              "      <td>-0.054517</td>\n",
              "      <td>1.262712</td>\n",
              "      <td>...</td>\n",
              "      <td>0.980607</td>\n",
              "      <td>-1.281281</td>\n",
              "      <td>-1.930305</td>\n",
              "      <td>-0.869156</td>\n",
              "      <td>-0.740161</td>\n",
              "      <td>0.114983</td>\n",
              "      <td>0.448351</td>\n",
              "      <td>0.891437</td>\n",
              "      <td>0.077484</td>\n",
              "      <td>-0.909410</td>\n",
              "      <td>0.058038</td>\n",
              "      <td>-0.218045</td>\n",
              "      <td>1.061261</td>\n",
              "      <td>0.506837</td>\n",
              "      <td>-1.262776</td>\n",
              "      <td>0.721147</td>\n",
              "      <td>0.085974</td>\n",
              "      <td>0.255544</td>\n",
              "      <td>0.148752</td>\n",
              "      <td>-0.359521</td>\n",
              "      <td>0.159943</td>\n",
              "      <td>-0.815293</td>\n",
              "      <td>-0.358427</td>\n",
              "      <td>-0.625700</td>\n",
              "      <td>0.416900</td>\n",
              "      <td>-0.312914</td>\n",
              "      <td>0.870962</td>\n",
              "      <td>1.747772</td>\n",
              "      <td>-0.806966</td>\n",
              "      <td>0.754303</td>\n",
              "      <td>1.121225</td>\n",
              "      <td>0.061361</td>\n",
              "      <td>0.039426</td>\n",
              "      <td>-1.035554</td>\n",
              "      <td>0.178858</td>\n",
              "      <td>0.513914</td>\n",
              "      <td>0.663887</td>\n",
              "      <td>-456.603035</td>\n",
              "      <td>-1</td>\n",
              "      <td>3</td>\n",
              "    </tr>\n",
              "    <tr>\n",
              "      <th>14999</th>\n",
              "      <td>1.911747</td>\n",
              "      <td>-0.414471</td>\n",
              "      <td>0.179650</td>\n",
              "      <td>0.228915</td>\n",
              "      <td>0.863382</td>\n",
              "      <td>0.994746</td>\n",
              "      <td>-1.199826</td>\n",
              "      <td>-0.230344</td>\n",
              "      <td>1.322927</td>\n",
              "      <td>-1.940190</td>\n",
              "      <td>0.966569</td>\n",
              "      <td>-0.557296</td>\n",
              "      <td>-0.265572</td>\n",
              "      <td>1.352376</td>\n",
              "      <td>0.241068</td>\n",
              "      <td>0.201213</td>\n",
              "      <td>1.703022</td>\n",
              "      <td>1.586919</td>\n",
              "      <td>-0.398990</td>\n",
              "      <td>0.115675</td>\n",
              "      <td>0.960970</td>\n",
              "      <td>0.263877</td>\n",
              "      <td>-0.267436</td>\n",
              "      <td>0.358612</td>\n",
              "      <td>-0.221632</td>\n",
              "      <td>0.351967</td>\n",
              "      <td>2.666688</td>\n",
              "      <td>1.316362</td>\n",
              "      <td>-0.782498</td>\n",
              "      <td>1.124137</td>\n",
              "      <td>0.243615</td>\n",
              "      <td>-1.564030</td>\n",
              "      <td>-0.775812</td>\n",
              "      <td>1.165871</td>\n",
              "      <td>0.531672</td>\n",
              "      <td>-0.806954</td>\n",
              "      <td>0.423883</td>\n",
              "      <td>-0.195664</td>\n",
              "      <td>-1.130497</td>\n",
              "      <td>-0.477789</td>\n",
              "      <td>...</td>\n",
              "      <td>0.285990</td>\n",
              "      <td>-0.790502</td>\n",
              "      <td>0.818203</td>\n",
              "      <td>-0.445646</td>\n",
              "      <td>1.507702</td>\n",
              "      <td>0.971057</td>\n",
              "      <td>1.072689</td>\n",
              "      <td>0.836403</td>\n",
              "      <td>-1.426917</td>\n",
              "      <td>0.692451</td>\n",
              "      <td>0.031627</td>\n",
              "      <td>-0.418302</td>\n",
              "      <td>-0.576822</td>\n",
              "      <td>2.043613</td>\n",
              "      <td>-1.353749</td>\n",
              "      <td>-0.224666</td>\n",
              "      <td>-0.122118</td>\n",
              "      <td>-2.037379</td>\n",
              "      <td>0.227793</td>\n",
              "      <td>0.179105</td>\n",
              "      <td>-0.106149</td>\n",
              "      <td>1.230166</td>\n",
              "      <td>1.263972</td>\n",
              "      <td>-1.415819</td>\n",
              "      <td>0.397681</td>\n",
              "      <td>0.840434</td>\n",
              "      <td>0.656886</td>\n",
              "      <td>-1.053876</td>\n",
              "      <td>-0.159903</td>\n",
              "      <td>-0.868298</td>\n",
              "      <td>0.036302</td>\n",
              "      <td>-0.175236</td>\n",
              "      <td>-0.673970</td>\n",
              "      <td>0.348290</td>\n",
              "      <td>-0.412628</td>\n",
              "      <td>1.399780</td>\n",
              "      <td>0.569645</td>\n",
              "      <td>174.189219</td>\n",
              "      <td>-1</td>\n",
              "      <td>8</td>\n",
              "    </tr>\n",
              "  </tbody>\n",
              "</table>\n",
              "<p>15000 rows × 103 columns</p>\n",
              "</div>"
            ],
            "text/plain": [
              "            f_0       f_1       f_2  ...      target  s_kfold  classe\n",
              "0      3.427140 -0.058386  0.573730  ...  460.260003       -1      11\n",
              "1      0.511507  1.491514  1.455051  ...  -34.442859       -1       7\n",
              "2      0.129024  1.482344  0.092512  ...  -12.329633       -1       7\n",
              "3      1.009932  1.426511  0.533161  ...  -40.225358       -1       7\n",
              "4      1.420614  0.523313  0.577140  ... -248.021616       -1       5\n",
              "...         ...       ...       ...  ...         ...      ...     ...\n",
              "14995 -0.640184 -0.264368 -0.455733  ...  258.525587       -1       9\n",
              "14996  0.160946  0.891295 -0.191499  ...  318.678391       -1      10\n",
              "14997 -0.471487  1.485687 -1.395710  ...  -63.753701       -1       6\n",
              "14998 -1.070118  0.356715  0.906701  ... -456.603035       -1       3\n",
              "14999  1.911747 -0.414471  0.179650  ...  174.189219       -1       8\n",
              "\n",
              "[15000 rows x 103 columns]"
            ]
          },
          "metadata": {
            "tags": []
          },
          "execution_count": 44
        }
      ]
    },
    {
      "cell_type": "markdown",
      "metadata": {
        "id": "kXGorKLbKaJB"
      },
      "source": [
        "Criando os Stratifeid KFolds"
      ]
    },
    {
      "cell_type": "code",
      "metadata": {
        "id": "j_y-ued0JxQu"
      },
      "source": [
        "skf = model_selection.StratifiedKFold(n_splits=5)"
      ],
      "execution_count": 45,
      "outputs": []
    },
    {
      "cell_type": "markdown",
      "metadata": {
        "id": "huO-cBKpKiXo"
      },
      "source": [
        "Separando os dados em X e y"
      ]
    },
    {
      "cell_type": "code",
      "metadata": {
        "id": "QxWIbgHBNdmn"
      },
      "source": [
        "X = df.drop(['target', 'classe'], axis=1)\n",
        "y = df.classe"
      ],
      "execution_count": 46,
      "outputs": []
    },
    {
      "cell_type": "markdown",
      "metadata": {
        "id": "rIEX6jA8Kmu3"
      },
      "source": [
        "Adicionando a coluna `s_kfold` o grupo que o modelo separou para cada entrada"
      ]
    },
    {
      "cell_type": "code",
      "metadata": {
        "id": "7sO0PErCMavA"
      },
      "source": [
        "for fold, (trn_, val_) in enumerate(skf.split(X, y)):\n",
        "  X.loc[val_, 's_kfold'] = fold"
      ],
      "execution_count": 59,
      "outputs": []
    },
    {
      "cell_type": "markdown",
      "metadata": {
        "id": "p-D07v2-KzKj"
      },
      "source": [
        "Exibindo a proporção em que os dados foram separados, de acordo com as classes:"
      ]
    },
    {
      "cell_type": "code",
      "metadata": {
        "id": "M6rdz1JaNos6",
        "colab": {
          "base_uri": "https://localhost:8080/"
        },
        "outputId": "102d44f8-8a68-4f5b-ccc0-0d72339d9ea7"
      },
      "source": [
        "for i in range(5):\n",
        "  dtrn_s_kfold = list(s_kf.split(X, y))[i][0]\n",
        "  print(y.loc[dtrn_s_kfold].value_counts().sort_index().to_list());"
      ],
      "execution_count": 54,
      "outputs": [
        {
          "output_type": "stream",
          "text": [
            "[2, 5, 32, 173, 557, 1405, 2363, 2928, 2464, 1340, 552, 145, 29, 5]\n",
            "[2, 5, 32, 173, 557, 1405, 2363, 2928, 2464, 1339, 553, 145, 29, 5]\n",
            "[2, 4, 32, 172, 558, 1404, 2364, 2928, 2464, 1339, 553, 146, 29, 5]\n",
            "[1, 5, 32, 173, 558, 1405, 2363, 2928, 2464, 1339, 553, 146, 29, 4]\n",
            "[1, 5, 32, 173, 558, 1405, 2363, 2928, 2464, 1339, 553, 146, 28, 5]\n"
          ],
          "name": "stdout"
        }
      ]
    },
    {
      "cell_type": "markdown",
      "metadata": {
        "id": "U6O_CSv6K4Wl"
      },
      "source": [
        "Comparando com a proporção do DataFrame completo"
      ]
    },
    {
      "cell_type": "code",
      "metadata": {
        "colab": {
          "base_uri": "https://localhost:8080/"
        },
        "id": "hu83q6F6Ivo9",
        "outputId": "bad384a4-516e-4dbf-b7a7-7eb60ffa4561"
      },
      "source": [
        "y.value_counts().sort_index().to_list()"
      ],
      "execution_count": 55,
      "outputs": [
        {
          "output_type": "execute_result",
          "data": {
            "text/plain": [
              "[2, 6, 40, 216, 697, 1756, 2954, 3660, 3080, 1674, 691, 182, 36, 6]"
            ]
          },
          "metadata": {
            "tags": []
          },
          "execution_count": 55
        }
      ]
    },
    {
      "cell_type": "markdown",
      "metadata": {
        "id": "SdxHNuHpLCMS"
      },
      "source": [
        "Facilitando a visulização dessa proporção com um gráfico:\n",
        "\n",
        "DataFrame original"
      ]
    },
    {
      "cell_type": "code",
      "metadata": {
        "colab": {
          "base_uri": "https://localhost:8080/",
          "height": 416
        },
        "id": "Uds4Dm57JJx_",
        "outputId": "229cbaca-c487-4487-cfe9-c07e69a2d0c8"
      },
      "source": [
        "ax = sns.countplot(y)\n",
        "\n",
        "ax.figure.set_size_inches(8,6)\n",
        "ax.set_title('Time Series with Stratified Kfold')\n",
        "ax.set_xlabel('Bins', fontsize=20)\n",
        "ax.set_ylabel('Quantidade', fontsize=20);"
      ],
      "execution_count": 57,
      "outputs": [
        {
          "output_type": "display_data",
          "data": {
            "image/png": "[encoded data removed]",
            "text/plain": [
              "<Figure size 576x432 with 1 Axes>"
            ]
          },
          "metadata": {
            "tags": []
          }
        }
      ]
    },
    {
      "cell_type": "markdown",
      "metadata": {
        "id": "miYTuZEkLQKd"
      },
      "source": [
        "Escolhendo um dos folds para fazer o plot:"
      ]
    },
    {
      "cell_type": "code",
      "metadata": {
        "colab": {
          "base_uri": "https://localhost:8080/",
          "height": 416
        },
        "id": "xh6cwcxkJQoo",
        "outputId": "d0e1853b-5bae-476a-8f73-d81a4e38bb7d"
      },
      "source": [
        "ax = sns.countplot(y.loc[list(s_kf.split(X, y))[0][0]])\n",
        "\n",
        "ax.figure.set_size_inches(8,6)\n",
        "ax.set_title('Time Series with Stratified Kfold')\n",
        "ax.set_xlabel('Bins', fontsize=20)\n",
        "ax.set_ylabel('Quantidade', fontsize=20);"
      ],
      "execution_count": 58,
      "outputs": [
        {
          "output_type": "display_data",
          "data": {
            "image/png": "[encoded data removed]",
            "text/plain": [
              "<Figure size 576x432 with 1 Axes>"
            ]
          },
          "metadata": {
            "tags": []
          }
        }
      ]
    },
    {
      "cell_type": "markdown",
      "metadata": {
        "id": "Zfgvyr3SJkBS"
      },
      "source": [
        "Mais uma vez, podemos visualizar que o Stratified Kfolf toma cuidado para separar os grupos de treino e validação na mesma proporção que o DataSet original"
      ]
    }
  ]
}