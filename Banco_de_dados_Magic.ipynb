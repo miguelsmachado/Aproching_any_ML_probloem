{
  "nbformat": 4,
  "nbformat_minor": 0,
  "metadata": {
    "colab": {
      "name": "Banco de dados Magic.ipynb",
      "provenance": [],
      "collapsed_sections": [],
      "authorship_tag": "ABX9TyPjaKs+S4Flf1kfq7TTRrhs",
      "include_colab_link": true
    },
    "kernelspec": {
      "name": "python3",
      "display_name": "Python 3"
    },
    "language_info": {
      "name": "python"
    }
  },
  "cells": [
    {
      "cell_type": "markdown",
      "metadata": {
        "id": "view-in-github",
        "colab_type": "text"
      },
      "source": [
        "<a href=\"https://colab.research.google.com/github/miguelsmachado/Aproching_any_ML_probloem/blob/main/Banco_de_dados_Magic.ipynb\" target=\"_parent\"><img src=\"https://colab.research.google.com/assets/colab-badge.svg\" alt=\"Open In Colab\"/></a>"
      ]
    },
    {
      "cell_type": "code",
      "source": [
        "import pandas as pd\n"
      ],
      "metadata": {
        "id": "fCputgHYVvH2"
      },
      "execution_count": 135,
      "outputs": []
    },
    {
      "cell_type": "code",
      "source": [
        "from urllib.request import urlopen\n",
        "\n",
        "url = 'https://gatherer.wizards.com/Pages/Card/Details.aspx?printed=false&multiverseid=385786'\n",
        "\n",
        "response = urlopen(url)\n",
        "html = response.read()"
      ],
      "metadata": {
        "id": "rBRDLhTOWsBQ"
      },
      "execution_count": 164,
      "outputs": []
    },
    {
      "cell_type": "code",
      "source": [
        "html = html.decode('utf-8')"
      ],
      "metadata": {
        "id": "M0IJkqWNXG0t"
      },
      "execution_count": 165,
      "outputs": []
    },
    {
      "cell_type": "code",
      "source": [
        "def trata_html(input):\n",
        "    return \" \".join(input.split()).replace('> <', '><')"
      ],
      "metadata": {
        "id": "7bT3o4jQXm24"
      },
      "execution_count": 166,
      "outputs": []
    },
    {
      "cell_type": "code",
      "source": [
        "html = trata_html(html)"
      ],
      "metadata": {
        "id": "eCwG1yK9Xudh"
      },
      "execution_count": 167,
      "outputs": []
    },
    {
      "cell_type": "code",
      "source": [
        "from bs4 import BeautifulSoup\n",
        "\n",
        "soup = BeautifulSoup(html, 'html.parser')"
      ],
      "metadata": {
        "id": "9-TtauP6XyA9"
      },
      "execution_count": 117,
      "outputs": []
    },
    {
      "cell_type": "markdown",
      "source": [
        "# Retirando informações da carta"
      ],
      "metadata": {
        "id": "vL8WrwZsm2cn"
      }
    },
    {
      "cell_type": "code",
      "source": [
        "itens = soup.findAll('div', class_=\"label\")\n",
        "i = 0\n",
        "index = []\n",
        "caracteristicas = []\n",
        "for item in itens:\n",
        "  index.append((item.get_text().lstrip(), i))\n",
        "  caracteristicas.append((item.get_text().lstrip()))\n",
        "  i += 1\n",
        "caracteristicas"
      ],
      "metadata": {
        "colab": {
          "base_uri": "https://localhost:8080/"
        },
        "id": "yRoeasb6m4O1",
        "outputId": "d85510ab-69ab-43fe-cb62-b8ac401f254b"
      },
      "execution_count": 118,
      "outputs": [
        {
          "output_type": "execute_result",
          "data": {
            "text/plain": [
              "['Community Rating:',\n",
              " 'Card Name:',\n",
              " 'Mana Cost:',\n",
              " 'Converted Mana Cost:',\n",
              " 'Types:',\n",
              " 'Card Text:',\n",
              " 'Flavor Text:',\n",
              " 'Expansion:',\n",
              " 'Rarity:',\n",
              " 'All Sets:',\n",
              " 'Card Number:',\n",
              " 'Artist:',\n",
              " '']"
            ]
          },
          "metadata": {},
          "execution_count": 118
        }
      ]
    },
    {
      "cell_type": "markdown",
      "source": [
        "## Nome da carta"
      ],
      "metadata": {
        "id": "KrLTsv0tOQzb"
      }
    },
    {
      "cell_type": "code",
      "source": [
        "if \"Card Name:\" in caracteristicas:\n",
        "  card_name = itens[caracteristicas.index(\"Card Name:\")].find_next().get_text().lstrip()\n",
        "card_name"
      ],
      "metadata": {
        "colab": {
          "base_uri": "https://localhost:8080/",
          "height": 37
        },
        "id": "kvtm8e4PGKau",
        "outputId": "d59f6d8b-667d-4669-c234-8325828fb6c4"
      },
      "execution_count": 119,
      "outputs": [
        {
          "output_type": "execute_result",
          "data": {
            "application/vnd.google.colaboratory.intrinsic+json": {
              "type": "string"
            },
            "text/plain": [
              "'Encrust'"
            ]
          },
          "metadata": {},
          "execution_count": 119
        }
      ]
    },
    {
      "cell_type": "markdown",
      "source": [
        "## Custo de mana"
      ],
      "metadata": {
        "id": "XQ1rH217OUmV"
      }
    },
    {
      "cell_type": "code",
      "source": [
        "mana_cost = []\n",
        "for mana in soup.findAll('img', {\"align\":\"absbottom\"}):\n",
        "  mana_cost.append(mana.get(\"alt\"))\n",
        "mana_cost"
      ],
      "metadata": {
        "colab": {
          "base_uri": "https://localhost:8080/"
        },
        "id": "d1H7j8kNG5wG",
        "outputId": "239722da-9353-470c-f4ac-ab738ac5e4ff"
      },
      "execution_count": 120,
      "outputs": [
        {
          "output_type": "execute_result",
          "data": {
            "text/plain": [
              "['1', 'Blue', 'Blue']"
            ]
          },
          "metadata": {},
          "execution_count": 120
        }
      ]
    },
    {
      "cell_type": "markdown",
      "source": [
        "## Tipo de carta"
      ],
      "metadata": {
        "id": "DD4MqrdRPwRm"
      }
    },
    {
      "cell_type": "code",
      "source": [
        "if \"Types:\" in caracteristicas:\n",
        "  types = itens[caracteristicas.index(\"Types:\")].find_next().get_text().lstrip()\n",
        "types"
      ],
      "metadata": {
        "colab": {
          "base_uri": "https://localhost:8080/",
          "height": 37
        },
        "id": "q3L13_w7OcRn",
        "outputId": "2cd99f59-420c-47c5-d1bd-e8ccffe29849"
      },
      "execution_count": 121,
      "outputs": [
        {
          "output_type": "execute_result",
          "data": {
            "application/vnd.google.colaboratory.intrinsic+json": {
              "type": "string"
            },
            "text/plain": [
              "'Enchantment — Aura'"
            ]
          },
          "metadata": {},
          "execution_count": 121
        }
      ]
    },
    {
      "cell_type": "markdown",
      "source": [
        "## Texto da carta"
      ],
      "metadata": {
        "id": "YHYfm2M9RIV1"
      }
    },
    {
      "cell_type": "code",
      "source": [
        "text = []\n",
        "for phrase in soup.findAll('div', class_=\"cardtextbox\"):\n",
        "  text.append(phrase.get_text())\n",
        "text = \"\\n\".join(text)\n",
        "print(text)"
      ],
      "metadata": {
        "colab": {
          "base_uri": "https://localhost:8080/"
        },
        "id": "9qqaFZ0sPhDm",
        "outputId": "02e24746-c279-4dd4-9fad-72f89ae47fe5"
      },
      "execution_count": 122,
      "outputs": [
        {
          "output_type": "stream",
          "name": "stdout",
          "text": [
            "Enchant artifact or creature\n",
            "Enchanted permanent doesn't untap during its controller's untap step and its activated abilities can't be activated.\n"
          ]
        }
      ]
    },
    {
      "cell_type": "markdown",
      "source": [
        "# Poder"
      ],
      "metadata": {
        "id": "732qBvljSDEg"
      }
    },
    {
      "cell_type": "code",
      "source": [
        "if \"P/T:\" in caracteristicas:\n",
        "  power = itens[caracteristicas.index(\"P/T:\")].find_next().find_next().get_text().lstrip()\n",
        "else:\n",
        "  power = \"0 / 0\"\n",
        "atack = int(power.split(\"/\")[0])\n",
        "print(atack)\n",
        "defense = int(power.split(\"/\")[1])\n",
        "print(defense)"
      ],
      "metadata": {
        "colab": {
          "base_uri": "https://localhost:8080/"
        },
        "id": "psiBIPSqQJ__",
        "outputId": "e5195e00-ba82-4d76-b387-5b54bb5bf25d"
      },
      "execution_count": 125,
      "outputs": [
        {
          "output_type": "stream",
          "name": "stdout",
          "text": [
            "0\n",
            "0\n"
          ]
        }
      ]
    },
    {
      "cell_type": "markdown",
      "source": [
        "## Edição"
      ],
      "metadata": {
        "id": "fBdDcWP6SRpy"
      }
    },
    {
      "cell_type": "code",
      "source": [
        "if \"Expansion:\" in caracteristicas:\n",
        "  edition = itens[caracteristicas.index(\"Expansion:\")].find_next().get_text().lstrip()\n",
        "edition"
      ],
      "metadata": {
        "colab": {
          "base_uri": "https://localhost:8080/",
          "height": 37
        },
        "id": "K8rsjFv1RgsL",
        "outputId": "0d5880c6-a982-4971-fa55-171b47077ee0"
      },
      "execution_count": 126,
      "outputs": [
        {
          "output_type": "execute_result",
          "data": {
            "application/vnd.google.colaboratory.intrinsic+json": {
              "type": "string"
            },
            "text/plain": [
              "'Magic 2015 Core Set'"
            ]
          },
          "metadata": {},
          "execution_count": 126
        }
      ]
    },
    {
      "cell_type": "markdown",
      "source": [
        "## Raridade"
      ],
      "metadata": {
        "id": "2LWV9aJjSk4S"
      }
    },
    {
      "cell_type": "code",
      "source": [
        "if \"Rarity:\" in caracteristicas:\n",
        "  rarity = itens[caracteristicas.index(\"Rarity:\")].find_next().get_text().lstrip()\n",
        "rarity"
      ],
      "metadata": {
        "colab": {
          "base_uri": "https://localhost:8080/",
          "height": 37
        },
        "id": "JTmFezF8Sfqj",
        "outputId": "3fe72714-0b56-49b0-b0de-9d93abfe2607"
      },
      "execution_count": 127,
      "outputs": [
        {
          "output_type": "execute_result",
          "data": {
            "application/vnd.google.colaboratory.intrinsic+json": {
              "type": "string"
            },
            "text/plain": [
              "'Common'"
            ]
          },
          "metadata": {},
          "execution_count": 127
        }
      ]
    },
    {
      "cell_type": "markdown",
      "source": [
        "## Imagem"
      ],
      "metadata": {
        "id": "hOYtfhufTC8o"
      }
    },
    {
      "cell_type": "code",
      "source": [
        "image = soup.find('div', class_=\"cardImage\").find('img')\n",
        "image_link = \"https://gatherer.wizards.com\" + image.get('src')[5:]\n",
        "print(image_link)"
      ],
      "metadata": {
        "colab": {
          "base_uri": "https://localhost:8080/"
        },
        "id": "V5hi4lFqSvFb",
        "outputId": "75e915cf-3e18-43dd-b19b-28065824efd5"
      },
      "execution_count": 128,
      "outputs": [
        {
          "output_type": "stream",
          "name": "stdout",
          "text": [
            "https://gatherer.wizards.com/Handlers/Image.ashx?multiverseid=385786&type=card\n"
          ]
        }
      ]
    },
    {
      "cell_type": "markdown",
      "source": [
        "## Gerando o Card"
      ],
      "metadata": {
        "id": "__ExibUfUifS"
      }
    },
    {
      "cell_type": "code",
      "source": [
        "card = {\"card_name\": card_name,\n",
        "        \"types\": types,\n",
        "        \"mana_cost\": mana_cost,\n",
        "        \"text\": text,\n",
        "        \"atack\": atack,\n",
        "        \"defense\": defense,\n",
        "        \"edition\": edition,\n",
        "        \"rarity\": rarity,\n",
        "        \"image\": image_link\n",
        "}\n",
        "\n",
        "card"
      ],
      "metadata": {
        "colab": {
          "base_uri": "https://localhost:8080/"
        },
        "id": "Un0i5qtoTGOJ",
        "outputId": "063ef069-54c9-491b-947b-c8d5588c5815"
      },
      "execution_count": 134,
      "outputs": [
        {
          "output_type": "execute_result",
          "data": {
            "text/plain": [
              "{'atack': 0,\n",
              " 'card_name': 'Encrust',\n",
              " 'defense': 0,\n",
              " 'edition': 'Magic 2015 Core Set',\n",
              " 'image': 'https://gatherer.wizards.com/Handlers/Image.ashx?multiverseid=385786&type=card',\n",
              " 'mana_cost': ['1', 'Blue', 'Blue'],\n",
              " 'rarity': 'Common',\n",
              " 'text': \"Enchant artifact or creature\\nEnchanted permanent doesn't untap during its controller's untap step and its activated abilities can't be activated.\",\n",
              " 'types': 'Enchantment — Aura'}"
            ]
          },
          "metadata": {},
          "execution_count": 134
        }
      ]
    },
    {
      "cell_type": "code",
      "source": [
        "pd.DataFrame.from_dict(card, orient='index').T"
      ],
      "metadata": {
        "colab": {
          "base_uri": "https://localhost:8080/",
          "height": 80
        },
        "id": "Ke13SLArUvHw",
        "outputId": "4a287d56-6b44-41dd-a5c2-169196447e52"
      },
      "execution_count": 138,
      "outputs": [
        {
          "output_type": "execute_result",
          "data": {
            "text/html": [
              "\n",
              "  <div id=\"df-9bbc8fec-c721-41da-8670-256bfec4e91b\">\n",
              "    <div class=\"colab-df-container\">\n",
              "      <div>\n",
              "<style scoped>\n",
              "    .dataframe tbody tr th:only-of-type {\n",
              "        vertical-align: middle;\n",
              "    }\n",
              "\n",
              "    .dataframe tbody tr th {\n",
              "        vertical-align: top;\n",
              "    }\n",
              "\n",
              "    .dataframe thead th {\n",
              "        text-align: right;\n",
              "    }\n",
              "</style>\n",
              "<table border=\"1\" class=\"dataframe\">\n",
              "  <thead>\n",
              "    <tr style=\"text-align: right;\">\n",
              "      <th></th>\n",
              "      <th>card_name</th>\n",
              "      <th>types</th>\n",
              "      <th>mana_cost</th>\n",
              "      <th>text</th>\n",
              "      <th>atack</th>\n",
              "      <th>defense</th>\n",
              "      <th>edition</th>\n",
              "      <th>rarity</th>\n",
              "      <th>image</th>\n",
              "    </tr>\n",
              "  </thead>\n",
              "  <tbody>\n",
              "    <tr>\n",
              "      <th>0</th>\n",
              "      <td>Encrust</td>\n",
              "      <td>Enchantment — Aura</td>\n",
              "      <td>[1, Blue, Blue]</td>\n",
              "      <td>Enchant artifact or creature\\nEnchanted perman...</td>\n",
              "      <td>0</td>\n",
              "      <td>0</td>\n",
              "      <td>Magic 2015 Core Set</td>\n",
              "      <td>Common</td>\n",
              "      <td>https://gatherer.wizards.com/Handlers/Image.as...</td>\n",
              "    </tr>\n",
              "  </tbody>\n",
              "</table>\n",
              "</div>\n",
              "      <button class=\"colab-df-convert\" onclick=\"convertToInteractive('df-9bbc8fec-c721-41da-8670-256bfec4e91b')\"\n",
              "              title=\"Convert this dataframe to an interactive table.\"\n",
              "              style=\"display:none;\">\n",
              "        \n",
              "  <svg xmlns=\"http://www.w3.org/2000/svg\" height=\"24px\"viewBox=\"0 0 24 24\"\n",
              "       width=\"24px\">\n",
              "    <path d=\"M0 0h24v24H0V0z\" fill=\"none\"/>\n",
              "    <path d=\"M18.56 5.44l.94 2.06.94-2.06 2.06-.94-2.06-.94-.94-2.06-.94 2.06-2.06.94zm-11 1L8.5 8.5l.94-2.06 2.06-.94-2.06-.94L8.5 2.5l-.94 2.06-2.06.94zm10 10l.94 2.06.94-2.06 2.06-.94-2.06-.94-.94-2.06-.94 2.06-2.06.94z\"/><path d=\"M17.41 7.96l-1.37-1.37c-.4-.4-.92-.59-1.43-.59-.52 0-1.04.2-1.43.59L10.3 9.45l-7.72 7.72c-.78.78-.78 2.05 0 2.83L4 21.41c.39.39.9.59 1.41.59.51 0 1.02-.2 1.41-.59l7.78-7.78 2.81-2.81c.8-.78.8-2.07 0-2.86zM5.41 20L4 18.59l7.72-7.72 1.47 1.35L5.41 20z\"/>\n",
              "  </svg>\n",
              "      </button>\n",
              "      \n",
              "  <style>\n",
              "    .colab-df-container {\n",
              "      display:flex;\n",
              "      flex-wrap:wrap;\n",
              "      gap: 12px;\n",
              "    }\n",
              "\n",
              "    .colab-df-convert {\n",
              "      background-color: #E8F0FE;\n",
              "      border: none;\n",
              "      border-radius: 50%;\n",
              "      cursor: pointer;\n",
              "      display: none;\n",
              "      fill: #1967D2;\n",
              "      height: 32px;\n",
              "      padding: 0 0 0 0;\n",
              "      width: 32px;\n",
              "    }\n",
              "\n",
              "    .colab-df-convert:hover {\n",
              "      background-color: #E2EBFA;\n",
              "      box-shadow: 0px 1px 2px rgba(60, 64, 67, 0.3), 0px 1px 3px 1px rgba(60, 64, 67, 0.15);\n",
              "      fill: #174EA6;\n",
              "    }\n",
              "\n",
              "    [theme=dark] .colab-df-convert {\n",
              "      background-color: #3B4455;\n",
              "      fill: #D2E3FC;\n",
              "    }\n",
              "\n",
              "    [theme=dark] .colab-df-convert:hover {\n",
              "      background-color: #434B5C;\n",
              "      box-shadow: 0px 1px 3px 1px rgba(0, 0, 0, 0.15);\n",
              "      filter: drop-shadow(0px 1px 2px rgba(0, 0, 0, 0.3));\n",
              "      fill: #FFFFFF;\n",
              "    }\n",
              "  </style>\n",
              "\n",
              "      <script>\n",
              "        const buttonEl =\n",
              "          document.querySelector('#df-9bbc8fec-c721-41da-8670-256bfec4e91b button.colab-df-convert');\n",
              "        buttonEl.style.display =\n",
              "          google.colab.kernel.accessAllowed ? 'block' : 'none';\n",
              "\n",
              "        async function convertToInteractive(key) {\n",
              "          const element = document.querySelector('#df-9bbc8fec-c721-41da-8670-256bfec4e91b');\n",
              "          const dataTable =\n",
              "            await google.colab.kernel.invokeFunction('convertToInteractive',\n",
              "                                                     [key], {});\n",
              "          if (!dataTable) return;\n",
              "\n",
              "          const docLinkHtml = 'Like what you see? Visit the ' +\n",
              "            '<a target=\"_blank\" href=https://colab.research.google.com/notebooks/data_table.ipynb>data table notebook</a>'\n",
              "            + ' to learn more about interactive tables.';\n",
              "          element.innerHTML = '';\n",
              "          dataTable['output_type'] = 'display_data';\n",
              "          await google.colab.output.renderOutput(dataTable, element);\n",
              "          const docLink = document.createElement('div');\n",
              "          docLink.innerHTML = docLinkHtml;\n",
              "          element.appendChild(docLink);\n",
              "        }\n",
              "      </script>\n",
              "    </div>\n",
              "  </div>\n",
              "  "
            ],
            "text/plain": [
              "  card_name  ...                                              image\n",
              "0   Encrust  ...  https://gatherer.wizards.com/Handlers/Image.as...\n",
              "\n",
              "[1 rows x 9 columns]"
            ]
          },
          "metadata": {},
          "execution_count": 138
        }
      ]
    },
    {
      "cell_type": "markdown",
      "source": [
        "# Criando uma rotina de scraping"
      ],
      "metadata": {
        "id": "O15gwIrhWgyq"
      }
    },
    {
      "cell_type": "code",
      "source": [
        "from urllib.request import urlopen\n",
        "import pandas as pd\n",
        "from bs4 import BeautifulSoup\n",
        "import time\n",
        "\n",
        "def trata_html(input):\n",
        "    return \" \".join(input.split()).replace('> <', '><')\n",
        "\n",
        "cards = []\n",
        "\n",
        "inicio = time.time()\n",
        "for i in range(1,101):\n",
        "  card = {}\n",
        "\n",
        "  url = 'https://gatherer.wizards.com/Pages/Card/Details.aspx?printed=false&multiverseid=' +str(i)\n",
        "\n",
        "  response = urlopen(url)\n",
        "  html = response.read()\n",
        "\n",
        "  html = html.decode('utf-8')\n",
        "  html = trata_html(html)\n",
        "\n",
        "  soup = BeautifulSoup(html, 'html.parser')\n",
        "\n",
        "  # Verificando a possilidade da página não existir\n",
        "  if soup.title.get_text() == \" Gatherer - Magic: The Gathering \":\n",
        "    continue\n",
        "\n",
        "  # Obtendo as infomações gerais\n",
        "  itens = soup.findAll('div', class_=\"label\")\n",
        "  i = 0\n",
        "  index = []\n",
        "  caracteristicas = []\n",
        "  for item in itens:\n",
        "    index.append((item.get_text().lstrip(), i))\n",
        "    caracteristicas.append((item.get_text().lstrip()))\n",
        "    i += 1\n",
        "  \n",
        "  if \"Card Name:\" in caracteristicas:\n",
        "    card_name = itens[caracteristicas.index(\"Card Name:\")].find_next().get_text().lstrip()\n",
        "  \n",
        "  mana_cost = []\n",
        "  for mana in soup.findAll('img', {\"align\":\"absbottom\"}):\n",
        "    mana_cost.append(mana.get(\"alt\"))\n",
        "\n",
        "  if \"Types:\" in caracteristicas:\n",
        "    types = itens[caracteristicas.index(\"Types:\")].find_next().get_text().lstrip()\n",
        "\n",
        "  text = []\n",
        "  for phrase in soup.findAll('div', class_=\"cardtextbox\"):\n",
        "    text.append(phrase.get_text())\n",
        "  text = \"\\n\".join(text)\n",
        "  \n",
        "  if \"P/T:\" in caracteristicas:\n",
        "    power = itens[caracteristicas.index(\"P/T:\")].find_next().find_next().get_text().lstrip()\n",
        "  else:\n",
        "    power = \"0 / 0\"\n",
        "  atack = power.split(\"/\")[0]\n",
        "  defense = power.split(\"/\")[1]\n",
        "\n",
        "  if \"Expansion:\" in caracteristicas:\n",
        "    edition = itens[caracteristicas.index(\"Expansion:\")].find_next().get_text().lstrip()\n",
        "  \n",
        "  if \"Rarity:\" in caracteristicas:\n",
        "    rarity = itens[caracteristicas.index(\"Rarity:\")].find_next().get_text().lstrip()\n",
        "  \n",
        "  image = soup.find('div', class_=\"cardImage\").find('img')\n",
        "  image_link = \"https://gatherer.wizards.com\" + image.get('src')[5:]\n",
        "\n",
        "  card = {\"card_name\": card_name,\n",
        "        \"types\": types,\n",
        "        \"mana_cost\": mana_cost,\n",
        "        \"text\": text,\n",
        "        \"atack\": atack,\n",
        "        \"defense\": defense,\n",
        "        \"edition\": edition,\n",
        "        \"rarity\": rarity,\n",
        "        \"image\": image_link}\n",
        "\n",
        "  cards.append(card)\n",
        "\n",
        "df = pd.DataFrame(cards)\n",
        "\n",
        "fim = time.time()\n",
        "print(f' Tempo de execução: {fim - inicio} segundos')"
      ],
      "metadata": {
        "colab": {
          "base_uri": "https://localhost:8080/"
        },
        "id": "MuZUJxPYVznK",
        "outputId": "09e0b3c2-87f5-4c22-8e46-af2f5881f584"
      },
      "execution_count": 159,
      "outputs": [
        {
          "output_type": "stream",
          "name": "stdout",
          "text": [
            " Tempo de execução: 110.03138494491577 segundos\n"
          ]
        }
      ]
    },
    {
      "cell_type": "code",
      "source": [
        "df"
      ],
      "metadata": {
        "colab": {
          "base_uri": "https://localhost:8080/",
          "height": 1440
        },
        "id": "sScdhq3UXMLq",
        "outputId": "5f46a9ac-102c-45fe-ee32-53cd91c6bf6e"
      },
      "execution_count": 160,
      "outputs": [
        {
          "output_type": "execute_result",
          "data": {
            "text/html": [
              "\n",
              "  <div id=\"df-5f78ecf9-d791-459d-9305-4ff16dab7d75\">\n",
              "    <div class=\"colab-df-container\">\n",
              "      <div>\n",
              "<style scoped>\n",
              "    .dataframe tbody tr th:only-of-type {\n",
              "        vertical-align: middle;\n",
              "    }\n",
              "\n",
              "    .dataframe tbody tr th {\n",
              "        vertical-align: top;\n",
              "    }\n",
              "\n",
              "    .dataframe thead th {\n",
              "        text-align: right;\n",
              "    }\n",
              "</style>\n",
              "<table border=\"1\" class=\"dataframe\">\n",
              "  <thead>\n",
              "    <tr style=\"text-align: right;\">\n",
              "      <th></th>\n",
              "      <th>card_name</th>\n",
              "      <th>types</th>\n",
              "      <th>mana_cost</th>\n",
              "      <th>text</th>\n",
              "      <th>atack</th>\n",
              "      <th>defense</th>\n",
              "      <th>edition</th>\n",
              "      <th>rarity</th>\n",
              "      <th>image</th>\n",
              "    </tr>\n",
              "  </thead>\n",
              "  <tbody>\n",
              "    <tr>\n",
              "      <th>0</th>\n",
              "      <td>Ankh of Mishra</td>\n",
              "      <td>Artifact</td>\n",
              "      <td>[2]</td>\n",
              "      <td>Whenever a land enters the battlefield, Ankh o...</td>\n",
              "      <td>0</td>\n",
              "      <td>0</td>\n",
              "      <td>Limited Edition Alpha</td>\n",
              "      <td>Rare</td>\n",
              "      <td>https://gatherer.wizards.com/Handlers/Image.as...</td>\n",
              "    </tr>\n",
              "    <tr>\n",
              "      <th>1</th>\n",
              "      <td>Basalt Monolith</td>\n",
              "      <td>Artifact</td>\n",
              "      <td>[3, Tap, Colorless, Colorless, Colorless, 3]</td>\n",
              "      <td>Basalt Monolith doesn't untap during your unta...</td>\n",
              "      <td>0</td>\n",
              "      <td>0</td>\n",
              "      <td>Limited Edition Alpha</td>\n",
              "      <td>Uncommon</td>\n",
              "      <td>https://gatherer.wizards.com/Handlers/Image.as...</td>\n",
              "    </tr>\n",
              "    <tr>\n",
              "      <th>2</th>\n",
              "      <td>Black Lotus</td>\n",
              "      <td>Artifact</td>\n",
              "      <td>[0, Tap]</td>\n",
              "      <td>, Sacrifice Black Lotus: Add three mana of any...</td>\n",
              "      <td>0</td>\n",
              "      <td>0</td>\n",
              "      <td>Limited Edition Alpha</td>\n",
              "      <td>Rare</td>\n",
              "      <td>https://gatherer.wizards.com/Handlers/Image.as...</td>\n",
              "    </tr>\n",
              "    <tr>\n",
              "      <th>3</th>\n",
              "      <td>Black Vise</td>\n",
              "      <td>Artifact</td>\n",
              "      <td>[1]</td>\n",
              "      <td>As Black Vise enters the battlefield, choose a...</td>\n",
              "      <td>0</td>\n",
              "      <td>0</td>\n",
              "      <td>Limited Edition Alpha</td>\n",
              "      <td>Uncommon</td>\n",
              "      <td>https://gatherer.wizards.com/Handlers/Image.as...</td>\n",
              "    </tr>\n",
              "    <tr>\n",
              "      <th>4</th>\n",
              "      <td>Celestial Prism</td>\n",
              "      <td>Artifact</td>\n",
              "      <td>[3, 2, Tap]</td>\n",
              "      <td>, : Add one mana of any color.</td>\n",
              "      <td>0</td>\n",
              "      <td>0</td>\n",
              "      <td>Limited Edition Alpha</td>\n",
              "      <td>Uncommon</td>\n",
              "      <td>https://gatherer.wizards.com/Handlers/Image.as...</td>\n",
              "    </tr>\n",
              "    <tr>\n",
              "      <th>...</th>\n",
              "      <td>...</td>\n",
              "      <td>...</td>\n",
              "      <td>...</td>\n",
              "      <td>...</td>\n",
              "      <td>...</td>\n",
              "      <td>...</td>\n",
              "      <td>...</td>\n",
              "      <td>...</td>\n",
              "      <td>...</td>\n",
              "    </tr>\n",
              "    <tr>\n",
              "      <th>95</th>\n",
              "      <td>Animate Artifact</td>\n",
              "      <td>Enchantment — Aura</td>\n",
              "      <td>[3, Blue, Tap]</td>\n",
              "      <td>Enchant artifact\\nAs long as enchanted artifac...</td>\n",
              "      <td>0</td>\n",
              "      <td>0</td>\n",
              "      <td>Limited Edition Alpha</td>\n",
              "      <td>Uncommon</td>\n",
              "      <td>https://gatherer.wizards.com/Handlers/Image.as...</td>\n",
              "    </tr>\n",
              "    <tr>\n",
              "      <th>96</th>\n",
              "      <td>Blue Elemental Blast</td>\n",
              "      <td>Instant</td>\n",
              "      <td>[Blue]</td>\n",
              "      <td>Choose one —\\n• Counter target red spell.\\n• D...</td>\n",
              "      <td>0</td>\n",
              "      <td>0</td>\n",
              "      <td>Limited Edition Alpha</td>\n",
              "      <td>Common</td>\n",
              "      <td>https://gatherer.wizards.com/Handlers/Image.as...</td>\n",
              "    </tr>\n",
              "    <tr>\n",
              "      <th>97</th>\n",
              "      <td>Braingeyser</td>\n",
              "      <td>Sorcery</td>\n",
              "      <td>[Variable Colorless, Blue, Blue]</td>\n",
              "      <td>Target player draws X cards.</td>\n",
              "      <td>0</td>\n",
              "      <td>0</td>\n",
              "      <td>Limited Edition Alpha</td>\n",
              "      <td>Rare</td>\n",
              "      <td>https://gatherer.wizards.com/Handlers/Image.as...</td>\n",
              "    </tr>\n",
              "    <tr>\n",
              "      <th>98</th>\n",
              "      <td>Clone</td>\n",
              "      <td>Creature — Shapeshifter</td>\n",
              "      <td>[3, Blue, Variable Colorless]</td>\n",
              "      <td>You may have Clone enter the battlefield as a ...</td>\n",
              "      <td>0</td>\n",
              "      <td>0</td>\n",
              "      <td>Limited Edition Alpha</td>\n",
              "      <td>Uncommon</td>\n",
              "      <td>https://gatherer.wizards.com/Handlers/Image.as...</td>\n",
              "    </tr>\n",
              "    <tr>\n",
              "      <th>99</th>\n",
              "      <td>Control Magic</td>\n",
              "      <td>Enchantment — Aura</td>\n",
              "      <td>[2, Blue, Blue]</td>\n",
              "      <td>Enchant creature\\nYou control enchanted creature.</td>\n",
              "      <td>0</td>\n",
              "      <td>0</td>\n",
              "      <td>Limited Edition Alpha</td>\n",
              "      <td>Uncommon</td>\n",
              "      <td>https://gatherer.wizards.com/Handlers/Image.as...</td>\n",
              "    </tr>\n",
              "  </tbody>\n",
              "</table>\n",
              "<p>100 rows × 9 columns</p>\n",
              "</div>\n",
              "      <button class=\"colab-df-convert\" onclick=\"convertToInteractive('df-5f78ecf9-d791-459d-9305-4ff16dab7d75')\"\n",
              "              title=\"Convert this dataframe to an interactive table.\"\n",
              "              style=\"display:none;\">\n",
              "        \n",
              "  <svg xmlns=\"http://www.w3.org/2000/svg\" height=\"24px\"viewBox=\"0 0 24 24\"\n",
              "       width=\"24px\">\n",
              "    <path d=\"M0 0h24v24H0V0z\" fill=\"none\"/>\n",
              "    <path d=\"M18.56 5.44l.94 2.06.94-2.06 2.06-.94-2.06-.94-.94-2.06-.94 2.06-2.06.94zm-11 1L8.5 8.5l.94-2.06 2.06-.94-2.06-.94L8.5 2.5l-.94 2.06-2.06.94zm10 10l.94 2.06.94-2.06 2.06-.94-2.06-.94-.94-2.06-.94 2.06-2.06.94z\"/><path d=\"M17.41 7.96l-1.37-1.37c-.4-.4-.92-.59-1.43-.59-.52 0-1.04.2-1.43.59L10.3 9.45l-7.72 7.72c-.78.78-.78 2.05 0 2.83L4 21.41c.39.39.9.59 1.41.59.51 0 1.02-.2 1.41-.59l7.78-7.78 2.81-2.81c.8-.78.8-2.07 0-2.86zM5.41 20L4 18.59l7.72-7.72 1.47 1.35L5.41 20z\"/>\n",
              "  </svg>\n",
              "      </button>\n",
              "      \n",
              "  <style>\n",
              "    .colab-df-container {\n",
              "      display:flex;\n",
              "      flex-wrap:wrap;\n",
              "      gap: 12px;\n",
              "    }\n",
              "\n",
              "    .colab-df-convert {\n",
              "      background-color: #E8F0FE;\n",
              "      border: none;\n",
              "      border-radius: 50%;\n",
              "      cursor: pointer;\n",
              "      display: none;\n",
              "      fill: #1967D2;\n",
              "      height: 32px;\n",
              "      padding: 0 0 0 0;\n",
              "      width: 32px;\n",
              "    }\n",
              "\n",
              "    .colab-df-convert:hover {\n",
              "      background-color: #E2EBFA;\n",
              "      box-shadow: 0px 1px 2px rgba(60, 64, 67, 0.3), 0px 1px 3px 1px rgba(60, 64, 67, 0.15);\n",
              "      fill: #174EA6;\n",
              "    }\n",
              "\n",
              "    [theme=dark] .colab-df-convert {\n",
              "      background-color: #3B4455;\n",
              "      fill: #D2E3FC;\n",
              "    }\n",
              "\n",
              "    [theme=dark] .colab-df-convert:hover {\n",
              "      background-color: #434B5C;\n",
              "      box-shadow: 0px 1px 3px 1px rgba(0, 0, 0, 0.15);\n",
              "      filter: drop-shadow(0px 1px 2px rgba(0, 0, 0, 0.3));\n",
              "      fill: #FFFFFF;\n",
              "    }\n",
              "  </style>\n",
              "\n",
              "      <script>\n",
              "        const buttonEl =\n",
              "          document.querySelector('#df-5f78ecf9-d791-459d-9305-4ff16dab7d75 button.colab-df-convert');\n",
              "        buttonEl.style.display =\n",
              "          google.colab.kernel.accessAllowed ? 'block' : 'none';\n",
              "\n",
              "        async function convertToInteractive(key) {\n",
              "          const element = document.querySelector('#df-5f78ecf9-d791-459d-9305-4ff16dab7d75');\n",
              "          const dataTable =\n",
              "            await google.colab.kernel.invokeFunction('convertToInteractive',\n",
              "                                                     [key], {});\n",
              "          if (!dataTable) return;\n",
              "\n",
              "          const docLinkHtml = 'Like what you see? Visit the ' +\n",
              "            '<a target=\"_blank\" href=https://colab.research.google.com/notebooks/data_table.ipynb>data table notebook</a>'\n",
              "            + ' to learn more about interactive tables.';\n",
              "          element.innerHTML = '';\n",
              "          dataTable['output_type'] = 'display_data';\n",
              "          await google.colab.output.renderOutput(dataTable, element);\n",
              "          const docLink = document.createElement('div');\n",
              "          docLink.innerHTML = docLinkHtml;\n",
              "          element.appendChild(docLink);\n",
              "        }\n",
              "      </script>\n",
              "    </div>\n",
              "  </div>\n",
              "  "
            ],
            "text/plain": [
              "               card_name  ...                                              image\n",
              "0         Ankh of Mishra  ...  https://gatherer.wizards.com/Handlers/Image.as...\n",
              "1        Basalt Monolith  ...  https://gatherer.wizards.com/Handlers/Image.as...\n",
              "2            Black Lotus  ...  https://gatherer.wizards.com/Handlers/Image.as...\n",
              "3             Black Vise  ...  https://gatherer.wizards.com/Handlers/Image.as...\n",
              "4        Celestial Prism  ...  https://gatherer.wizards.com/Handlers/Image.as...\n",
              "..                   ...  ...                                                ...\n",
              "95      Animate Artifact  ...  https://gatherer.wizards.com/Handlers/Image.as...\n",
              "96  Blue Elemental Blast  ...  https://gatherer.wizards.com/Handlers/Image.as...\n",
              "97           Braingeyser  ...  https://gatherer.wizards.com/Handlers/Image.as...\n",
              "98                 Clone  ...  https://gatherer.wizards.com/Handlers/Image.as...\n",
              "99         Control Magic  ...  https://gatherer.wizards.com/Handlers/Image.as...\n",
              "\n",
              "[100 rows x 9 columns]"
            ]
          },
          "metadata": {},
          "execution_count": 160
        }
      ]
    },
    {
      "cell_type": "code",
      "source": [
        "df.to_csv(\"magic_dataset.csv\", sep=';', index=False, encoding='utf-8-sig')"
      ],
      "metadata": {
        "id": "xAGmOW99e9ca"
      },
      "execution_count": 161,
      "outputs": []
    }
  ]
}